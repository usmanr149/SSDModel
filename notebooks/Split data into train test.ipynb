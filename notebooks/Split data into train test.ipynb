{
 "cells": [
  {
   "cell_type": "code",
   "execution_count": 14,
   "id": "7dfc5786",
   "metadata": {},
   "outputs": [],
   "source": [
    "import pandas as pd\n",
    "import glob, os"
   ]
  },
  {
   "cell_type": "code",
   "execution_count": 7,
   "id": "9dd12cf0",
   "metadata": {},
   "outputs": [],
   "source": [
    "file_names = glob.glob('/home/usman/workspace/fisheye_images/box_2d_annotations/*.txt')\n",
    "\n",
    "# list_IDs = []\n",
    "\n",
    "# for file_name in file_names:\n",
    "#     f = open(file_name)\n",
    "#     lines = f.readlines()\n",
    "#     if len(lines) == 0:\n",
    "#         list_IDs.append(file_name)\n",
    "\n",
    "# list_IDs = [f.split('/')[-1].replace('.txt', '') for f in list_IDs]\n",
    "\n",
    "list_IDs = [f.split('/')[-1].replace('.txt', '') for f in file_names]"
   ]
  },
  {
   "cell_type": "code",
   "execution_count": 8,
   "id": "2b95b6f1",
   "metadata": {},
   "outputs": [],
   "source": [
    "df = pd.DataFrame({'filename': list_IDs})"
   ]
  },
  {
   "cell_type": "code",
   "execution_count": 10,
   "id": "97435985",
   "metadata": {},
   "outputs": [],
   "source": [
    "df_train = df[:7000]\n",
    "df_test = df[7000:]"
   ]
  },
  {
   "cell_type": "code",
   "execution_count": 11,
   "id": "5aa85d4f",
   "metadata": {},
   "outputs": [],
   "source": [
    "import shutil"
   ]
  },
  {
   "cell_type": "code",
   "execution_count": 16,
   "id": "65d474d1",
   "metadata": {},
   "outputs": [],
   "source": [
    "read_data_from = '/home/usman/workspace/fisheye_images/rgb_images/'\n",
    "write_to = '/home/usman/workspace/fisheye_images/train_images'\n",
    "\n",
    "for t in df_train.itertuples():\n",
    "    src = os.path.join(read_data_from, t.filename + '.png')\n",
    "    dst = os.path.join(write_to, t.filename + '.png')\n",
    "    shutil.copy(src, dst)"
   ]
  },
  {
   "cell_type": "code",
   "execution_count": 18,
   "id": "4e88d769",
   "metadata": {},
   "outputs": [],
   "source": [
    "read_data_from = '/home/usman/workspace/fisheye_images/box_2d_annotations/'\n",
    "write_to = '/home/usman/workspace/fisheye_images/train_labels/'\n",
    "\n",
    "for t in df_train.itertuples():\n",
    "    src = os.path.join(read_data_from, t.filename + '.txt')\n",
    "    dst = os.path.join(write_to, t.filename + '.txt')\n",
    "    shutil.copy(src, dst)"
   ]
  },
  {
   "cell_type": "code",
   "execution_count": 17,
   "id": "f15cf315",
   "metadata": {},
   "outputs": [],
   "source": [
    "read_data_from = '/home/usman/workspace/fisheye_images/rgb_images/'\n",
    "write_to = '/home/usman/workspace/fisheye_images/test_images/'\n",
    "\n",
    "for t in df_test.itertuples():\n",
    "    src = os.path.join(read_data_from, t.filename + '.png')\n",
    "    dst = os.path.join(write_to, t.filename + '.png')\n",
    "    shutil.copy(src, dst)"
   ]
  },
  {
   "cell_type": "code",
   "execution_count": 19,
   "id": "80ed1d86",
   "metadata": {},
   "outputs": [],
   "source": [
    "read_data_from = '/home/usman/workspace/fisheye_images/box_2d_annotations/'\n",
    "write_to = '/home/usman/workspace/fisheye_images/test_labels/'\n",
    "\n",
    "for t in df_test.itertuples():\n",
    "    src = os.path.join(read_data_from, t.filename + '.txt')\n",
    "    dst = os.path.join(write_to, t.filename + '.txt')\n",
    "    shutil.copy(src, dst)"
   ]
  },
  {
   "cell_type": "code",
   "execution_count": null,
   "id": "fc9ee87b",
   "metadata": {},
   "outputs": [],
   "source": []
  }
 ],
 "metadata": {
  "kernelspec": {
   "display_name": "tf2.0",
   "language": "python",
   "name": "tf2.0"
  },
  "language_info": {
   "codemirror_mode": {
    "name": "ipython",
    "version": 3
   },
   "file_extension": ".py",
   "mimetype": "text/x-python",
   "name": "python",
   "nbconvert_exporter": "python",
   "pygments_lexer": "ipython3",
   "version": "3.9.13"
  }
 },
 "nbformat": 4,
 "nbformat_minor": 5
}
