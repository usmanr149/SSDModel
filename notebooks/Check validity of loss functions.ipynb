{
 "cells": [
  {
   "cell_type": "markdown",
   "id": "f1054f45",
   "metadata": {},
   "source": [
    "# Localization Loss\n",
    "\n"
   ]
  },
  {
   "cell_type": "code",
   "execution_count": 1,
   "id": "3fddfa13",
   "metadata": {},
   "outputs": [],
   "source": [
    "import tensorflow as tf"
   ]
  },
  {
   "cell_type": "code",
   "execution_count": 2,
   "id": "81e3eb38",
   "metadata": {},
   "outputs": [],
   "source": [
    "%load_ext autoreload\n",
    "%autoreload 2\n",
    "\n",
    "import sys\n",
    " \n",
    "# setting path\n",
    "sys.path.append('../read_data/')\n",
    "sys.path.append('../')"
   ]
  },
  {
   "cell_type": "code",
   "execution_count": 3,
   "id": "2a90faf6",
   "metadata": {},
   "outputs": [],
   "source": [
    "import numpy as np\n",
    "import matplotlib.pyplot as plt\n",
    "\n",
    "import cv2"
   ]
  },
  {
   "cell_type": "code",
   "execution_count": 4,
   "id": "62b62241",
   "metadata": {},
   "outputs": [],
   "source": [
    "# Assuse we have a 8 x 8 box divided into 2 x 2 prior boxes\n",
    "\n",
    "image_size = 32\n",
    "boxes = []\n",
    "prior_boxes = []\n",
    "default_box_size  = 4\n",
    "\n",
    "for i in range(0, image_size // default_box_size,):\n",
    "    for j in range(0, image_size // default_box_size):\n",
    "        boxes.append([ j * default_box_size, i * default_box_size, \n",
    "                            (j + 1) * default_box_size, (i + 1) * default_box_size ])\n",
    "        prior_boxes.append( [ j * default_box_size + default_box_size // 2, i * default_box_size + default_box_size // 2, default_box_size, default_box_size ] )\n",
    "        \n",
    "# gt_boxes = [6, 6, 14, 13]\n",
    "# gt_boxes = [[4, 4, 9, 9], [9, 9, 14 , 14], [24, 24, 29, 29]]\n",
    "\n",
    "# boxes with IOU < 0.5\n",
    "gt_boxes = [[4, 4, 11, 11], [9, 9, 14 , 14], [24, 24, 31, 31]]"
   ]
  },
  {
   "cell_type": "code",
   "execution_count": 5,
   "id": "1e77b4ae",
   "metadata": {},
   "outputs": [
    {
     "data": {
      "text/plain": [
       "[26, 26, 4, 4]"
      ]
     },
     "execution_count": 5,
     "metadata": {},
     "output_type": "execute_result"
    }
   ],
   "source": [
    "prior_boxes[54]"
   ]
  },
  {
   "cell_type": "code",
   "execution_count": 6,
   "id": "d5c722ea",
   "metadata": {},
   "outputs": [
    {
     "name": "stderr",
     "output_type": "stream",
     "text": [
      "Clipping input data to the valid range for imshow with RGB data ([0..1] for floats or [0..255] for integers).\n"
     ]
    },
    {
     "data": {
      "text/plain": [
       "<matplotlib.image.AxesImage at 0x159766730>"
      ]
     },
     "execution_count": 6,
     "metadata": {},
     "output_type": "execute_result"
    },
    {
     "data": {
      "image/png": "[encoded data removed]",
      "text/plain": [
       "<Figure size 432x288 with 1 Axes>"
      ]
     },
     "metadata": {
      "needs_background": "light"
     },
     "output_type": "display_data"
    }
   ],
   "source": [
    "image = np.ones((image_size + 1, image_size + 1, 3))\n",
    "\n",
    "for box in boxes:\n",
    "    \n",
    "    start_x, start_y, end_x, end_y = box\n",
    "    \n",
    "    image = cv2.rectangle(image, [start_x, start_y], [end_x, end_y], (255, 0 , 0), thickness = 1)\n",
    "\n",
    "for box in gt_boxes:\n",
    "    \n",
    "    start_x, start_y, end_x, end_y = box  \n",
    "    image = cv2.rectangle(image, [start_x, start_y], [end_x, end_y], (255, 0, 255), thickness = 1)\n",
    "\n",
    "plt.imshow(image)"
   ]
  },
  {
   "cell_type": "code",
   "execution_count": null,
   "id": "3a259a39",
   "metadata": {},
   "outputs": [],
   "source": []
  },
  {
   "cell_type": "code",
   "execution_count": 7,
   "id": "3a6f4adb",
   "metadata": {},
   "outputs": [],
   "source": [
    "boxes = np.array(boxes, np.float32) / image_size\n",
    "prior_boxes = np.array(prior_boxes, np.float32) / image_size\n",
    "gt_boxes = np.array([gt_boxes], np.float32) / image_size\n",
    "gt_labels = [1, 2, 1]"
   ]
  },
  {
   "cell_type": "code",
   "execution_count": 8,
   "id": "90e45697",
   "metadata": {},
   "outputs": [
    {
     "data": {
      "text/plain": [
       "array([[[0.125  , 0.125  , 0.34375, 0.34375],\n",
       "        [0.28125, 0.28125, 0.4375 , 0.4375 ],\n",
       "        [0.75   , 0.75   , 0.96875, 0.96875]]], dtype=float32)"
      ]
     },
     "execution_count": 8,
     "metadata": {},
     "output_type": "execute_result"
    }
   ],
   "source": [
    "gt_boxes"
   ]
  },
  {
   "cell_type": "code",
   "execution_count": 9,
   "id": "294b157e",
   "metadata": {},
   "outputs": [
    {
     "name": "stdout",
     "output_type": "stream",
     "text": [
      "(64, 4)\n",
      "(64, 4)\n",
      "(1, 3, 4)\n"
     ]
    }
   ],
   "source": [
    "print(prior_boxes.shape)\n",
    "print(boxes.shape)\n",
    "print(gt_boxes.shape)"
   ]
  },
  {
   "cell_type": "code",
   "execution_count": 10,
   "id": "9897e541",
   "metadata": {},
   "outputs": [],
   "source": [
    "from bbox_utils import box_overlap_iou, convert_to_centre_dimensions_form, calculate_offset_from_gt"
   ]
  },
  {
   "cell_type": "code",
   "execution_count": 11,
   "id": "06eedfae",
   "metadata": {},
   "outputs": [
    {
     "name": "stderr",
     "output_type": "stream",
     "text": [
      "2022-09-04 17:44:26.004185: I tensorflow/core/platform/cpu_feature_guard.cc:193] This TensorFlow binary is optimized with oneAPI Deep Neural Network Library (oneDNN) to use the following CPU instructions in performance-critical operations:  AVX2 FMA\n",
      "To enable them in other operations, rebuild TensorFlow with the appropriate compiler flags.\n"
     ]
    }
   ],
   "source": [
    "box_x_min, box_y_min, box_x_max, box_y_max = tf.split(boxes, 4, axis = 1)\n",
    "gt_boxes_x_min, gt_boxes_y_min, gt_boxes_x_max, gt_boxes_y_max = tf.split(gt_boxes, 4, axis = 2)\n",
    "\n",
    "intersection_x_min = tf.maximum(box_x_min, tf.transpose(gt_boxes_x_min, perm=[0, 2, 1]))\n",
    "intersection_y_min = tf.maximum(box_y_min, tf.transpose(gt_boxes_y_min, perm=[0, 2, 1]))\n",
    "\n",
    "intersection_x_max = tf.minimum(box_x_max, tf.transpose(gt_boxes_x_max, perm=[0, 2, 1]))\n",
    "intersection_y_max = tf.minimum(box_y_max, tf.transpose(gt_boxes_y_max, perm=[0, 2, 1]))\n",
    "\n",
    "# need to take care of boxes that don't overlap at all\n",
    "intersection_area = tf.maximum(intersection_x_max - intersection_x_min, 0) * tf.maximum(intersection_y_max - intersection_y_min, 0)\n",
    "\n",
    "boxes_areas = (box_x_max - box_x_min) * (box_y_max - box_y_min)\n",
    "gt_box_areas = (gt_boxes_x_max - gt_boxes_x_min) * (gt_boxes_y_max - gt_boxes_y_min)\n",
    "\n",
    "union = (boxes_areas + tf.transpose(gt_box_areas, perm=[0, 2, 1])) - intersection_area"
   ]
  },
  {
   "cell_type": "code",
   "execution_count": 12,
   "id": "76562633",
   "metadata": {},
   "outputs": [],
   "source": [
    "# union"
   ]
  },
  {
   "cell_type": "code",
   "execution_count": 13,
   "id": "3e6e8bb7",
   "metadata": {},
   "outputs": [],
   "source": [
    "threshold = 0.5\n",
    "number_of_labels = 3"
   ]
  },
  {
   "cell_type": "code",
   "execution_count": 14,
   "id": "ec01ce7e",
   "metadata": {},
   "outputs": [],
   "source": [
    "# number of rows for the IOU map the is the number of gt_boxes\n",
    "IOU_map = box_overlap_iou(boxes, gt_boxes)\n",
    "\n",
    "# convert ground boxes labels to box label format\n",
    "gt_box_label = convert_to_centre_dimensions_form(gt_boxes)\n",
    "\n",
    "# select the box with the highest IOU\n",
    "highest_overlap_idx = tf.math.argmax(IOU_map, axis = 1)\n",
    "highest_overlap_idx = tf.cast(highest_overlap_idx, tf.int32)\n",
    "idx = tf.range(IOU_map.shape[1])\n",
    "highest_overlap_idx_map = tf.expand_dims(tf.equal(idx, tf.transpose(highest_overlap_idx)), axis = 0)\n",
    "IOU_map = tf.where(tf.transpose(highest_overlap_idx_map, perm=[0,2,1]), tf.constant(1.0), IOU_map)\n",
    "\n",
    "# find the column idx with the highest IOU at each row\n",
    "max_IOU_idx_per_row = tf.math.argmax(IOU_map, axis = 2)\n",
    "# find the max value per row\n",
    "max_IOU_per_row = tf.reduce_max(IOU_map, axis = 2)\n",
    "\n",
    "# threshold IOU\n",
    "max_IOU_above_threshold = tf.greater(max_IOU_per_row, threshold)\n",
    "\n",
    "# map the gt boxes to the prior boxes with the highest overlap\n",
    "gt_box_label_map = tf.gather(gt_box_label, max_IOU_idx_per_row, batch_dims = 1)\n",
    "# get the offset, offcet (delta_cx, delta_cy, delta_width, delta_height)\n",
    "gt_box_label_map_offsets = calculate_offset_from_gt(gt_box_label_map, prior_boxes)\n",
    "# remove from gt_boxes_map where overlap with prior boxes is less than 0.5\n",
    "gt_boxes_map_offset_suppressed = tf.where( tf.expand_dims(max_IOU_above_threshold, -1),  \n",
    "                                    gt_box_label_map_offsets, tf.zeros_like(gt_box_label_map))\n",
    "# add a positive condition column for the localization loss\n",
    "max_IOU_above_threshold_expand = tf.expand_dims(max_IOU_above_threshold, -1)\n",
    "max_IOU_above_threshold_expand = tf.cast(max_IOU_above_threshold_expand, tf.float32)\n",
    "gt_boxes_map_offset_suppressed_with_pos_cond = tf.concat([  gt_boxes_map_offset_suppressed, \n",
    "                                                            max_IOU_above_threshold_expand ], axis = 2)\n",
    "\n",
    "gt_labels_map = tf.gather(gt_labels, max_IOU_idx_per_row, batch_dims = 0)\n",
    "# suppress the label where IOU with the gt boxes is < 0.5\n",
    "gt_labels_map_suppressed = tf.where( max_IOU_above_threshold, \n",
    "                                    gt_labels_map, tf.zeros_like(gt_labels_map))\n",
    "gt_labels_one_hot_encoded = tf.one_hot(gt_labels_map_suppressed, number_of_labels)"
   ]
  },
  {
   "cell_type": "code",
   "execution_count": 15,
   "id": "e67f8e5d",
   "metadata": {},
   "outputs": [
    {
     "data": {
      "text/plain": [
       "<tf.Tensor: shape=(1, 64), dtype=int32, numpy=\n",
       "array([[0, 0, 0, 0, 0, 0, 0, 0, 0, 1, 0, 0, 0, 0, 0, 0, 0, 0, 2, 0, 0, 0,\n",
       "        0, 0, 0, 0, 0, 0, 0, 0, 0, 0, 0, 0, 0, 0, 0, 0, 0, 0, 0, 0, 0, 0,\n",
       "        0, 0, 0, 0, 0, 0, 0, 0, 0, 0, 1, 0, 0, 0, 0, 0, 0, 0, 0, 0]],\n",
       "      dtype=int32)>"
      ]
     },
     "execution_count": 15,
     "metadata": {},
     "output_type": "execute_result"
    }
   ],
   "source": [
    "gt_labels_map_suppressed"
   ]
  },
  {
   "cell_type": "code",
   "execution_count": 16,
   "id": "cc447aba",
   "metadata": {},
   "outputs": [
    {
     "data": {
      "text/plain": [
       "<tf.Tensor: shape=(1, 3), dtype=int32, numpy=array([[ 9, 18, 54]], dtype=int32)>"
      ]
     },
     "execution_count": 16,
     "metadata": {},
     "output_type": "execute_result"
    }
   ],
   "source": [
    "highest_overlap_idx = tf.math.argmax(IOU_map, axis = 1)\n",
    "highest_overlap_idx = tf.cast(highest_overlap_idx, tf.int32)\n",
    "\n",
    "highest_overlap_idx"
   ]
  },
  {
   "cell_type": "code",
   "execution_count": null,
   "id": "afdcdcb2",
   "metadata": {},
   "outputs": [],
   "source": []
  },
  {
   "cell_type": "code",
   "execution_count": null,
   "id": "8b446fda",
   "metadata": {},
   "outputs": [],
   "source": []
  },
  {
   "cell_type": "code",
   "execution_count": null,
   "id": "80cfc6fe",
   "metadata": {},
   "outputs": [],
   "source": []
  },
  {
   "cell_type": "code",
   "execution_count": null,
   "id": "c4d10c3b",
   "metadata": {},
   "outputs": [],
   "source": []
  },
  {
   "cell_type": "code",
   "execution_count": 17,
   "id": "5b1e4da6",
   "metadata": {},
   "outputs": [],
   "source": [
    "max_IOU_above_threshold = tf.greater(max_IOU_per_row, threshold)\n",
    "idx = tf.range(IOU_map.shape[1])\n",
    "highest_overlap_idx_map = tf.expand_dims(tf.equal(idx, tf.transpose(highest_overlap_idx)), axis = 0)\n",
    "IOU_map = tf.where(tf.transpose(highest_overlap_idx_map, perm=[0,2,1]), tf.constant(1.0), IOU_map)"
   ]
  },
  {
   "cell_type": "code",
   "execution_count": 18,
   "id": "90741676",
   "metadata": {},
   "outputs": [
    {
     "data": {
      "text/plain": [
       "<tf.Tensor: shape=(1, 64, 3), dtype=bool, numpy=\n",
       "array([[[False, False, False],\n",
       "        [False, False, False],\n",
       "        [False, False, False],\n",
       "        [False, False, False],\n",
       "        [False, False, False],\n",
       "        [False, False, False],\n",
       "        [False, False, False],\n",
       "        [False, False, False],\n",
       "        [False, False, False],\n",
       "        [ True, False, False],\n",
       "        [False, False, False],\n",
       "        [False, False, False],\n",
       "        [False, False, False],\n",
       "        [False, False, False],\n",
       "        [False, False, False],\n",
       "        [False, False, False],\n",
       "        [False, False, False],\n",
       "        [False, False, False],\n",
       "        [False,  True, False],\n",
       "        [False, False, False],\n",
       "        [False, False, False],\n",
       "        [False, False, False],\n",
       "        [False, False, False],\n",
       "        [False, False, False],\n",
       "        [False, False, False],\n",
       "        [False, False, False],\n",
       "        [False, False, False],\n",
       "        [False, False, False],\n",
       "        [False, False, False],\n",
       "        [False, False, False],\n",
       "        [False, False, False],\n",
       "        [False, False, False],\n",
       "        [False, False, False],\n",
       "        [False, False, False],\n",
       "        [False, False, False],\n",
       "        [False, False, False],\n",
       "        [False, False, False],\n",
       "        [False, False, False],\n",
       "        [False, False, False],\n",
       "        [False, False, False],\n",
       "        [False, False, False],\n",
       "        [False, False, False],\n",
       "        [False, False, False],\n",
       "        [False, False, False],\n",
       "        [False, False, False],\n",
       "        [False, False, False],\n",
       "        [False, False, False],\n",
       "        [False, False, False],\n",
       "        [False, False, False],\n",
       "        [False, False, False],\n",
       "        [False, False, False],\n",
       "        [False, False, False],\n",
       "        [False, False, False],\n",
       "        [False, False, False],\n",
       "        [False, False,  True],\n",
       "        [False, False, False],\n",
       "        [False, False, False],\n",
       "        [False, False, False],\n",
       "        [False, False, False],\n",
       "        [False, False, False],\n",
       "        [False, False, False],\n",
       "        [False, False, False],\n",
       "        [False, False, False],\n",
       "        [False, False, False]]])>"
      ]
     },
     "execution_count": 18,
     "metadata": {},
     "output_type": "execute_result"
    }
   ],
   "source": [
    "tf.transpose(highest_overlap_idx_map, perm=[0,2,1])"
   ]
  },
  {
   "cell_type": "code",
   "execution_count": null,
   "id": "848941a3",
   "metadata": {},
   "outputs": [],
   "source": []
  },
  {
   "cell_type": "code",
   "execution_count": null,
   "id": "0b8a1191",
   "metadata": {},
   "outputs": [],
   "source": []
  },
  {
   "cell_type": "code",
   "execution_count": null,
   "id": "a74d0425",
   "metadata": {},
   "outputs": [],
   "source": []
  },
  {
   "cell_type": "code",
   "execution_count": null,
   "id": "89ed22c8",
   "metadata": {},
   "outputs": [],
   "source": []
  },
  {
   "cell_type": "code",
   "execution_count": null,
   "id": "b2e7b71f",
   "metadata": {},
   "outputs": [],
   "source": []
  },
  {
   "cell_type": "code",
   "execution_count": null,
   "id": "927f2185",
   "metadata": {},
   "outputs": [],
   "source": []
  },
  {
   "cell_type": "code",
   "execution_count": 19,
   "id": "5103a49b",
   "metadata": {},
   "outputs": [
    {
     "data": {
      "text/plain": [
       "<tf.Tensor: shape=(1, 3, 64), dtype=bool, numpy=\n",
       "array([[[False, False, False, False, False, False, False, False, False,\n",
       "          True, False, False, False, False, False, False, False, False,\n",
       "         False, False, False, False, False, False, False, False, False,\n",
       "         False, False, False, False, False, False, False, False, False,\n",
       "         False, False, False, False, False, False, False, False, False,\n",
       "         False, False, False, False, False, False, False, False, False,\n",
       "         False, False, False, False, False, False, False, False, False,\n",
       "         False],\n",
       "        [False, False, False, False, False, False, False, False, False,\n",
       "         False, False, False, False, False, False, False, False, False,\n",
       "          True, False, False, False, False, False, False, False, False,\n",
       "         False, False, False, False, False, False, False, False, False,\n",
       "         False, False, False, False, False, False, False, False, False,\n",
       "         False, False, False, False, False, False, False, False, False,\n",
       "         False, False, False, False, False, False, False, False, False,\n",
       "         False],\n",
       "        [False, False, False, False, False, False, False, False, False,\n",
       "         False, False, False, False, False, False, False, False, False,\n",
       "         False, False, False, False, False, False, False, False, False,\n",
       "         False, False, False, False, False, False, False, False, False,\n",
       "         False, False, False, False, False, False, False, False, False,\n",
       "         False, False, False, False, False, False, False, False, False,\n",
       "          True, False, False, False, False, False, False, False, False,\n",
       "         False]]])>"
      ]
     },
     "execution_count": 19,
     "metadata": {},
     "output_type": "execute_result"
    }
   ],
   "source": [
    "idx = tf.range(IOU_map.shape[1])\n",
    "tf.expand_dims(tf.equal(idx, tf.transpose(highest_overlap_idx)), axis = 0)"
   ]
  },
  {
   "cell_type": "code",
   "execution_count": 20,
   "id": "f60c9ee0",
   "metadata": {},
   "outputs": [],
   "source": [
    "highest_overlap_idx = tf.math.argmax(IOU_map, axis = 1)\n",
    "\n",
    "highest_overlap_idx = tf.cast(highest_overlap_idx, tf.int32)"
   ]
  },
  {
   "cell_type": "code",
   "execution_count": 21,
   "id": "a32df4d9",
   "metadata": {},
   "outputs": [
    {
     "data": {
      "text/plain": [
       "<tf.Tensor: shape=(1, 3), dtype=int32, numpy=array([[ 9, 18, 54]], dtype=int32)>"
      ]
     },
     "execution_count": 21,
     "metadata": {},
     "output_type": "execute_result"
    }
   ],
   "source": [
    "highest_overlap_idx"
   ]
  },
  {
   "cell_type": "code",
   "execution_count": 22,
   "id": "61b4f536",
   "metadata": {},
   "outputs": [
    {
     "data": {
      "text/plain": [
       "<tf.Tensor: shape=(1, 3), dtype=bool, numpy=array([[ True,  True,  True]])>"
      ]
     },
     "execution_count": 22,
     "metadata": {},
     "output_type": "execute_result"
    }
   ],
   "source": [
    "tf.not_equal(highest_overlap_idx, tf.constant(0))"
   ]
  },
  {
   "cell_type": "code",
   "execution_count": 23,
   "id": "eface595",
   "metadata": {},
   "outputs": [
    {
     "data": {
      "text/plain": [
       "<tf.Tensor: shape=(4,), dtype=float32, numpy=array([0.234375, 0.234375, 0.21875 , 0.21875 ], dtype=float32)>"
      ]
     },
     "execution_count": 23,
     "metadata": {},
     "output_type": "execute_result"
    }
   ],
   "source": [
    "gt_box_label_map[0, 0, :]"
   ]
  },
  {
   "cell_type": "code",
   "execution_count": 24,
   "id": "7a62f5a7",
   "metadata": {},
   "outputs": [],
   "source": [
    "prior_boxes_testing = tf.expand_dims(prior_boxes, axis=0)\n",
    "# (gt_box_label_map[:, :, 0] - prior_boxes_testing[:, :, 0]) / prior_boxes_testing[:, :, 0]\n",
    "\n",
    "g_j_cx = (gt_box_label_map[:, :, 0] - prior_boxes_testing[:, :, 0]) / prior_boxes_testing[:, :, 2]\n",
    "g_j_cy = (gt_box_label_map[:, :, 1] - prior_boxes_testing[:, :, 1]) / prior_boxes_testing[:, :, 3]\n",
    "g_j_w = tf.math.log(gt_box_label_map[:, :, 2] / prior_boxes_testing[:, :, 2])\n",
    "g_j_h = tf.math.log(gt_box_label_map[:, :, 3] / prior_boxes_testing[:, :, 3])\n",
    "\n",
    "offset = tf.concat( [ g_j_cx, g_j_cy, g_j_w, g_j_h ] , axis = 0)"
   ]
  },
  {
   "cell_type": "code",
   "execution_count": 25,
   "id": "56cf1684",
   "metadata": {},
   "outputs": [
    {
     "name": "stdout",
     "output_type": "stream",
     "text": [
      "tf.Tensor([0.859375 0.859375 0.21875  0.21875 ], shape=(4,), dtype=float32)\n",
      "tf.Tensor([0.8125 0.8125 0.125  0.125 ], shape=(4,), dtype=float32)\n"
     ]
    },
    {
     "data": {
      "text/plain": [
       "<tf.Tensor: shape=(4,), dtype=float32, numpy=array([0.046875, 0.046875, 0.09375 , 0.09375 ], dtype=float32)>"
      ]
     },
     "execution_count": 25,
     "metadata": {},
     "output_type": "execute_result"
    }
   ],
   "source": [
    "print(gt_box_label_map[0, 54])\n",
    "print(prior_boxes_testing[0, 54])\n",
    "(gt_box_label_map[0, 54] - prior_boxes_testing[0, 54]) #/ prior_boxes_testing[0, 54]"
   ]
  },
  {
   "cell_type": "code",
   "execution_count": 26,
   "id": "269ebd3d",
   "metadata": {},
   "outputs": [
    {
     "data": {
      "text/plain": [
       "<tf.Tensor: shape=(4,), dtype=float32, numpy=array([0.8125, 0.8125, 0.125 , 0.125 ], dtype=float32)>"
      ]
     },
     "execution_count": 26,
     "metadata": {},
     "output_type": "execute_result"
    }
   ],
   "source": [
    "prior_boxes_testing[0, 54]"
   ]
  },
  {
   "cell_type": "code",
   "execution_count": 27,
   "id": "da5a72d4",
   "metadata": {},
   "outputs": [
    {
     "name": "stdout",
     "output_type": "stream",
     "text": [
      "tf.Tensor(0.375, shape=(), dtype=float32)\n",
      "tf.Tensor(0.375, shape=(), dtype=float32)\n",
      "tf.Tensor(0.5596158, shape=(), dtype=float32)\n",
      "tf.Tensor(0.5596158, shape=(), dtype=float32)\n"
     ]
    }
   ],
   "source": [
    "print(g_j_cx[0, 54])\n",
    "print(g_j_cy[0, 54])\n",
    "print(g_j_w[0, 54])\n",
    "print(g_j_h[0, 54])\n",
    "# offset[0, 54]"
   ]
  },
  {
   "cell_type": "code",
   "execution_count": null,
   "id": "90e2d0bc",
   "metadata": {},
   "outputs": [],
   "source": []
  },
  {
   "cell_type": "code",
   "execution_count": null,
   "id": "1b970dca",
   "metadata": {},
   "outputs": [],
   "source": []
  },
  {
   "cell_type": "code",
   "execution_count": null,
   "id": "c9c0193c",
   "metadata": {},
   "outputs": [],
   "source": []
  },
  {
   "cell_type": "code",
   "execution_count": null,
   "id": "d09ecc73",
   "metadata": {},
   "outputs": [],
   "source": []
  },
  {
   "cell_type": "code",
   "execution_count": null,
   "id": "436b906e",
   "metadata": {},
   "outputs": [],
   "source": []
  },
  {
   "cell_type": "code",
   "execution_count": 28,
   "id": "d67dded2",
   "metadata": {},
   "outputs": [
    {
     "data": {
      "text/plain": [
       "<tf.Tensor: shape=(1, 64, 4), dtype=float32, numpy=\n",
       "array([[[ 1.375     ,  1.375     ,  0.5596158 ,  0.5596158 ],\n",
       "        [ 0.375     ,  1.375     ,  0.5596158 ,  0.5596158 ],\n",
       "        [-0.625     ,  1.375     ,  0.5596158 ,  0.5596158 ],\n",
       "        [-1.625     ,  1.375     ,  0.5596158 ,  0.5596158 ],\n",
       "        [-2.625     ,  1.375     ,  0.5596158 ,  0.5596158 ],\n",
       "        [-3.625     ,  1.375     ,  0.5596158 ,  0.5596158 ],\n",
       "        [-4.625     ,  1.375     ,  0.5596158 ,  0.5596158 ],\n",
       "        [-5.625     ,  1.375     ,  0.5596158 ,  0.5596158 ],\n",
       "        [ 1.375     ,  0.375     ,  0.5596158 ,  0.5596158 ],\n",
       "        [ 0.375     ,  0.375     ,  0.5596158 ,  0.5596158 ],\n",
       "        [-0.625     ,  0.375     ,  0.5596158 ,  0.5596158 ],\n",
       "        [-1.625     ,  0.375     ,  0.5596158 ,  0.5596158 ],\n",
       "        [-2.625     ,  0.375     ,  0.5596158 ,  0.5596158 ],\n",
       "        [-3.625     ,  0.375     ,  0.5596158 ,  0.5596158 ],\n",
       "        [-4.625     ,  0.375     ,  0.5596158 ,  0.5596158 ],\n",
       "        [-5.625     ,  0.375     ,  0.5596158 ,  0.5596158 ],\n",
       "        [ 1.375     , -0.625     ,  0.5596158 ,  0.5596158 ],\n",
       "        [ 0.375     , -0.625     ,  0.5596158 ,  0.5596158 ],\n",
       "        [ 0.375     ,  0.375     ,  0.22314355,  0.22314355],\n",
       "        [-0.625     ,  0.375     ,  0.22314355,  0.22314355],\n",
       "        [-2.625     , -0.625     ,  0.5596158 ,  0.5596158 ],\n",
       "        [-3.625     , -0.625     ,  0.5596158 ,  0.5596158 ],\n",
       "        [-4.625     , -0.625     ,  0.5596158 ,  0.5596158 ],\n",
       "        [-5.625     , -0.625     ,  0.5596158 ,  0.5596158 ],\n",
       "        [ 1.375     , -1.625     ,  0.5596158 ,  0.5596158 ],\n",
       "        [ 0.375     , -1.625     ,  0.5596158 ,  0.5596158 ],\n",
       "        [ 0.375     , -0.625     ,  0.22314355,  0.22314355],\n",
       "        [-0.625     , -0.625     ,  0.22314355,  0.22314355],\n",
       "        [-2.625     , -1.625     ,  0.5596158 ,  0.5596158 ],\n",
       "        [-3.625     , -1.625     ,  0.5596158 ,  0.5596158 ],\n",
       "        [-4.625     , -1.625     ,  0.5596158 ,  0.5596158 ],\n",
       "        [-5.625     , -1.625     ,  0.5596158 ,  0.5596158 ],\n",
       "        [ 1.375     , -2.625     ,  0.5596158 ,  0.5596158 ],\n",
       "        [ 0.375     , -2.625     ,  0.5596158 ,  0.5596158 ],\n",
       "        [-0.625     , -2.625     ,  0.5596158 ,  0.5596158 ],\n",
       "        [-1.625     , -2.625     ,  0.5596158 ,  0.5596158 ],\n",
       "        [-2.625     , -2.625     ,  0.5596158 ,  0.5596158 ],\n",
       "        [-3.625     , -2.625     ,  0.5596158 ,  0.5596158 ],\n",
       "        [-4.625     , -2.625     ,  0.5596158 ,  0.5596158 ],\n",
       "        [-5.625     , -2.625     ,  0.5596158 ,  0.5596158 ],\n",
       "        [ 1.375     , -3.625     ,  0.5596158 ,  0.5596158 ],\n",
       "        [ 0.375     , -3.625     ,  0.5596158 ,  0.5596158 ],\n",
       "        [-0.625     , -3.625     ,  0.5596158 ,  0.5596158 ],\n",
       "        [-1.625     , -3.625     ,  0.5596158 ,  0.5596158 ],\n",
       "        [-2.625     , -3.625     ,  0.5596158 ,  0.5596158 ],\n",
       "        [-3.625     , -3.625     ,  0.5596158 ,  0.5596158 ],\n",
       "        [-4.625     , -3.625     ,  0.5596158 ,  0.5596158 ],\n",
       "        [-5.625     , -3.625     ,  0.5596158 ,  0.5596158 ],\n",
       "        [ 1.375     , -4.625     ,  0.5596158 ,  0.5596158 ],\n",
       "        [ 0.375     , -4.625     ,  0.5596158 ,  0.5596158 ],\n",
       "        [-0.625     , -4.625     ,  0.5596158 ,  0.5596158 ],\n",
       "        [-1.625     , -4.625     ,  0.5596158 ,  0.5596158 ],\n",
       "        [-2.625     , -4.625     ,  0.5596158 ,  0.5596158 ],\n",
       "        [-3.625     , -4.625     ,  0.5596158 ,  0.5596158 ],\n",
       "        [ 0.375     ,  0.375     ,  0.5596158 ,  0.5596158 ],\n",
       "        [-0.625     ,  0.375     ,  0.5596158 ,  0.5596158 ],\n",
       "        [ 1.375     , -5.625     ,  0.5596158 ,  0.5596158 ],\n",
       "        [ 0.375     , -5.625     ,  0.5596158 ,  0.5596158 ],\n",
       "        [-0.625     , -5.625     ,  0.5596158 ,  0.5596158 ],\n",
       "        [-1.625     , -5.625     ,  0.5596158 ,  0.5596158 ],\n",
       "        [-2.625     , -5.625     ,  0.5596158 ,  0.5596158 ],\n",
       "        [-3.625     , -5.625     ,  0.5596158 ,  0.5596158 ],\n",
       "        [ 0.375     , -0.625     ,  0.5596158 ,  0.5596158 ],\n",
       "        [-0.625     , -0.625     ,  0.5596158 ,  0.5596158 ]]],\n",
       "      dtype=float32)>"
      ]
     },
     "execution_count": 28,
     "metadata": {},
     "output_type": "execute_result"
    }
   ],
   "source": [
    "tf.transpose(tf.expand_dims(offset, axis = 0), perm=[0,2,1])"
   ]
  },
  {
   "cell_type": "code",
   "execution_count": 29,
   "id": "3db777e7",
   "metadata": {},
   "outputs": [
    {
     "data": {
      "text/plain": [
       "<tf.Tensor: shape=(1, 64, 4), dtype=float32, numpy=\n",
       "array([[[ 1.375     ,  1.375     ,  0.5596158 ,  0.5596158 ],\n",
       "        [ 0.375     ,  1.375     ,  0.5596158 ,  0.5596158 ],\n",
       "        [-0.625     ,  1.375     ,  0.5596158 ,  0.5596158 ],\n",
       "        [-1.625     ,  1.375     ,  0.5596158 ,  0.5596158 ],\n",
       "        [-2.625     ,  1.375     ,  0.5596158 ,  0.5596158 ],\n",
       "        [-3.625     ,  1.375     ,  0.5596158 ,  0.5596158 ],\n",
       "        [-4.625     ,  1.375     ,  0.5596158 ,  0.5596158 ],\n",
       "        [-5.625     ,  1.375     ,  0.5596158 ,  0.5596158 ],\n",
       "        [ 1.375     ,  0.375     ,  0.5596158 ,  0.5596158 ],\n",
       "        [ 0.375     ,  0.375     ,  0.5596158 ,  0.5596158 ],\n",
       "        [-0.625     ,  0.375     ,  0.5596158 ,  0.5596158 ],\n",
       "        [-1.625     ,  0.375     ,  0.5596158 ,  0.5596158 ],\n",
       "        [-2.625     ,  0.375     ,  0.5596158 ,  0.5596158 ],\n",
       "        [-3.625     ,  0.375     ,  0.5596158 ,  0.5596158 ],\n",
       "        [-4.625     ,  0.375     ,  0.5596158 ,  0.5596158 ],\n",
       "        [-5.625     ,  0.375     ,  0.5596158 ,  0.5596158 ],\n",
       "        [ 1.375     , -0.625     ,  0.5596158 ,  0.5596158 ],\n",
       "        [ 0.375     , -0.625     ,  0.5596158 ,  0.5596158 ],\n",
       "        [ 0.375     ,  0.375     ,  0.22314355,  0.22314355],\n",
       "        [-0.625     ,  0.375     ,  0.22314355,  0.22314355],\n",
       "        [-2.625     , -0.625     ,  0.5596158 ,  0.5596158 ],\n",
       "        [-3.625     , -0.625     ,  0.5596158 ,  0.5596158 ],\n",
       "        [-4.625     , -0.625     ,  0.5596158 ,  0.5596158 ],\n",
       "        [-5.625     , -0.625     ,  0.5596158 ,  0.5596158 ],\n",
       "        [ 1.375     , -1.625     ,  0.5596158 ,  0.5596158 ],\n",
       "        [ 0.375     , -1.625     ,  0.5596158 ,  0.5596158 ],\n",
       "        [ 0.375     , -0.625     ,  0.22314355,  0.22314355],\n",
       "        [-0.625     , -0.625     ,  0.22314355,  0.22314355],\n",
       "        [-2.625     , -1.625     ,  0.5596158 ,  0.5596158 ],\n",
       "        [-3.625     , -1.625     ,  0.5596158 ,  0.5596158 ],\n",
       "        [-4.625     , -1.625     ,  0.5596158 ,  0.5596158 ],\n",
       "        [-5.625     , -1.625     ,  0.5596158 ,  0.5596158 ],\n",
       "        [ 1.375     , -2.625     ,  0.5596158 ,  0.5596158 ],\n",
       "        [ 0.375     , -2.625     ,  0.5596158 ,  0.5596158 ],\n",
       "        [-0.625     , -2.625     ,  0.5596158 ,  0.5596158 ],\n",
       "        [-1.625     , -2.625     ,  0.5596158 ,  0.5596158 ],\n",
       "        [-2.625     , -2.625     ,  0.5596158 ,  0.5596158 ],\n",
       "        [-3.625     , -2.625     ,  0.5596158 ,  0.5596158 ],\n",
       "        [-4.625     , -2.625     ,  0.5596158 ,  0.5596158 ],\n",
       "        [-5.625     , -2.625     ,  0.5596158 ,  0.5596158 ],\n",
       "        [ 1.375     , -3.625     ,  0.5596158 ,  0.5596158 ],\n",
       "        [ 0.375     , -3.625     ,  0.5596158 ,  0.5596158 ],\n",
       "        [-0.625     , -3.625     ,  0.5596158 ,  0.5596158 ],\n",
       "        [-1.625     , -3.625     ,  0.5596158 ,  0.5596158 ],\n",
       "        [-2.625     , -3.625     ,  0.5596158 ,  0.5596158 ],\n",
       "        [-3.625     , -3.625     ,  0.5596158 ,  0.5596158 ],\n",
       "        [-4.625     , -3.625     ,  0.5596158 ,  0.5596158 ],\n",
       "        [-5.625     , -3.625     ,  0.5596158 ,  0.5596158 ],\n",
       "        [ 1.375     , -4.625     ,  0.5596158 ,  0.5596158 ],\n",
       "        [ 0.375     , -4.625     ,  0.5596158 ,  0.5596158 ],\n",
       "        [-0.625     , -4.625     ,  0.5596158 ,  0.5596158 ],\n",
       "        [-1.625     , -4.625     ,  0.5596158 ,  0.5596158 ],\n",
       "        [-2.625     , -4.625     ,  0.5596158 ,  0.5596158 ],\n",
       "        [-3.625     , -4.625     ,  0.5596158 ,  0.5596158 ],\n",
       "        [ 0.375     ,  0.375     ,  0.5596158 ,  0.5596158 ],\n",
       "        [-0.625     ,  0.375     ,  0.5596158 ,  0.5596158 ],\n",
       "        [ 1.375     , -5.625     ,  0.5596158 ,  0.5596158 ],\n",
       "        [ 0.375     , -5.625     ,  0.5596158 ,  0.5596158 ],\n",
       "        [-0.625     , -5.625     ,  0.5596158 ,  0.5596158 ],\n",
       "        [-1.625     , -5.625     ,  0.5596158 ,  0.5596158 ],\n",
       "        [-2.625     , -5.625     ,  0.5596158 ,  0.5596158 ],\n",
       "        [-3.625     , -5.625     ,  0.5596158 ,  0.5596158 ],\n",
       "        [ 0.375     , -0.625     ,  0.5596158 ,  0.5596158 ],\n",
       "        [-0.625     , -0.625     ,  0.5596158 ,  0.5596158 ]]],\n",
       "      dtype=float32)>"
      ]
     },
     "execution_count": 29,
     "metadata": {},
     "output_type": "execute_result"
    }
   ],
   "source": [
    "tf.transpose(tf.expand_dims(offset, axis = 0), perm=[0,2,1])"
   ]
  },
  {
   "cell_type": "code",
   "execution_count": 30,
   "id": "eb00870e",
   "metadata": {},
   "outputs": [
    {
     "data": {
      "text/plain": [
       "<tf.Tensor: shape=(1, 64), dtype=int64, numpy=\n",
       "array([[0, 0, 0, 0, 0, 0, 0, 0, 0, 0, 0, 0, 0, 0, 0, 0, 0, 0, 1, 1, 0, 0,\n",
       "        0, 0, 0, 0, 1, 1, 0, 0, 0, 0, 0, 0, 0, 0, 0, 0, 0, 0, 0, 0, 0, 0,\n",
       "        0, 0, 0, 0, 0, 0, 0, 0, 0, 0, 2, 2, 0, 0, 0, 0, 0, 0, 2, 2]])>"
      ]
     },
     "execution_count": 30,
     "metadata": {},
     "output_type": "execute_result"
    }
   ],
   "source": [
    "max_IOU_idx_per_row"
   ]
  },
  {
   "cell_type": "code",
   "execution_count": 31,
   "id": "59b12a2a",
   "metadata": {},
   "outputs": [
    {
     "data": {
      "text/plain": [
       "<tf.Tensor: shape=(1, 64, 4), dtype=float32, numpy=\n",
       "array([[[0.234375, 0.234375, 0.21875 , 0.21875 ],\n",
       "        [0.234375, 0.234375, 0.21875 , 0.21875 ],\n",
       "        [0.234375, 0.234375, 0.21875 , 0.21875 ],\n",
       "        [0.234375, 0.234375, 0.21875 , 0.21875 ],\n",
       "        [0.234375, 0.234375, 0.21875 , 0.21875 ],\n",
       "        [0.234375, 0.234375, 0.21875 , 0.21875 ],\n",
       "        [0.234375, 0.234375, 0.21875 , 0.21875 ],\n",
       "        [0.234375, 0.234375, 0.21875 , 0.21875 ],\n",
       "        [0.234375, 0.234375, 0.21875 , 0.21875 ],\n",
       "        [0.234375, 0.234375, 0.21875 , 0.21875 ],\n",
       "        [0.234375, 0.234375, 0.21875 , 0.21875 ],\n",
       "        [0.234375, 0.234375, 0.21875 , 0.21875 ],\n",
       "        [0.234375, 0.234375, 0.21875 , 0.21875 ],\n",
       "        [0.234375, 0.234375, 0.21875 , 0.21875 ],\n",
       "        [0.234375, 0.234375, 0.21875 , 0.21875 ],\n",
       "        [0.234375, 0.234375, 0.21875 , 0.21875 ],\n",
       "        [0.234375, 0.234375, 0.21875 , 0.21875 ],\n",
       "        [0.234375, 0.234375, 0.21875 , 0.21875 ],\n",
       "        [0.359375, 0.359375, 0.15625 , 0.15625 ],\n",
       "        [0.359375, 0.359375, 0.15625 , 0.15625 ],\n",
       "        [0.234375, 0.234375, 0.21875 , 0.21875 ],\n",
       "        [0.234375, 0.234375, 0.21875 , 0.21875 ],\n",
       "        [0.234375, 0.234375, 0.21875 , 0.21875 ],\n",
       "        [0.234375, 0.234375, 0.21875 , 0.21875 ],\n",
       "        [0.234375, 0.234375, 0.21875 , 0.21875 ],\n",
       "        [0.234375, 0.234375, 0.21875 , 0.21875 ],\n",
       "        [0.359375, 0.359375, 0.15625 , 0.15625 ],\n",
       "        [0.359375, 0.359375, 0.15625 , 0.15625 ],\n",
       "        [0.234375, 0.234375, 0.21875 , 0.21875 ],\n",
       "        [0.234375, 0.234375, 0.21875 , 0.21875 ],\n",
       "        [0.234375, 0.234375, 0.21875 , 0.21875 ],\n",
       "        [0.234375, 0.234375, 0.21875 , 0.21875 ],\n",
       "        [0.234375, 0.234375, 0.21875 , 0.21875 ],\n",
       "        [0.234375, 0.234375, 0.21875 , 0.21875 ],\n",
       "        [0.234375, 0.234375, 0.21875 , 0.21875 ],\n",
       "        [0.234375, 0.234375, 0.21875 , 0.21875 ],\n",
       "        [0.234375, 0.234375, 0.21875 , 0.21875 ],\n",
       "        [0.234375, 0.234375, 0.21875 , 0.21875 ],\n",
       "        [0.234375, 0.234375, 0.21875 , 0.21875 ],\n",
       "        [0.234375, 0.234375, 0.21875 , 0.21875 ],\n",
       "        [0.234375, 0.234375, 0.21875 , 0.21875 ],\n",
       "        [0.234375, 0.234375, 0.21875 , 0.21875 ],\n",
       "        [0.234375, 0.234375, 0.21875 , 0.21875 ],\n",
       "        [0.234375, 0.234375, 0.21875 , 0.21875 ],\n",
       "        [0.234375, 0.234375, 0.21875 , 0.21875 ],\n",
       "        [0.234375, 0.234375, 0.21875 , 0.21875 ],\n",
       "        [0.234375, 0.234375, 0.21875 , 0.21875 ],\n",
       "        [0.234375, 0.234375, 0.21875 , 0.21875 ],\n",
       "        [0.234375, 0.234375, 0.21875 , 0.21875 ],\n",
       "        [0.234375, 0.234375, 0.21875 , 0.21875 ],\n",
       "        [0.234375, 0.234375, 0.21875 , 0.21875 ],\n",
       "        [0.234375, 0.234375, 0.21875 , 0.21875 ],\n",
       "        [0.234375, 0.234375, 0.21875 , 0.21875 ],\n",
       "        [0.234375, 0.234375, 0.21875 , 0.21875 ],\n",
       "        [0.859375, 0.859375, 0.21875 , 0.21875 ],\n",
       "        [0.859375, 0.859375, 0.21875 , 0.21875 ],\n",
       "        [0.234375, 0.234375, 0.21875 , 0.21875 ],\n",
       "        [0.234375, 0.234375, 0.21875 , 0.21875 ],\n",
       "        [0.234375, 0.234375, 0.21875 , 0.21875 ],\n",
       "        [0.234375, 0.234375, 0.21875 , 0.21875 ],\n",
       "        [0.234375, 0.234375, 0.21875 , 0.21875 ],\n",
       "        [0.234375, 0.234375, 0.21875 , 0.21875 ],\n",
       "        [0.859375, 0.859375, 0.21875 , 0.21875 ],\n",
       "        [0.859375, 0.859375, 0.21875 , 0.21875 ]]], dtype=float32)>"
      ]
     },
     "execution_count": 31,
     "metadata": {},
     "output_type": "execute_result"
    }
   ],
   "source": [
    "gt_box_label_map"
   ]
  },
  {
   "cell_type": "code",
   "execution_count": 32,
   "id": "ff5bc209",
   "metadata": {},
   "outputs": [],
   "source": [
    "from bbox_utils import match_priors_with_gt, box_overlap_iou, convert_to_centre_dimensions_form"
   ]
  },
  {
   "cell_type": "code",
   "execution_count": 33,
   "id": "6bc49b36",
   "metadata": {},
   "outputs": [
    {
     "data": {
      "text/plain": [
       "[1, 2, 1]"
      ]
     },
     "execution_count": 33,
     "metadata": {},
     "output_type": "execute_result"
    }
   ],
   "source": [
    "gt_labels"
   ]
  },
  {
   "cell_type": "code",
   "execution_count": 34,
   "id": "9a101149",
   "metadata": {},
   "outputs": [],
   "source": [
    "gt_boxes = [[4, 4, 9, 9], [9, 9, 14 , 14], [24, 24, 29, 29]]\n",
    "\n",
    "# boxes with no \n",
    "gt_boxes = [[4, 4, 11, 11], [9, 9, 14 , 14], [24, 24, 31, 31]]\n",
    "gt_labels = [1, 2, 1]\n",
    "\n",
    "gt_boxes_normalized = tf.constant([gt_boxes], tf.float32) / image_size\n",
    "\n",
    "gt_labels = tf.constant([gt_labels])"
   ]
  },
  {
   "cell_type": "code",
   "execution_count": 35,
   "id": "86355dff",
   "metadata": {},
   "outputs": [
    {
     "data": {
      "text/plain": [
       "array([0.75 , 0.75 , 0.875, 0.875], dtype=float32)"
      ]
     },
     "execution_count": 35,
     "metadata": {},
     "output_type": "execute_result"
    }
   ],
   "source": [
    "boxes[54]"
   ]
  },
  {
   "cell_type": "code",
   "execution_count": 36,
   "id": "541389ad",
   "metadata": {},
   "outputs": [
    {
     "data": {
      "text/plain": [
       "0.8125"
      ]
     },
     "execution_count": 36,
     "metadata": {},
     "output_type": "execute_result"
    }
   ],
   "source": [
    "(0.875 + 0.75) / 2"
   ]
  },
  {
   "cell_type": "code",
   "execution_count": 37,
   "id": "3c63eb4f",
   "metadata": {},
   "outputs": [],
   "source": [
    "# gt_boxes center format \n",
    "\n",
    "# [[6.5, 6.5, 5, 5], [11.5, 11.5, 5 , 2.5], [26.5, 26.5, 5, 5]]\n",
    "# [[0.203125, 0.203125, 0.15625, 0.15625], [0.359375, 0.359375, 0.15625, 0.15625], [0.828125, 0.828125, 0.15625, 0.15625]]\n",
    "\n",
    "# default_boxes: [[6, 6, 4, 4], [None, None, None, None], [26, 26, 4, 4]]\n",
    "# default_boxes: [[0.1875, 0.1875, 0.125, 0.125], [None, None, None, None], [0.8125 , 0.8125 , 0.125, 0.125]]\n",
    "\n",
    "# g_val for loss: [[0.125, 0.125, 0.22314, 0.22314], [], [0.125, 0.125, 0.22314, 0.22314]]"
   ]
  },
  {
   "cell_type": "code",
   "execution_count": 38,
   "id": "0c1d878c",
   "metadata": {},
   "outputs": [
    {
     "data": {
      "text/plain": [
       "0.015625"
      ]
     },
     "execution_count": 38,
     "metadata": {},
     "output_type": "execute_result"
    }
   ],
   "source": [
    "0.828125 - 0.8125 "
   ]
  },
  {
   "cell_type": "code",
   "execution_count": 39,
   "id": "08a4c851",
   "metadata": {},
   "outputs": [
    {
     "data": {
      "text/plain": [
       "0.015625"
      ]
     },
     "execution_count": 39,
     "metadata": {},
     "output_type": "execute_result"
    }
   ],
   "source": [
    "(26.5 - 26) / 32"
   ]
  },
  {
   "cell_type": "code",
   "execution_count": 40,
   "id": "aabd3216",
   "metadata": {},
   "outputs": [
    {
     "data": {
      "text/plain": [
       "array([0.125, 0.125, 0.25 , 0.25 ], dtype=float32)"
      ]
     },
     "execution_count": 40,
     "metadata": {},
     "output_type": "execute_result"
    }
   ],
   "source": [
    "boxes[9]"
   ]
  },
  {
   "cell_type": "code",
   "execution_count": 42,
   "id": "c01b18af",
   "metadata": {},
   "outputs": [],
   "source": [
    "actual_deltas, actual_labels = match_priors_with_gt(prior_boxes, boxes, gt_boxes_normalized, gt_labels, 3)"
   ]
  },
  {
   "cell_type": "code",
   "execution_count": 43,
   "id": "ac42218d",
   "metadata": {},
   "outputs": [],
   "source": [
    "np.random.seed(42)\n",
    "pred_deltas = np.random.rand(1, 64, 4) * np.random.randint(-1, 2, size = (1, 64, 4))"
   ]
  },
  {
   "cell_type": "code",
   "execution_count": 44,
   "id": "4f38702e",
   "metadata": {},
   "outputs": [],
   "source": [
    "pred_deltas[0, 9] = [-0.015, 0.012, 0 , -0.031]\n",
    "pred_deltas[0, 54] = [0.15, 0.12, -0.0123 , -0.04]"
   ]
  },
  {
   "cell_type": "code",
   "execution_count": 45,
   "id": "57931be3",
   "metadata": {},
   "outputs": [
    {
     "data": {
      "text/plain": [
       "<tf.Tensor: shape=(2,), dtype=float32, numpy=array([0.00917172, 0.00783279], dtype=float32)>"
      ]
     },
     "execution_count": 45,
     "metadata": {},
     "output_type": "execute_result"
    }
   ],
   "source": [
    "huber_loss = tf.keras.losses.Huber(\n",
    "    reduction=tf.keras.losses.Reduction.NONE\n",
    ")\n",
    "\n",
    "huber_loss([ [0.125, 0.125, 0.22314, 0.22314], [0.125, 0.125, 0.22314, 0.22314] ], \n",
    "            [[-0.015, 0.012, 0 , -0.031], [0.15, 0.12, -0.0123 , -0.04]] \n",
    "          ) / 2"
   ]
  },
  {
   "cell_type": "code",
   "execution_count": 46,
   "id": "be66c117",
   "metadata": {},
   "outputs": [],
   "source": [
    "from classification_loss import SSDLoss"
   ]
  },
  {
   "cell_type": "code",
   "execution_count": 47,
   "id": "c610becb",
   "metadata": {},
   "outputs": [
    {
     "data": {
      "text/plain": [
       "array([[[ 0.37454012,  0.        ,  0.        ,  0.59865848],\n",
       "        [ 0.        ,  0.        ,  0.05808361,  0.        ],\n",
       "        [ 0.60111501,  0.        ,  0.02058449,  0.96990985],\n",
       "        [ 0.        ,  0.        ,  0.        , -0.18340451],\n",
       "        [-0.30424224, -0.52475643,  0.43194502,  0.        ],\n",
       "        [ 0.61185289, -0.13949386,  0.        ,  0.36636184],\n",
       "        [ 0.        ,  0.78517596,  0.        , -0.51423444],\n",
       "        [-0.59241457,  0.        ,  0.60754485, -0.17052412],\n",
       "        [-0.06505159, -0.94888554,  0.        ,  0.        ],\n",
       "        [-0.015     ,  0.012     ,  0.        , -0.031     ],\n",
       "        [ 0.        ,  0.49517691,  0.03438852,  0.        ],\n",
       "        [ 0.25877998, -0.66252228,  0.        ,  0.52006802],\n",
       "        [ 0.        , -0.18485446,  0.        ,  0.        ],\n",
       "        [ 0.        ,  0.        , -0.59789998,  0.        ],\n",
       "        [ 0.        ,  0.19598286,  0.        ,  0.32533033],\n",
       "        [-0.38867729, -0.27134903, -0.82873751, -0.35675333],\n",
       "        [ 0.28093451,  0.        , -0.14092422,  0.        ],\n",
       "        [ 0.07455064,  0.98688694,  0.77224477, -0.19871568],\n",
       "        [ 0.        ,  0.        ,  0.        ,  0.72900717],\n",
       "        [-0.77127035,  0.07404465,  0.35846573,  0.        ],\n",
       "        [ 0.86310343,  0.        , -0.33089802,  0.        ],\n",
       "        [-0.31098232,  0.        ,  0.72960618,  0.63755747],\n",
       "        [-0.88721274, -0.47221493, -0.11959425,  0.        ],\n",
       "        [ 0.        , -0.5612772 ,  0.77096718,  0.        ],\n",
       "        [ 0.        ,  0.        , -0.02541913, -0.10789143],\n",
       "        [-0.03142919, -0.63641041, -0.31435598,  0.50857069],\n",
       "        [ 0.90756647, -0.24929223,  0.        , -0.75555114],\n",
       "        [ 0.22879817,  0.07697991,  0.        ,  0.16122129],\n",
       "        [-0.92969765,  0.        , -0.63340376, -0.87146059],\n",
       "        [ 0.        , -0.18657006,  0.892559  , -0.53934224],\n",
       "        [ 0.        ,  0.        ,  0.        , -0.11005192],\n",
       "        [ 0.        ,  0.        , -0.81801477,  0.86073058],\n",
       "        [-0.00695213,  0.        ,  0.        , -0.22210781],\n",
       "        [ 0.11986537,  0.        ,  0.        ,  0.        ],\n",
       "        [-0.51879062,  0.        ,  0.3636296 ,  0.        ],\n",
       "        [ 0.        ,  0.2517823 ,  0.        , -0.30087831],\n",
       "        [-0.28484049, -0.03688695,  0.60956433,  0.        ],\n",
       "        [-0.05147875,  0.27864646,  0.        ,  0.23956189],\n",
       "        [-0.14489487, -0.48945276, -0.98565045,  0.24205527],\n",
       "        [ 0.67213555, -0.76161962,  0.23763754, -0.72821635],\n",
       "        [-0.36778313,  0.        ,  0.63352971, -0.53577468],\n",
       "        [-0.09028977,  0.8353025 ,  0.        ,  0.        ],\n",
       "        [-0.04077514,  0.59089294,  0.        ,  0.01658783],\n",
       "        [ 0.51209306, -0.22649578,  0.        , -0.17436643],\n",
       "        [ 0.        ,  0.        ,  0.        ,  0.        ],\n",
       "        [ 0.        ,  0.11347352, -0.92469362,  0.87733935],\n",
       "        [ 0.        , -0.65998405,  0.        , -0.55520081],\n",
       "        [ 0.52965058, -0.24185229, -0.09310277, -0.89721576],\n",
       "        [-0.90041806, -0.63310146,  0.        , -0.34920957],\n",
       "        [-0.72595568,  0.89711026, -0.88708642,  0.77987555],\n",
       "        [ 0.        , -0.08413996,  0.16162871,  0.89855419],\n",
       "        [ 0.        , -0.00919705, -0.10147154,  0.66350177],\n",
       "        [-0.00506158,  0.16080805, -0.54873379,  0.6918952 ],\n",
       "        [-0.65196126,  0.        , -0.71217922, -0.23724909],\n",
       "        [ 0.15      ,  0.12      , -0.0123    , -0.04      ],\n",
       "        [ 0.65761289,  0.5683086 , -0.09367477, -0.3677158 ],\n",
       "        [-0.26520237,  0.24398964, -0.97301055,  0.39309772],\n",
       "        [ 0.        ,  0.63113863,  0.7948113 ,  0.        ],\n",
       "        [ 0.57690388, -0.49251769, -0.19524299,  0.72245212],\n",
       "        [-0.28077236,  0.02431597, -0.6454723 , -0.17711068],\n",
       "        [ 0.94045858, -0.95392858,  0.91486439, -0.3701587 ],\n",
       "        [-0.01545662,  0.        ,  0.        ,  0.96665482],\n",
       "        [ 0.        ,  0.85300946,  0.        , -0.38509773],\n",
       "        [ 0.85113667,  0.31692201, -0.16949275,  0.55680126]]])"
      ]
     },
     "execution_count": 47,
     "metadata": {},
     "output_type": "execute_result"
    }
   ],
   "source": [
    "pred_deltas"
   ]
  },
  {
   "cell_type": "code",
   "execution_count": 48,
   "id": "6434923c",
   "metadata": {},
   "outputs": [
    {
     "data": {
      "text/plain": [
       "<tf.Tensor: shape=(1, 64), dtype=float32, numpy=\n",
       "array([[0.        , 0.        , 0.        , 0.        , 0.        ,\n",
       "        0.        , 0.        , 0.        , 0.        , 0.03941108,\n",
       "        0.        , 0.        , 0.        , 0.        , 0.        ,\n",
       "        0.        , 0.        , 0.        , 0.02445588, 0.        ,\n",
       "        0.        , 0.        , 0.        , 0.        , 0.        ,\n",
       "        0.        , 0.        , 0.        , 0.        , 0.        ,\n",
       "        0.        , 0.        , 0.        , 0.        , 0.        ,\n",
       "        0.        , 0.        , 0.        , 0.        , 0.        ,\n",
       "        0.        , 0.        , 0.        , 0.        , 0.        ,\n",
       "        0.        , 0.        , 0.        , 0.        , 0.        ,\n",
       "        0.        , 0.        , 0.        , 0.        , 0.0334282 ,\n",
       "        0.        , 0.        , 0.        , 0.        , 0.        ,\n",
       "        0.        , 0.        , 0.        , 0.        ]], dtype=float32)>"
      ]
     },
     "execution_count": 48,
     "metadata": {},
     "output_type": "execute_result"
    }
   ],
   "source": [
    "loss = SSDLoss()\n",
    "\n",
    "loss.localization_loss(actual_deltas, pred_deltas)"
   ]
  },
  {
   "cell_type": "code",
   "execution_count": 49,
   "id": "d3cce4da",
   "metadata": {},
   "outputs": [],
   "source": [
    "# tf.keras.layers.Activation()"
   ]
  },
  {
   "cell_type": "markdown",
   "id": "c18d9dd4",
   "metadata": {},
   "source": [
    "# Classification Loss"
   ]
  },
  {
   "cell_type": "code",
   "execution_count": 50,
   "id": "94c176c9",
   "metadata": {},
   "outputs": [],
   "source": [
    "# actual_labels = actual_labels.numpy()[0]"
   ]
  },
  {
   "cell_type": "code",
   "execution_count": 51,
   "id": "57adc86c",
   "metadata": {},
   "outputs": [],
   "source": [
    "# actual_labels.shape\n",
    "\n",
    "# n, m = actual_labels.shape # for generality\n",
    "# X0 = np.zeros((n,1))\n",
    "# Xnew = np.hstack((actual_labels, X0))\n"
   ]
  },
  {
   "cell_type": "code",
   "execution_count": 52,
   "id": "4d6341eb",
   "metadata": {},
   "outputs": [],
   "source": [
    "# Xnew[9][3] = 1\n",
    "# Xnew[54][3] = 1"
   ]
  },
  {
   "cell_type": "code",
   "execution_count": 53,
   "id": "d0b9b529",
   "metadata": {},
   "outputs": [],
   "source": [
    "np.random.seed(42)\n",
    "pred_labels = np.random.rand(64, 3)\n",
    "pred_labels.astype(np.float32)\n",
    "pred_labels = pred_labels / np.reshape(np.sum(pred_labels, axis = 1), (64, 1))"
   ]
  },
  {
   "cell_type": "code",
   "execution_count": 54,
   "id": "31cf6135",
   "metadata": {},
   "outputs": [],
   "source": [
    "pred_labels = np.reshape(pred_labels, (1, 64, 3))"
   ]
  },
  {
   "cell_type": "code",
   "execution_count": 55,
   "id": "f233d020",
   "metadata": {},
   "outputs": [],
   "source": [
    "categorical_cross_entropy = tf.losses.CategoricalCrossentropy(\n",
    "    reduction=tf.losses.Reduction.NONE\n",
    ")\n",
    "\n",
    "confidence_loss_for_all = categorical_cross_entropy(actual_labels, pred_labels) / 8"
   ]
  },
  {
   "cell_type": "code",
   "execution_count": 56,
   "id": "efa835e0",
   "metadata": {},
   "outputs": [
    {
     "data": {
      "text/plain": [
       "array([24, 57, 14, 56,  2, 18, 30, 37, 44, 39, 22, 33, 41, 46,  7, 35,  5,\n",
       "       34,  0, 63, 45, 28, 47, 60, 20, 59, 26, 38, 12, 51, 17, 21, 48, 31,\n",
       "        8, 29, 16,  6, 19, 11, 36, 40, 52, 13,  3, 53, 54, 58, 62, 15, 43,\n",
       "       25, 42, 61, 23,  9, 32, 49, 27, 55,  1,  4, 50, 10])"
      ]
     },
     "execution_count": 56,
     "metadata": {},
     "output_type": "execute_result"
    }
   ],
   "source": [
    "np.argsort(confidence_loss_for_all)[0][::-1]"
   ]
  },
  {
   "cell_type": "code",
   "execution_count": 57,
   "id": "8f81cd2e",
   "metadata": {},
   "outputs": [
    {
     "name": "stdout",
     "output_type": "stream",
     "text": [
      "tf.Tensor(0.08325025859282396, shape=(), dtype=float64)\n",
      "tf.Tensor(0.1068538936931989, shape=(), dtype=float64)\n",
      "tf.Tensor(0.702856188838221, shape=(), dtype=float64)\n",
      "tf.Tensor(0.4772853103149616, shape=(), dtype=float64)\n",
      "tf.Tensor(0.4443032443716209, shape=(), dtype=float64)\n",
      "tf.Tensor(0.43364046321660504, shape=(), dtype=float64)\n",
      "tf.Tensor(0.40851398098781166, shape=(), dtype=float64)\n",
      "tf.Tensor(0.32370765859979456, shape=(), dtype=float64)\n"
     ]
    }
   ],
   "source": [
    "print(confidence_loss_for_all[0, 9])\n",
    "print(confidence_loss_for_all[0, 54]) \n",
    "print(confidence_loss_for_all[0, 24])\n",
    "print(confidence_loss_for_all[0, 57])\n",
    "print(confidence_loss_for_all[0, 14])\n",
    "print(confidence_loss_for_all[0, 56])\n",
    "print(confidence_loss_for_all[0, 2]) \n",
    "print(confidence_loss_for_all[0, 30])"
   ]
  },
  {
   "cell_type": "code",
   "execution_count": 58,
   "id": "1c4d07d7",
   "metadata": {},
   "outputs": [
    {
     "data": {
      "text/plain": [
       "<tf.Tensor: shape=(), dtype=float64, numpy=2.9804109986150373>"
      ]
     },
     "execution_count": 58,
     "metadata": {},
     "output_type": "execute_result"
    }
   ],
   "source": [
    "# conf for only 9 and 54 six of the top results\n",
    "# 10, 50,  4,  1, 55, 27\n",
    "\n",
    "confidence_loss_for_all[0, 9] + confidence_loss_for_all[0, 54] + \\\n",
    "confidence_loss_for_all[0, 24] + confidence_loss_for_all[0, 57] + \\\n",
    "confidence_loss_for_all[0, 14] + confidence_loss_for_all[0, 56] + \\\n",
    "confidence_loss_for_all[0, 2] + confidence_loss_for_all[0, 30]"
   ]
  },
  {
   "cell_type": "code",
   "execution_count": 59,
   "id": "34f06ec8",
   "metadata": {},
   "outputs": [],
   "source": [
    "loss = SSDLoss()"
   ]
  },
  {
   "cell_type": "code",
   "execution_count": 60,
   "id": "d4ad076a",
   "metadata": {},
   "outputs": [],
   "source": [
    "conf_loss = loss.confidence_loss(actual_labels, tf.constant(pred_labels, tf.float32))"
   ]
  },
  {
   "cell_type": "code",
   "execution_count": 61,
   "id": "dc335718",
   "metadata": {},
   "outputs": [
    {
     "data": {
      "text/plain": [
       "<tf.Tensor: shape=(1, 64), dtype=float32, numpy=\n",
       "array([[0.        , 0.        , 0.27234265, 0.        , 0.        ,\n",
       "        0.        , 0.        , 0.        , 0.        , 0.05550018,\n",
       "        0.        , 0.        , 0.        , 0.        , 0.29620215,\n",
       "        0.        , 0.        , 0.        , 0.2416662 , 0.        ,\n",
       "        0.        , 0.        , 0.        , 0.        , 0.4685708 ,\n",
       "        0.        , 0.        , 0.        , 0.        , 0.        ,\n",
       "        0.21580511, 0.        , 0.        , 0.        , 0.        ,\n",
       "        0.        , 0.        , 0.20552713, 0.        , 0.18003587,\n",
       "        0.        , 0.        , 0.        , 0.        , 0.20484476,\n",
       "        0.        , 0.        , 0.        , 0.        , 0.        ,\n",
       "        0.        , 0.        , 0.        , 0.        , 0.07123592,\n",
       "        0.        , 0.28909364, 0.31819022, 0.        , 0.        ,\n",
       "        0.        , 0.        , 0.        , 0.        ]], dtype=float32)>"
      ]
     },
     "execution_count": 61,
     "metadata": {},
     "output_type": "execute_result"
    }
   ],
   "source": [
    "conf_loss"
   ]
  },
  {
   "cell_type": "code",
   "execution_count": 62,
   "id": "a3fb215e",
   "metadata": {},
   "outputs": [
    {
     "data": {
      "text/plain": [
       "2.8190145"
      ]
     },
     "execution_count": 62,
     "metadata": {},
     "output_type": "execute_result"
    }
   ],
   "source": [
    "np.sum(conf_loss)"
   ]
  },
  {
   "cell_type": "code",
   "execution_count": null,
   "id": "44019d0e",
   "metadata": {},
   "outputs": [],
   "source": []
  }
 ],
 "metadata": {
  "kernelspec": {
   "display_name": "Python 3 (ipykernel)",
   "language": "python",
   "name": "python3"
  },
  "language_info": {
   "codemirror_mode": {
    "name": "ipython",
    "version": 3
   },
   "file_extension": ".py",
   "mimetype": "text/x-python",
   "name": "python",
   "nbconvert_exporter": "python",
   "pygments_lexer": "ipython3",
   "version": "3.9.10"
  }
 },
 "nbformat": 4,
 "nbformat_minor": 5
}
