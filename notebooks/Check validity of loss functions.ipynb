{
 "cells": [
  {
   "cell_type": "markdown",
   "id": "f1054f45",
   "metadata": {},
   "source": [
    "# Localization Loss\n",
    "\n"
   ]
  },
  {
   "cell_type": "code",
   "execution_count": 1,
   "id": "3fddfa13",
   "metadata": {},
   "outputs": [],
   "source": [
    "import tensorflow as tf"
   ]
  },
  {
   "cell_type": "code",
   "execution_count": 2,
   "id": "81e3eb38",
   "metadata": {},
   "outputs": [],
   "source": [
    "%load_ext autoreload\n",
    "%autoreload 2\n",
    "\n",
    "import sys\n",
    " \n",
    "# setting path\n",
    "sys.path.append('../read_data/')\n",
    "sys.path.append('../')"
   ]
  },
  {
   "cell_type": "code",
   "execution_count": 3,
   "id": "2a90faf6",
   "metadata": {},
   "outputs": [],
   "source": [
    "import numpy as np\n",
    "import matplotlib.pyplot as plt\n",
    "\n",
    "import cv2"
   ]
  },
  {
   "cell_type": "code",
   "execution_count": 7,
   "id": "62b62241",
   "metadata": {},
   "outputs": [],
   "source": [
    "# Assuse we have a 8 x 8 box divided into 2 x 2 prior boxes\n",
    "\n",
    "image_size = 32\n",
    "boxes = []\n",
    "prior_boxes = []\n",
    "default_box_size  = 4\n",
    "\n",
    "for i in range(0, image_size // default_box_size,):\n",
    "    for j in range(0, image_size // default_box_size):\n",
    "        boxes.append([ j * default_box_size, i * default_box_size, \n",
    "                            (j + 1) * default_box_size, (i + 1) * default_box_size ])\n",
    "        prior_boxes.append( [ j * default_box_size + default_box_size // 2, i * default_box_size + default_box_size // 2, default_box_size, default_box_size ] )\n",
    "        \n",
    "# gt_boxes = [6, 6, 14, 13]\n",
    "# gt_boxes = [[4, 4, 9, 9], [9, 9, 14 , 14], [24, 24, 29, 29]]\n",
    "\n",
    "# boxes with IOU < 0.5\n",
    "# gt_boxes = [[4, 4, 11, 11], [9, 9, 14 , 14], [24, 24, 31, 31]]\n",
    "# gt_labels = [1, 2, 1]\n",
    "\n",
    "# defaul box\n",
    "gt_boxes = [[0, 0, 32, 32]]\n",
    "gt_labels = [0]"
   ]
  },
  {
   "cell_type": "code",
   "execution_count": 8,
   "id": "ccf8c41d",
   "metadata": {},
   "outputs": [
    {
     "data": {
      "text/plain": [
       "[26, 26, 4, 4]"
      ]
     },
     "execution_count": 8,
     "metadata": {},
     "output_type": "execute_result"
    }
   ],
   "source": [
    "prior_boxes[54]"
   ]
  },
  {
   "cell_type": "code",
   "execution_count": 9,
   "id": "d5c722ea",
   "metadata": {},
   "outputs": [
    {
     "name": "stderr",
     "output_type": "stream",
     "text": [
      "Clipping input data to the valid range for imshow with RGB data ([0..1] for floats or [0..255] for integers).\n"
     ]
    },
    {
     "data": {
      "text/plain": [
       "<matplotlib.image.AxesImage at 0x160f8eb20>"
      ]
     },
     "execution_count": 9,
     "metadata": {},
     "output_type": "execute_result"
    },
    {
     "data": {
      "image/png": "[encoded data removed]",
      "text/plain": [
       "<Figure size 432x288 with 1 Axes>"
      ]
     },
     "metadata": {
      "needs_background": "light"
     },
     "output_type": "display_data"
    }
   ],
   "source": [
    "image = np.ones((image_size + 1, image_size + 1, 3))\n",
    "\n",
    "for box in boxes:\n",
    "    \n",
    "    start_x, start_y, end_x, end_y = box\n",
    "    \n",
    "    image = cv2.rectangle(image, [start_x, start_y], [end_x, end_y], (255, 0 , 0), thickness = 1)\n",
    "\n",
    "for box in gt_boxes:\n",
    "    \n",
    "    start_x, start_y, end_x, end_y = box  \n",
    "    image = cv2.rectangle(image, [start_x, start_y], [end_x, end_y], (255, 0, 255), thickness = 1)\n",
    "\n",
    "plt.imshow(image)"
   ]
  },
  {
   "cell_type": "code",
   "execution_count": null,
   "id": "35f66362",
   "metadata": {},
   "outputs": [],
   "source": [
    "\n"
   ]
  },
  {
   "cell_type": "code",
   "execution_count": 10,
   "id": "3a6f4adb",
   "metadata": {},
   "outputs": [],
   "source": [
    "boxes = np.array(boxes, np.float32) / image_size\n",
    "prior_boxes = np.array(prior_boxes, np.float32) / image_size\n",
    "gt_boxes = np.array([gt_boxes], np.float32) / image_size\n",
    "gt_labels = [0]"
   ]
  },
  {
   "cell_type": "code",
   "execution_count": 11,
   "id": "90e45697",
   "metadata": {},
   "outputs": [
    {
     "data": {
      "text/plain": [
       "array([[[0., 0., 1., 1.]]], dtype=float32)"
      ]
     },
     "execution_count": 11,
     "metadata": {},
     "output_type": "execute_result"
    }
   ],
   "source": [
    "gt_boxes"
   ]
  },
  {
   "cell_type": "code",
   "execution_count": 12,
   "id": "294b157e",
   "metadata": {},
   "outputs": [
    {
     "name": "stdout",
     "output_type": "stream",
     "text": [
      "(64, 4)\n",
      "(64, 4)\n",
      "(1, 1, 4)\n"
     ]
    }
   ],
   "source": [
    "print(prior_boxes.shape)\n",
    "print(boxes.shape)\n",
    "print(gt_boxes.shape)"
   ]
  },
  {
   "cell_type": "code",
   "execution_count": 13,
   "id": "9897e541",
   "metadata": {},
   "outputs": [],
   "source": [
    "from bbox_utils import box_overlap_iou, convert_to_centre_dimensions_form, calculate_offset_from_gt"
   ]
  },
  {
   "cell_type": "code",
   "execution_count": 14,
   "id": "06eedfae",
   "metadata": {},
   "outputs": [
    {
     "name": "stderr",
     "output_type": "stream",
     "text": [
      "2022-09-05 00:45:36.562737: I tensorflow/core/platform/cpu_feature_guard.cc:193] This TensorFlow binary is optimized with oneAPI Deep Neural Network Library (oneDNN) to use the following CPU instructions in performance-critical operations:  AVX2 FMA\n",
      "To enable them in other operations, rebuild TensorFlow with the appropriate compiler flags.\n"
     ]
    }
   ],
   "source": [
    "box_x_min, box_y_min, box_x_max, box_y_max = tf.split(boxes, 4, axis = 1)\n",
    "gt_boxes_x_min, gt_boxes_y_min, gt_boxes_x_max, gt_boxes_y_max = tf.split(gt_boxes, 4, axis = 2)\n",
    "\n",
    "intersection_x_min = tf.maximum(box_x_min, tf.transpose(gt_boxes_x_min, perm=[0, 2, 1]))\n",
    "intersection_y_min = tf.maximum(box_y_min, tf.transpose(gt_boxes_y_min, perm=[0, 2, 1]))\n",
    "\n",
    "intersection_x_max = tf.minimum(box_x_max, tf.transpose(gt_boxes_x_max, perm=[0, 2, 1]))\n",
    "intersection_y_max = tf.minimum(box_y_max, tf.transpose(gt_boxes_y_max, perm=[0, 2, 1]))\n",
    "\n",
    "# need to take care of boxes that don't overlap at all\n",
    "intersection_area = tf.maximum(intersection_x_max - intersection_x_min, 0) * tf.maximum(intersection_y_max - intersection_y_min, 0)\n",
    "\n",
    "boxes_areas = (box_x_max - box_x_min) * (box_y_max - box_y_min)\n",
    "gt_box_areas = (gt_boxes_x_max - gt_boxes_x_min) * (gt_boxes_y_max - gt_boxes_y_min)\n",
    "\n",
    "union = (boxes_areas + tf.transpose(gt_box_areas, perm=[0, 2, 1])) - intersection_area"
   ]
  },
  {
   "cell_type": "code",
   "execution_count": 15,
   "id": "76562633",
   "metadata": {},
   "outputs": [],
   "source": [
    "# union"
   ]
  },
  {
   "cell_type": "code",
   "execution_count": 16,
   "id": "3e6e8bb7",
   "metadata": {},
   "outputs": [],
   "source": [
    "threshold = 0.5\n",
    "number_of_labels = 3"
   ]
  },
  {
   "cell_type": "code",
   "execution_count": 17,
   "id": "ec01ce7e",
   "metadata": {},
   "outputs": [],
   "source": [
    "# number of rows for the IOU map the is the number of gt_boxes\n",
    "IOU_map = box_overlap_iou(boxes, gt_boxes)\n",
    "\n",
    "# convert ground boxes labels to box label format\n",
    "gt_box_label = convert_to_centre_dimensions_form(gt_boxes)\n",
    "\n",
    "# select the box with the highest IOU\n",
    "highest_overlap_idx = tf.math.argmax(IOU_map, axis = 1)\n",
    "highest_overlap_idx = tf.cast(highest_overlap_idx, tf.int32)\n",
    "idx = tf.range(IOU_map.shape[1])\n",
    "highest_overlap_idx_map = tf.expand_dims(tf.equal(idx, tf.transpose(highest_overlap_idx)), axis = 0)\n",
    "IOU_map = tf.where(tf.transpose(highest_overlap_idx_map, perm=[0,2,1]), tf.constant(1.0), IOU_map)\n",
    "\n",
    "# find the column idx with the highest IOU at each row\n",
    "max_IOU_idx_per_row = tf.math.argmax(IOU_map, axis = 2)\n",
    "# find the max value per row\n",
    "max_IOU_per_row = tf.reduce_max(IOU_map, axis = 2)\n",
    "\n",
    "# threshold IOU\n",
    "max_IOU_above_threshold = tf.greater(max_IOU_per_row, threshold)\n",
    "\n",
    "# map the gt boxes to the prior boxes with the highest overlap\n",
    "gt_box_label_map = tf.gather(gt_box_label, max_IOU_idx_per_row, batch_dims = 1)\n",
    "# get the offset, offcet (delta_cx, delta_cy, delta_width, delta_height)\n",
    "gt_box_label_map_offsets = calculate_offset_from_gt(gt_box_label_map, prior_boxes)\n",
    "# remove from gt_boxes_map where overlap with prior boxes is less than 0.5\n",
    "gt_boxes_map_offset_suppressed = tf.where( tf.expand_dims(max_IOU_above_threshold, -1),  \n",
    "                                    gt_box_label_map_offsets, tf.zeros_like(gt_box_label_map))\n",
    "# add a positive condition column for the localization loss\n",
    "max_IOU_above_threshold_expand = tf.expand_dims(max_IOU_above_threshold, -1)\n",
    "max_IOU_above_threshold_expand = tf.cast(max_IOU_above_threshold_expand, tf.float32)\n",
    "gt_boxes_map_offset_suppressed_with_pos_cond = tf.concat([  gt_boxes_map_offset_suppressed, \n",
    "                                                            max_IOU_above_threshold_expand ], axis = 2)\n",
    "\n",
    "gt_labels_map = tf.gather(gt_labels, max_IOU_idx_per_row, batch_dims = 0)\n",
    "# suppress the label where IOU with the gt boxes is < 0.5\n",
    "gt_labels_map_suppressed = tf.where( max_IOU_above_threshold, \n",
    "                                    gt_labels_map, tf.zeros_like(gt_labels_map))\n",
    "gt_labels_one_hot_encoded = tf.one_hot(gt_labels_map_suppressed, number_of_labels)"
   ]
  },
  {
   "cell_type": "code",
   "execution_count": 18,
   "id": "7a8d67af",
   "metadata": {},
   "outputs": [
    {
     "data": {
      "text/plain": [
       "<tf.Tensor: shape=(1, 64), dtype=int32, numpy=\n",
       "array([[0, 0, 0, 0, 0, 0, 0, 0, 0, 0, 0, 0, 0, 0, 0, 0, 0, 0, 0, 0, 0, 0,\n",
       "        0, 0, 0, 0, 0, 0, 0, 0, 0, 0, 0, 0, 0, 0, 0, 0, 0, 0, 0, 0, 0, 0,\n",
       "        0, 0, 0, 0, 0, 0, 0, 0, 0, 0, 0, 0, 0, 0, 0, 0, 0, 0, 0, 0]],\n",
       "      dtype=int32)>"
      ]
     },
     "execution_count": 18,
     "metadata": {},
     "output_type": "execute_result"
    }
   ],
   "source": [
    "gt_labels_map_suppressed"
   ]
  },
  {
   "cell_type": "code",
   "execution_count": 19,
   "id": "e905979f",
   "metadata": {},
   "outputs": [
    {
     "data": {
      "text/plain": [
       "<tf.Tensor: shape=(1, 1), dtype=int32, numpy=array([[0]], dtype=int32)>"
      ]
     },
     "execution_count": 19,
     "metadata": {},
     "output_type": "execute_result"
    }
   ],
   "source": [
    "highest_overlap_idx = tf.math.argmax(IOU_map, axis = 1)\n",
    "highest_overlap_idx = tf.cast(highest_overlap_idx, tf.int32)\n",
    "\n",
    "highest_overlap_idx"
   ]
  },
  {
   "cell_type": "code",
   "execution_count": null,
   "id": "b477089a",
   "metadata": {},
   "outputs": [],
   "source": []
  },
  {
   "cell_type": "code",
   "execution_count": null,
   "id": "1060dc5d",
   "metadata": {},
   "outputs": [],
   "source": []
  },
  {
   "cell_type": "code",
   "execution_count": null,
   "id": "6e20866d",
   "metadata": {},
   "outputs": [],
   "source": []
  },
  {
   "cell_type": "code",
   "execution_count": null,
   "id": "33e0717d",
   "metadata": {},
   "outputs": [],
   "source": []
  },
  {
   "cell_type": "code",
   "execution_count": 20,
   "id": "07b1c529",
   "metadata": {},
   "outputs": [],
   "source": [
    "max_IOU_above_threshold = tf.greater(max_IOU_per_row, threshold)\n",
    "idx = tf.range(IOU_map.shape[1])\n",
    "highest_overlap_idx_map = tf.expand_dims(tf.equal(idx, tf.transpose(highest_overlap_idx)), axis = 0)\n",
    "IOU_map = tf.where(tf.transpose(highest_overlap_idx_map, perm=[0,2,1]), tf.constant(1.0), IOU_map)"
   ]
  },
  {
   "cell_type": "code",
   "execution_count": 21,
   "id": "c6d1293a",
   "metadata": {},
   "outputs": [
    {
     "data": {
      "text/plain": [
       "<tf.Tensor: shape=(1, 64, 1), dtype=bool, numpy=\n",
       "array([[[ True],\n",
       "        [False],\n",
       "        [False],\n",
       "        [False],\n",
       "        [False],\n",
       "        [False],\n",
       "        [False],\n",
       "        [False],\n",
       "        [False],\n",
       "        [False],\n",
       "        [False],\n",
       "        [False],\n",
       "        [False],\n",
       "        [False],\n",
       "        [False],\n",
       "        [False],\n",
       "        [False],\n",
       "        [False],\n",
       "        [False],\n",
       "        [False],\n",
       "        [False],\n",
       "        [False],\n",
       "        [False],\n",
       "        [False],\n",
       "        [False],\n",
       "        [False],\n",
       "        [False],\n",
       "        [False],\n",
       "        [False],\n",
       "        [False],\n",
       "        [False],\n",
       "        [False],\n",
       "        [False],\n",
       "        [False],\n",
       "        [False],\n",
       "        [False],\n",
       "        [False],\n",
       "        [False],\n",
       "        [False],\n",
       "        [False],\n",
       "        [False],\n",
       "        [False],\n",
       "        [False],\n",
       "        [False],\n",
       "        [False],\n",
       "        [False],\n",
       "        [False],\n",
       "        [False],\n",
       "        [False],\n",
       "        [False],\n",
       "        [False],\n",
       "        [False],\n",
       "        [False],\n",
       "        [False],\n",
       "        [False],\n",
       "        [False],\n",
       "        [False],\n",
       "        [False],\n",
       "        [False],\n",
       "        [False],\n",
       "        [False],\n",
       "        [False],\n",
       "        [False],\n",
       "        [False]]])>"
      ]
     },
     "execution_count": 21,
     "metadata": {},
     "output_type": "execute_result"
    }
   ],
   "source": [
    "tf.transpose(highest_overlap_idx_map, perm=[0,2,1])"
   ]
  },
  {
   "cell_type": "code",
   "execution_count": null,
   "id": "3aaa6825",
   "metadata": {},
   "outputs": [],
   "source": []
  },
  {
   "cell_type": "code",
   "execution_count": null,
   "id": "fc5db5b3",
   "metadata": {},
   "outputs": [],
   "source": []
  },
  {
   "cell_type": "code",
   "execution_count": null,
   "id": "72a6a319",
   "metadata": {},
   "outputs": [],
   "source": []
  },
  {
   "cell_type": "code",
   "execution_count": null,
   "id": "deeafc92",
   "metadata": {},
   "outputs": [],
   "source": []
  },
  {
   "cell_type": "code",
   "execution_count": null,
   "id": "23d78d06",
   "metadata": {},
   "outputs": [],
   "source": []
  },
  {
   "cell_type": "code",
   "execution_count": null,
   "id": "6947d19e",
   "metadata": {},
   "outputs": [],
   "source": []
  },
  {
   "cell_type": "code",
   "execution_count": 22,
   "id": "3dc06ca3",
   "metadata": {},
   "outputs": [
    {
     "data": {
      "text/plain": [
       "<tf.Tensor: shape=(1, 1, 64), dtype=bool, numpy=\n",
       "array([[[ True, False, False, False, False, False, False, False, False,\n",
       "         False, False, False, False, False, False, False, False, False,\n",
       "         False, False, False, False, False, False, False, False, False,\n",
       "         False, False, False, False, False, False, False, False, False,\n",
       "         False, False, False, False, False, False, False, False, False,\n",
       "         False, False, False, False, False, False, False, False, False,\n",
       "         False, False, False, False, False, False, False, False, False,\n",
       "         False]]])>"
      ]
     },
     "execution_count": 22,
     "metadata": {},
     "output_type": "execute_result"
    }
   ],
   "source": [
    "idx = tf.range(IOU_map.shape[1])\n",
    "tf.expand_dims(tf.equal(idx, tf.transpose(highest_overlap_idx)), axis = 0)"
   ]
  },
  {
   "cell_type": "code",
   "execution_count": 23,
   "id": "4cfef9f2",
   "metadata": {},
   "outputs": [],
   "source": [
    "highest_overlap_idx = tf.math.argmax(IOU_map, axis = 1)\n",
    "\n",
    "highest_overlap_idx = tf.cast(highest_overlap_idx, tf.int32)"
   ]
  },
  {
   "cell_type": "code",
   "execution_count": 24,
   "id": "15b62677",
   "metadata": {},
   "outputs": [
    {
     "data": {
      "text/plain": [
       "<tf.Tensor: shape=(1, 1), dtype=int32, numpy=array([[0]], dtype=int32)>"
      ]
     },
     "execution_count": 24,
     "metadata": {},
     "output_type": "execute_result"
    }
   ],
   "source": [
    "highest_overlap_idx"
   ]
  },
  {
   "cell_type": "code",
   "execution_count": 25,
   "id": "40ae2520",
   "metadata": {},
   "outputs": [
    {
     "data": {
      "text/plain": [
       "<tf.Tensor: shape=(1, 1), dtype=bool, numpy=array([[False]])>"
      ]
     },
     "execution_count": 25,
     "metadata": {},
     "output_type": "execute_result"
    }
   ],
   "source": [
    "tf.not_equal(highest_overlap_idx, tf.constant(0))"
   ]
  },
  {
   "cell_type": "code",
   "execution_count": 26,
   "id": "eface595",
   "metadata": {},
   "outputs": [
    {
     "data": {
      "text/plain": [
       "<tf.Tensor: shape=(4,), dtype=float32, numpy=array([0.5, 0.5, 1. , 1. ], dtype=float32)>"
      ]
     },
     "execution_count": 26,
     "metadata": {},
     "output_type": "execute_result"
    }
   ],
   "source": [
    "gt_box_label_map[0, 0, :]"
   ]
  },
  {
   "cell_type": "code",
   "execution_count": 27,
   "id": "7a62f5a7",
   "metadata": {},
   "outputs": [],
   "source": [
    "prior_boxes_testing = tf.expand_dims(prior_boxes, axis=0)\n",
    "# (gt_box_label_map[:, :, 0] - prior_boxes_testing[:, :, 0]) / prior_boxes_testing[:, :, 0]\n",
    "\n",
    "g_j_cx = (gt_box_label_map[:, :, 0] - prior_boxes_testing[:, :, 0]) / prior_boxes_testing[:, :, 2]\n",
    "g_j_cy = (gt_box_label_map[:, :, 1] - prior_boxes_testing[:, :, 1]) / prior_boxes_testing[:, :, 3]\n",
    "g_j_w = tf.math.log(gt_box_label_map[:, :, 2] / prior_boxes_testing[:, :, 2])\n",
    "g_j_h = tf.math.log(gt_box_label_map[:, :, 3] / prior_boxes_testing[:, :, 3])\n",
    "\n",
    "offset = tf.concat( [ g_j_cx, g_j_cy, g_j_w, g_j_h ] , axis = 0)"
   ]
  },
  {
   "cell_type": "code",
   "execution_count": 28,
   "id": "418ba071",
   "metadata": {},
   "outputs": [
    {
     "name": "stdout",
     "output_type": "stream",
     "text": [
      "tf.Tensor([0.5 0.5 1.  1. ], shape=(4,), dtype=float32)\n",
      "tf.Tensor([0.8125 0.8125 0.125  0.125 ], shape=(4,), dtype=float32)\n"
     ]
    },
    {
     "data": {
      "text/plain": [
       "<tf.Tensor: shape=(4,), dtype=float32, numpy=array([-0.3125, -0.3125,  0.875 ,  0.875 ], dtype=float32)>"
      ]
     },
     "execution_count": 28,
     "metadata": {},
     "output_type": "execute_result"
    }
   ],
   "source": [
    "print(gt_box_label_map[0, 54])\n",
    "print(prior_boxes_testing[0, 54])\n",
    "(gt_box_label_map[0, 54] - prior_boxes_testing[0, 54]) #/ prior_boxes_testing[0, 54]"
   ]
  },
  {
   "cell_type": "code",
   "execution_count": 29,
   "id": "d65b1c9a",
   "metadata": {},
   "outputs": [
    {
     "data": {
      "text/plain": [
       "<tf.Tensor: shape=(4,), dtype=float32, numpy=array([0.8125, 0.8125, 0.125 , 0.125 ], dtype=float32)>"
      ]
     },
     "execution_count": 29,
     "metadata": {},
     "output_type": "execute_result"
    }
   ],
   "source": [
    "prior_boxes_testing[0, 54]"
   ]
  },
  {
   "cell_type": "code",
   "execution_count": 30,
   "id": "c12a303b",
   "metadata": {},
   "outputs": [
    {
     "name": "stdout",
     "output_type": "stream",
     "text": [
      "tf.Tensor(-2.5, shape=(), dtype=float32)\n",
      "tf.Tensor(-2.5, shape=(), dtype=float32)\n",
      "tf.Tensor(2.0794415, shape=(), dtype=float32)\n",
      "tf.Tensor(2.0794415, shape=(), dtype=float32)\n"
     ]
    }
   ],
   "source": [
    "print(g_j_cx[0, 54])\n",
    "print(g_j_cy[0, 54])\n",
    "print(g_j_w[0, 54])\n",
    "print(g_j_h[0, 54])\n",
    "# offset[0, 54]"
   ]
  },
  {
   "cell_type": "code",
   "execution_count": null,
   "id": "2a7b001b",
   "metadata": {},
   "outputs": [],
   "source": []
  },
  {
   "cell_type": "code",
   "execution_count": null,
   "id": "bb384aee",
   "metadata": {},
   "outputs": [],
   "source": []
  },
  {
   "cell_type": "code",
   "execution_count": null,
   "id": "ebbe2a09",
   "metadata": {},
   "outputs": [],
   "source": []
  },
  {
   "cell_type": "code",
   "execution_count": null,
   "id": "1858b3ac",
   "metadata": {},
   "outputs": [],
   "source": []
  },
  {
   "cell_type": "code",
   "execution_count": null,
   "id": "39c61bb3",
   "metadata": {},
   "outputs": [],
   "source": []
  },
  {
   "cell_type": "code",
   "execution_count": 31,
   "id": "2e98e2d9",
   "metadata": {},
   "outputs": [
    {
     "data": {
      "text/plain": [
       "<tf.Tensor: shape=(1, 64, 4), dtype=float32, numpy=\n",
       "array([[[ 3.5      ,  3.5      ,  2.0794415,  2.0794415],\n",
       "        [ 2.5      ,  3.5      ,  2.0794415,  2.0794415],\n",
       "        [ 1.5      ,  3.5      ,  2.0794415,  2.0794415],\n",
       "        [ 0.5      ,  3.5      ,  2.0794415,  2.0794415],\n",
       "        [-0.5      ,  3.5      ,  2.0794415,  2.0794415],\n",
       "        [-1.5      ,  3.5      ,  2.0794415,  2.0794415],\n",
       "        [-2.5      ,  3.5      ,  2.0794415,  2.0794415],\n",
       "        [-3.5      ,  3.5      ,  2.0794415,  2.0794415],\n",
       "        [ 3.5      ,  2.5      ,  2.0794415,  2.0794415],\n",
       "        [ 2.5      ,  2.5      ,  2.0794415,  2.0794415],\n",
       "        [ 1.5      ,  2.5      ,  2.0794415,  2.0794415],\n",
       "        [ 0.5      ,  2.5      ,  2.0794415,  2.0794415],\n",
       "        [-0.5      ,  2.5      ,  2.0794415,  2.0794415],\n",
       "        [-1.5      ,  2.5      ,  2.0794415,  2.0794415],\n",
       "        [-2.5      ,  2.5      ,  2.0794415,  2.0794415],\n",
       "        [-3.5      ,  2.5      ,  2.0794415,  2.0794415],\n",
       "        [ 3.5      ,  1.5      ,  2.0794415,  2.0794415],\n",
       "        [ 2.5      ,  1.5      ,  2.0794415,  2.0794415],\n",
       "        [ 1.5      ,  1.5      ,  2.0794415,  2.0794415],\n",
       "        [ 0.5      ,  1.5      ,  2.0794415,  2.0794415],\n",
       "        [-0.5      ,  1.5      ,  2.0794415,  2.0794415],\n",
       "        [-1.5      ,  1.5      ,  2.0794415,  2.0794415],\n",
       "        [-2.5      ,  1.5      ,  2.0794415,  2.0794415],\n",
       "        [-3.5      ,  1.5      ,  2.0794415,  2.0794415],\n",
       "        [ 3.5      ,  0.5      ,  2.0794415,  2.0794415],\n",
       "        [ 2.5      ,  0.5      ,  2.0794415,  2.0794415],\n",
       "        [ 1.5      ,  0.5      ,  2.0794415,  2.0794415],\n",
       "        [ 0.5      ,  0.5      ,  2.0794415,  2.0794415],\n",
       "        [-0.5      ,  0.5      ,  2.0794415,  2.0794415],\n",
       "        [-1.5      ,  0.5      ,  2.0794415,  2.0794415],\n",
       "        [-2.5      ,  0.5      ,  2.0794415,  2.0794415],\n",
       "        [-3.5      ,  0.5      ,  2.0794415,  2.0794415],\n",
       "        [ 3.5      , -0.5      ,  2.0794415,  2.0794415],\n",
       "        [ 2.5      , -0.5      ,  2.0794415,  2.0794415],\n",
       "        [ 1.5      , -0.5      ,  2.0794415,  2.0794415],\n",
       "        [ 0.5      , -0.5      ,  2.0794415,  2.0794415],\n",
       "        [-0.5      , -0.5      ,  2.0794415,  2.0794415],\n",
       "        [-1.5      , -0.5      ,  2.0794415,  2.0794415],\n",
       "        [-2.5      , -0.5      ,  2.0794415,  2.0794415],\n",
       "        [-3.5      , -0.5      ,  2.0794415,  2.0794415],\n",
       "        [ 3.5      , -1.5      ,  2.0794415,  2.0794415],\n",
       "        [ 2.5      , -1.5      ,  2.0794415,  2.0794415],\n",
       "        [ 1.5      , -1.5      ,  2.0794415,  2.0794415],\n",
       "        [ 0.5      , -1.5      ,  2.0794415,  2.0794415],\n",
       "        [-0.5      , -1.5      ,  2.0794415,  2.0794415],\n",
       "        [-1.5      , -1.5      ,  2.0794415,  2.0794415],\n",
       "        [-2.5      , -1.5      ,  2.0794415,  2.0794415],\n",
       "        [-3.5      , -1.5      ,  2.0794415,  2.0794415],\n",
       "        [ 3.5      , -2.5      ,  2.0794415,  2.0794415],\n",
       "        [ 2.5      , -2.5      ,  2.0794415,  2.0794415],\n",
       "        [ 1.5      , -2.5      ,  2.0794415,  2.0794415],\n",
       "        [ 0.5      , -2.5      ,  2.0794415,  2.0794415],\n",
       "        [-0.5      , -2.5      ,  2.0794415,  2.0794415],\n",
       "        [-1.5      , -2.5      ,  2.0794415,  2.0794415],\n",
       "        [-2.5      , -2.5      ,  2.0794415,  2.0794415],\n",
       "        [-3.5      , -2.5      ,  2.0794415,  2.0794415],\n",
       "        [ 3.5      , -3.5      ,  2.0794415,  2.0794415],\n",
       "        [ 2.5      , -3.5      ,  2.0794415,  2.0794415],\n",
       "        [ 1.5      , -3.5      ,  2.0794415,  2.0794415],\n",
       "        [ 0.5      , -3.5      ,  2.0794415,  2.0794415],\n",
       "        [-0.5      , -3.5      ,  2.0794415,  2.0794415],\n",
       "        [-1.5      , -3.5      ,  2.0794415,  2.0794415],\n",
       "        [-2.5      , -3.5      ,  2.0794415,  2.0794415],\n",
       "        [-3.5      , -3.5      ,  2.0794415,  2.0794415]]], dtype=float32)>"
      ]
     },
     "execution_count": 31,
     "metadata": {},
     "output_type": "execute_result"
    }
   ],
   "source": [
    "tf.transpose(tf.expand_dims(offset, axis = 0), perm=[0,2,1])"
   ]
  },
  {
   "cell_type": "code",
   "execution_count": 32,
   "id": "3db777e7",
   "metadata": {},
   "outputs": [
    {
     "data": {
      "text/plain": [
       "<tf.Tensor: shape=(1, 64, 4), dtype=float32, numpy=\n",
       "array([[[ 3.5      ,  3.5      ,  2.0794415,  2.0794415],\n",
       "        [ 2.5      ,  3.5      ,  2.0794415,  2.0794415],\n",
       "        [ 1.5      ,  3.5      ,  2.0794415,  2.0794415],\n",
       "        [ 0.5      ,  3.5      ,  2.0794415,  2.0794415],\n",
       "        [-0.5      ,  3.5      ,  2.0794415,  2.0794415],\n",
       "        [-1.5      ,  3.5      ,  2.0794415,  2.0794415],\n",
       "        [-2.5      ,  3.5      ,  2.0794415,  2.0794415],\n",
       "        [-3.5      ,  3.5      ,  2.0794415,  2.0794415],\n",
       "        [ 3.5      ,  2.5      ,  2.0794415,  2.0794415],\n",
       "        [ 2.5      ,  2.5      ,  2.0794415,  2.0794415],\n",
       "        [ 1.5      ,  2.5      ,  2.0794415,  2.0794415],\n",
       "        [ 0.5      ,  2.5      ,  2.0794415,  2.0794415],\n",
       "        [-0.5      ,  2.5      ,  2.0794415,  2.0794415],\n",
       "        [-1.5      ,  2.5      ,  2.0794415,  2.0794415],\n",
       "        [-2.5      ,  2.5      ,  2.0794415,  2.0794415],\n",
       "        [-3.5      ,  2.5      ,  2.0794415,  2.0794415],\n",
       "        [ 3.5      ,  1.5      ,  2.0794415,  2.0794415],\n",
       "        [ 2.5      ,  1.5      ,  2.0794415,  2.0794415],\n",
       "        [ 1.5      ,  1.5      ,  2.0794415,  2.0794415],\n",
       "        [ 0.5      ,  1.5      ,  2.0794415,  2.0794415],\n",
       "        [-0.5      ,  1.5      ,  2.0794415,  2.0794415],\n",
       "        [-1.5      ,  1.5      ,  2.0794415,  2.0794415],\n",
       "        [-2.5      ,  1.5      ,  2.0794415,  2.0794415],\n",
       "        [-3.5      ,  1.5      ,  2.0794415,  2.0794415],\n",
       "        [ 3.5      ,  0.5      ,  2.0794415,  2.0794415],\n",
       "        [ 2.5      ,  0.5      ,  2.0794415,  2.0794415],\n",
       "        [ 1.5      ,  0.5      ,  2.0794415,  2.0794415],\n",
       "        [ 0.5      ,  0.5      ,  2.0794415,  2.0794415],\n",
       "        [-0.5      ,  0.5      ,  2.0794415,  2.0794415],\n",
       "        [-1.5      ,  0.5      ,  2.0794415,  2.0794415],\n",
       "        [-2.5      ,  0.5      ,  2.0794415,  2.0794415],\n",
       "        [-3.5      ,  0.5      ,  2.0794415,  2.0794415],\n",
       "        [ 3.5      , -0.5      ,  2.0794415,  2.0794415],\n",
       "        [ 2.5      , -0.5      ,  2.0794415,  2.0794415],\n",
       "        [ 1.5      , -0.5      ,  2.0794415,  2.0794415],\n",
       "        [ 0.5      , -0.5      ,  2.0794415,  2.0794415],\n",
       "        [-0.5      , -0.5      ,  2.0794415,  2.0794415],\n",
       "        [-1.5      , -0.5      ,  2.0794415,  2.0794415],\n",
       "        [-2.5      , -0.5      ,  2.0794415,  2.0794415],\n",
       "        [-3.5      , -0.5      ,  2.0794415,  2.0794415],\n",
       "        [ 3.5      , -1.5      ,  2.0794415,  2.0794415],\n",
       "        [ 2.5      , -1.5      ,  2.0794415,  2.0794415],\n",
       "        [ 1.5      , -1.5      ,  2.0794415,  2.0794415],\n",
       "        [ 0.5      , -1.5      ,  2.0794415,  2.0794415],\n",
       "        [-0.5      , -1.5      ,  2.0794415,  2.0794415],\n",
       "        [-1.5      , -1.5      ,  2.0794415,  2.0794415],\n",
       "        [-2.5      , -1.5      ,  2.0794415,  2.0794415],\n",
       "        [-3.5      , -1.5      ,  2.0794415,  2.0794415],\n",
       "        [ 3.5      , -2.5      ,  2.0794415,  2.0794415],\n",
       "        [ 2.5      , -2.5      ,  2.0794415,  2.0794415],\n",
       "        [ 1.5      , -2.5      ,  2.0794415,  2.0794415],\n",
       "        [ 0.5      , -2.5      ,  2.0794415,  2.0794415],\n",
       "        [-0.5      , -2.5      ,  2.0794415,  2.0794415],\n",
       "        [-1.5      , -2.5      ,  2.0794415,  2.0794415],\n",
       "        [-2.5      , -2.5      ,  2.0794415,  2.0794415],\n",
       "        [-3.5      , -2.5      ,  2.0794415,  2.0794415],\n",
       "        [ 3.5      , -3.5      ,  2.0794415,  2.0794415],\n",
       "        [ 2.5      , -3.5      ,  2.0794415,  2.0794415],\n",
       "        [ 1.5      , -3.5      ,  2.0794415,  2.0794415],\n",
       "        [ 0.5      , -3.5      ,  2.0794415,  2.0794415],\n",
       "        [-0.5      , -3.5      ,  2.0794415,  2.0794415],\n",
       "        [-1.5      , -3.5      ,  2.0794415,  2.0794415],\n",
       "        [-2.5      , -3.5      ,  2.0794415,  2.0794415],\n",
       "        [-3.5      , -3.5      ,  2.0794415,  2.0794415]]], dtype=float32)>"
      ]
     },
     "execution_count": 32,
     "metadata": {},
     "output_type": "execute_result"
    }
   ],
   "source": [
    "tf.transpose(tf.expand_dims(offset, axis = 0), perm=[0,2,1])"
   ]
  },
  {
   "cell_type": "code",
   "execution_count": 33,
   "id": "eb00870e",
   "metadata": {},
   "outputs": [
    {
     "data": {
      "text/plain": [
       "<tf.Tensor: shape=(1, 64), dtype=int64, numpy=\n",
       "array([[0, 0, 0, 0, 0, 0, 0, 0, 0, 0, 0, 0, 0, 0, 0, 0, 0, 0, 0, 0, 0, 0,\n",
       "        0, 0, 0, 0, 0, 0, 0, 0, 0, 0, 0, 0, 0, 0, 0, 0, 0, 0, 0, 0, 0, 0,\n",
       "        0, 0, 0, 0, 0, 0, 0, 0, 0, 0, 0, 0, 0, 0, 0, 0, 0, 0, 0, 0]])>"
      ]
     },
     "execution_count": 33,
     "metadata": {},
     "output_type": "execute_result"
    }
   ],
   "source": [
    "max_IOU_idx_per_row"
   ]
  },
  {
   "cell_type": "code",
   "execution_count": 34,
   "id": "59b12a2a",
   "metadata": {},
   "outputs": [
    {
     "data": {
      "text/plain": [
       "<tf.Tensor: shape=(1, 64, 4), dtype=float32, numpy=\n",
       "array([[[0.5, 0.5, 1. , 1. ],\n",
       "        [0.5, 0.5, 1. , 1. ],\n",
       "        [0.5, 0.5, 1. , 1. ],\n",
       "        [0.5, 0.5, 1. , 1. ],\n",
       "        [0.5, 0.5, 1. , 1. ],\n",
       "        [0.5, 0.5, 1. , 1. ],\n",
       "        [0.5, 0.5, 1. , 1. ],\n",
       "        [0.5, 0.5, 1. , 1. ],\n",
       "        [0.5, 0.5, 1. , 1. ],\n",
       "        [0.5, 0.5, 1. , 1. ],\n",
       "        [0.5, 0.5, 1. , 1. ],\n",
       "        [0.5, 0.5, 1. , 1. ],\n",
       "        [0.5, 0.5, 1. , 1. ],\n",
       "        [0.5, 0.5, 1. , 1. ],\n",
       "        [0.5, 0.5, 1. , 1. ],\n",
       "        [0.5, 0.5, 1. , 1. ],\n",
       "        [0.5, 0.5, 1. , 1. ],\n",
       "        [0.5, 0.5, 1. , 1. ],\n",
       "        [0.5, 0.5, 1. , 1. ],\n",
       "        [0.5, 0.5, 1. , 1. ],\n",
       "        [0.5, 0.5, 1. , 1. ],\n",
       "        [0.5, 0.5, 1. , 1. ],\n",
       "        [0.5, 0.5, 1. , 1. ],\n",
       "        [0.5, 0.5, 1. , 1. ],\n",
       "        [0.5, 0.5, 1. , 1. ],\n",
       "        [0.5, 0.5, 1. , 1. ],\n",
       "        [0.5, 0.5, 1. , 1. ],\n",
       "        [0.5, 0.5, 1. , 1. ],\n",
       "        [0.5, 0.5, 1. , 1. ],\n",
       "        [0.5, 0.5, 1. , 1. ],\n",
       "        [0.5, 0.5, 1. , 1. ],\n",
       "        [0.5, 0.5, 1. , 1. ],\n",
       "        [0.5, 0.5, 1. , 1. ],\n",
       "        [0.5, 0.5, 1. , 1. ],\n",
       "        [0.5, 0.5, 1. , 1. ],\n",
       "        [0.5, 0.5, 1. , 1. ],\n",
       "        [0.5, 0.5, 1. , 1. ],\n",
       "        [0.5, 0.5, 1. , 1. ],\n",
       "        [0.5, 0.5, 1. , 1. ],\n",
       "        [0.5, 0.5, 1. , 1. ],\n",
       "        [0.5, 0.5, 1. , 1. ],\n",
       "        [0.5, 0.5, 1. , 1. ],\n",
       "        [0.5, 0.5, 1. , 1. ],\n",
       "        [0.5, 0.5, 1. , 1. ],\n",
       "        [0.5, 0.5, 1. , 1. ],\n",
       "        [0.5, 0.5, 1. , 1. ],\n",
       "        [0.5, 0.5, 1. , 1. ],\n",
       "        [0.5, 0.5, 1. , 1. ],\n",
       "        [0.5, 0.5, 1. , 1. ],\n",
       "        [0.5, 0.5, 1. , 1. ],\n",
       "        [0.5, 0.5, 1. , 1. ],\n",
       "        [0.5, 0.5, 1. , 1. ],\n",
       "        [0.5, 0.5, 1. , 1. ],\n",
       "        [0.5, 0.5, 1. , 1. ],\n",
       "        [0.5, 0.5, 1. , 1. ],\n",
       "        [0.5, 0.5, 1. , 1. ],\n",
       "        [0.5, 0.5, 1. , 1. ],\n",
       "        [0.5, 0.5, 1. , 1. ],\n",
       "        [0.5, 0.5, 1. , 1. ],\n",
       "        [0.5, 0.5, 1. , 1. ],\n",
       "        [0.5, 0.5, 1. , 1. ],\n",
       "        [0.5, 0.5, 1. , 1. ],\n",
       "        [0.5, 0.5, 1. , 1. ],\n",
       "        [0.5, 0.5, 1. , 1. ]]], dtype=float32)>"
      ]
     },
     "execution_count": 34,
     "metadata": {},
     "output_type": "execute_result"
    }
   ],
   "source": [
    "gt_box_label_map"
   ]
  },
  {
   "cell_type": "code",
   "execution_count": 35,
   "id": "ff5bc209",
   "metadata": {},
   "outputs": [],
   "source": [
    "from bbox_utils import match_priors_with_gt, box_overlap_iou, convert_to_centre_dimensions_form"
   ]
  },
  {
   "cell_type": "code",
   "execution_count": 36,
   "id": "6bc49b36",
   "metadata": {},
   "outputs": [
    {
     "data": {
      "text/plain": [
       "[0]"
      ]
     },
     "execution_count": 36,
     "metadata": {},
     "output_type": "execute_result"
    }
   ],
   "source": [
    "gt_labels"
   ]
  },
  {
   "cell_type": "code",
   "execution_count": 37,
   "id": "9a101149",
   "metadata": {},
   "outputs": [],
   "source": [
    "# gt_boxes = [[4, 4, 9, 9], [9, 9, 14 , 14], [24, 24, 29, 29]]\n",
    "\n",
    "# boxes with no overlap\n",
    "# gt_boxes = [[4, 4, 11, 11], [9, 9, 14 , 14], [24, 24, 31, 31]]\n",
    "# gt_labels = [1, 2, 1]\n",
    "\n",
    "gt_boxes = [[0, 0, 32, 32]]\n",
    "gt_labels = [0]\n",
    "\n",
    "gt_boxes_normalized = tf.constant([gt_boxes], tf.float32) / image_size\n",
    "\n",
    "gt_labels = tf.constant([gt_labels])"
   ]
  },
  {
   "cell_type": "code",
   "execution_count": 38,
   "id": "44cae917",
   "metadata": {},
   "outputs": [
    {
     "data": {
      "text/plain": [
       "array([0.75 , 0.75 , 0.875, 0.875], dtype=float32)"
      ]
     },
     "execution_count": 38,
     "metadata": {},
     "output_type": "execute_result"
    }
   ],
   "source": [
    "boxes[54]"
   ]
  },
  {
   "cell_type": "code",
   "execution_count": 39,
   "id": "b29275c1",
   "metadata": {},
   "outputs": [
    {
     "data": {
      "text/plain": [
       "0.8125"
      ]
     },
     "execution_count": 39,
     "metadata": {},
     "output_type": "execute_result"
    }
   ],
   "source": [
    "(0.875 + 0.75) / 2"
   ]
  },
  {
   "cell_type": "code",
   "execution_count": 40,
   "id": "3c63eb4f",
   "metadata": {},
   "outputs": [],
   "source": [
    "# gt_boxes center format \n",
    "\n",
    "# [[6.5, 6.5, 5, 5], [11.5, 11.5, 5 , 2.5], [26.5, 26.5, 5, 5]]\n",
    "# [[0.203125, 0.203125, 0.15625, 0.15625], [0.359375, 0.359375, 0.15625, 0.15625], [0.828125, 0.828125, 0.15625, 0.15625]]\n",
    "\n",
    "# default_boxes: [[6, 6, 4, 4], [None, None, None, None], [26, 26, 4, 4]]\n",
    "# default_boxes: [[0.1875, 0.1875, 0.125, 0.125], [None, None, None, None], [0.8125 , 0.8125 , 0.125, 0.125]]\n",
    "\n",
    "# g_val for loss: [[0.125, 0.125, 0.22314, 0.22314], [], [0.125, 0.125, 0.22314, 0.22314]]"
   ]
  },
  {
   "cell_type": "code",
   "execution_count": 41,
   "id": "f1acf8c9",
   "metadata": {},
   "outputs": [
    {
     "data": {
      "text/plain": [
       "0.015625"
      ]
     },
     "execution_count": 41,
     "metadata": {},
     "output_type": "execute_result"
    }
   ],
   "source": [
    "0.828125 - 0.8125 "
   ]
  },
  {
   "cell_type": "code",
   "execution_count": 42,
   "id": "a5a36918",
   "metadata": {},
   "outputs": [
    {
     "data": {
      "text/plain": [
       "0.015625"
      ]
     },
     "execution_count": 42,
     "metadata": {},
     "output_type": "execute_result"
    }
   ],
   "source": [
    "(26.5 - 26) / 32"
   ]
  },
  {
   "cell_type": "code",
   "execution_count": 43,
   "id": "aabd3216",
   "metadata": {},
   "outputs": [
    {
     "data": {
      "text/plain": [
       "array([0.125, 0.125, 0.25 , 0.25 ], dtype=float32)"
      ]
     },
     "execution_count": 43,
     "metadata": {},
     "output_type": "execute_result"
    }
   ],
   "source": [
    "boxes[9]"
   ]
  },
  {
   "cell_type": "code",
   "execution_count": 44,
   "id": "c01b18af",
   "metadata": {},
   "outputs": [],
   "source": [
    "actual_deltas, actual_labels = match_priors_with_gt(prior_boxes, boxes, gt_boxes_normalized, gt_labels, 3)"
   ]
  },
  {
   "cell_type": "code",
   "execution_count": 45,
   "id": "ac42218d",
   "metadata": {},
   "outputs": [],
   "source": [
    "np.random.seed(42)\n",
    "pred_deltas = np.random.rand(1, 64, 4) * np.random.randint(-1, 2, size = (1, 64, 4))"
   ]
  },
  {
   "cell_type": "code",
   "execution_count": 46,
   "id": "4f38702e",
   "metadata": {},
   "outputs": [],
   "source": [
    "pred_deltas[0, 9] = [-0.015, 0.012, 0 , -0.031]\n",
    "pred_deltas[0, 54] = [0.15, 0.12, -0.0123 , -0.04]"
   ]
  },
  {
   "cell_type": "code",
   "execution_count": 47,
   "id": "57931be3",
   "metadata": {},
   "outputs": [
    {
     "data": {
      "text/plain": [
       "<tf.Tensor: shape=(2,), dtype=float32, numpy=array([0.00917172, 0.00783279], dtype=float32)>"
      ]
     },
     "execution_count": 47,
     "metadata": {},
     "output_type": "execute_result"
    }
   ],
   "source": [
    "huber_loss = tf.keras.losses.Huber(\n",
    "    reduction=tf.keras.losses.Reduction.NONE\n",
    ")\n",
    "\n",
    "huber_loss([ [0.125, 0.125, 0.22314, 0.22314], [0.125, 0.125, 0.22314, 0.22314] ], \n",
    "            [[-0.015, 0.012, 0 , -0.031], [0.15, 0.12, -0.0123 , -0.04]] \n",
    "          ) / 2"
   ]
  },
  {
   "cell_type": "code",
   "execution_count": 48,
   "id": "22dcb42d",
   "metadata": {},
   "outputs": [
    {
     "data": {
      "text/plain": [
       "2.148509686018715"
      ]
     },
     "execution_count": 48,
     "metadata": {},
     "output_type": "execute_result"
    }
   ],
   "source": [
    "0.03941108 / 0.01834345"
   ]
  },
  {
   "cell_type": "code",
   "execution_count": 49,
   "id": "be66c117",
   "metadata": {},
   "outputs": [],
   "source": [
    "from classification_loss import SSDLoss"
   ]
  },
  {
   "cell_type": "code",
   "execution_count": 50,
   "id": "2d3be5d5",
   "metadata": {},
   "outputs": [],
   "source": [
    "# pred_deltas"
   ]
  },
  {
   "cell_type": "code",
   "execution_count": 51,
   "id": "6434923c",
   "metadata": {},
   "outputs": [
    {
     "data": {
      "text/plain": [
       "<tf.Tensor: shape=(1, 64), dtype=float32, numpy=\n",
       "array([[2.046421, 0.      , 0.      , 0.      , 0.      , 0.      ,\n",
       "        0.      , 0.      , 0.      , 0.      , 0.      , 0.      ,\n",
       "        0.      , 0.      , 0.      , 0.      , 0.      , 0.      ,\n",
       "        0.      , 0.      , 0.      , 0.      , 0.      , 0.      ,\n",
       "        0.      , 0.      , 0.      , 0.      , 0.      , 0.      ,\n",
       "        0.      , 0.      , 0.      , 0.      , 0.      , 0.      ,\n",
       "        0.      , 0.      , 0.      , 0.      , 0.      , 0.      ,\n",
       "        0.      , 0.      , 0.      , 0.      , 0.      , 0.      ,\n",
       "        0.      , 0.      , 0.      , 0.      , 0.      , 0.      ,\n",
       "        0.      , 0.      , 0.      , 0.      , 0.      , 0.      ,\n",
       "        0.      , 0.      , 0.      , 0.      ]], dtype=float32)>"
      ]
     },
     "execution_count": 51,
     "metadata": {},
     "output_type": "execute_result"
    }
   ],
   "source": [
    "loss = SSDLoss()\n",
    "\n",
    "loss.localization_loss(actual_deltas, pred_deltas)"
   ]
  },
  {
   "cell_type": "code",
   "execution_count": 52,
   "id": "d94f9fc1",
   "metadata": {},
   "outputs": [],
   "source": [
    "# tf.keras.layers.Activation()"
   ]
  },
  {
   "cell_type": "markdown",
   "id": "87daae26",
   "metadata": {},
   "source": [
    "# Classification Loss"
   ]
  },
  {
   "cell_type": "code",
   "execution_count": 95,
   "id": "2a684d32",
   "metadata": {},
   "outputs": [],
   "source": [
    "categorical_cross_entropy = tf.losses.CategoricalCrossentropy(\n",
    "    reduction=tf.losses.Reduction.NONE\n",
    ")\n",
    "\n",
    "confidence_loss_for_all = categorical_cross_entropy(actual_labels, pred_labels)"
   ]
  },
  {
   "cell_type": "code",
   "execution_count": 96,
   "id": "95a08773",
   "metadata": {},
   "outputs": [
    {
     "data": {
      "text/plain": [
       "<tf.Tensor: shape=(1, 64), dtype=float64, numpy=\n",
       "array([[1.7034257 , 0.41949111, 3.26811185, 0.87499359, 0.38764255,\n",
       "        1.70838802, 1.12840853, 1.74408845, 1.15039062, 0.80752948,\n",
       "        0.32768397, 1.05417007, 1.27168956, 0.8764165 , 3.55442595,\n",
       "        0.81335988, 1.13514039, 1.21386384, 0.98948882, 1.06152132,\n",
       "        1.342952  , 1.19655044, 1.97705046, 0.6850454 , 5.62284951,\n",
       "        0.76989652, 1.31667822, 0.49032907, 1.47973892, 1.14174947,\n",
       "        2.58966127, 1.17969006, 0.62407747, 1.97268043, 1.70563566,\n",
       "        1.7364189 , 0.95661073, 2.46632554, 1.29326096, 2.16043052,\n",
       "        0.91774343, 1.93904755, 0.7230543 , 0.81187365, 2.45813705,\n",
       "        1.56450689, 1.84359732, 1.42789407, 1.18464327, 0.50484677,\n",
       "        0.35296869, 1.25513821, 0.91095249, 0.86429843, 0.68723796,\n",
       "        0.47457018, 3.46912371, 3.81828248, 0.85066257, 1.32912642,\n",
       "        1.39720615, 0.71601407, 0.8447889 , 1.62820561]])>"
      ]
     },
     "execution_count": 96,
     "metadata": {},
     "output_type": "execute_result"
    }
   ],
   "source": [
    "confidence_loss_for_all"
   ]
  },
  {
   "cell_type": "code",
   "execution_count": 55,
   "id": "23c24c6b",
   "metadata": {},
   "outputs": [],
   "source": [
    "# Xnew[9][3] = 1\n",
    "# Xnew[54][3] = 1"
   ]
  },
  {
   "cell_type": "code",
   "execution_count": 56,
   "id": "1e4a62b1",
   "metadata": {},
   "outputs": [],
   "source": [
    "np.random.seed(42)\n",
    "pred_labels = np.random.rand(64, 3)\n",
    "pred_labels.astype(np.float32)\n",
    "pred_labels = pred_labels / np.reshape(np.sum(pred_labels, axis = 1), (64, 1))"
   ]
  },
  {
   "cell_type": "code",
   "execution_count": 57,
   "id": "32ec67c9",
   "metadata": {},
   "outputs": [],
   "source": [
    "pred_labels = np.reshape(pred_labels, (1, 64, 3))"
   ]
  },
  {
   "cell_type": "code",
   "execution_count": 88,
   "id": "6b5c1091",
   "metadata": {},
   "outputs": [],
   "source": [
    "categorical_cross_entropy = tf.losses.CategoricalCrossentropy(\n",
    "    reduction=tf.losses.Reduction.NONE\n",
    ")\n",
    "\n",
    "confidence_loss_for_all = categorical_cross_entropy(actual_labels, pred_labels) / 8"
   ]
  },
  {
   "cell_type": "code",
   "execution_count": 89,
   "id": "53e262ba",
   "metadata": {},
   "outputs": [
    {
     "data": {
      "text/plain": [
       "array([24, 57, 14, 56,  2, 30, 37, 44, 39, 22, 33, 41, 46,  7, 35,  5, 34,\n",
       "        0, 63, 45, 28, 47, 60, 20, 59, 26, 38, 12, 51, 17, 21, 48, 31,  8,\n",
       "       29, 16,  6, 19, 11, 18, 36, 40, 52, 13,  3, 53, 58, 62, 15, 43,  9,\n",
       "       25, 42, 61, 54, 23, 32, 49, 27, 55,  1,  4, 50, 10])"
      ]
     },
     "execution_count": 89,
     "metadata": {},
     "output_type": "execute_result"
    }
   ],
   "source": [
    "np.argsort(confidence_loss_for_all)[0][::-1]"
   ]
  },
  {
   "cell_type": "code",
   "execution_count": 90,
   "id": "8871eb39",
   "metadata": {},
   "outputs": [
    {
     "name": "stdout",
     "output_type": "stream",
     "text": [
      "tf.Tensor(0.10094118455595968, shape=(), dtype=float64)\n",
      "tf.Tensor(0.08590474483232884, shape=(), dtype=float64)\n",
      "tf.Tensor(0.702856188838221, shape=(), dtype=float64)\n",
      "tf.Tensor(0.4772853103149616, shape=(), dtype=float64)\n",
      "tf.Tensor(0.4443032443716209, shape=(), dtype=float64)\n",
      "tf.Tensor(0.43364046321660504, shape=(), dtype=float64)\n",
      "tf.Tensor(0.40851398098781166, shape=(), dtype=float64)\n",
      "tf.Tensor(0.32370765859979456, shape=(), dtype=float64)\n"
     ]
    }
   ],
   "source": [
    "print(confidence_loss_for_all[0, 9])\n",
    "print(confidence_loss_for_all[0, 54]) \n",
    "print(confidence_loss_for_all[0, 24])\n",
    "print(confidence_loss_for_all[0, 57])\n",
    "print(confidence_loss_for_all[0, 14])\n",
    "print(confidence_loss_for_all[0, 56])\n",
    "print(confidence_loss_for_all[0, 2]) \n",
    "print(confidence_loss_for_all[0, 30])"
   ]
  },
  {
   "cell_type": "code",
   "execution_count": 91,
   "id": "6f5d01fe",
   "metadata": {},
   "outputs": [
    {
     "data": {
      "text/plain": [
       "<tf.Tensor: shape=(), dtype=float64, numpy=2.977152775717303>"
      ]
     },
     "execution_count": 91,
     "metadata": {},
     "output_type": "execute_result"
    }
   ],
   "source": [
    "# conf for only 9 and 54 six of the top results\n",
    "# 10, 50,  4,  1, 55, 27\n",
    "\n",
    "confidence_loss_for_all[0, 9] + confidence_loss_for_all[0, 54] + \\\n",
    "confidence_loss_for_all[0, 24] + confidence_loss_for_all[0, 57] + \\\n",
    "confidence_loss_for_all[0, 14] + confidence_loss_for_all[0, 56] + \\\n",
    "confidence_loss_for_all[0, 2] + confidence_loss_for_all[0, 30]"
   ]
  },
  {
   "cell_type": "code",
   "execution_count": 92,
   "id": "70e1091d",
   "metadata": {},
   "outputs": [],
   "source": [
    "loss = SSDLoss()"
   ]
  },
  {
   "cell_type": "code",
   "execution_count": 93,
   "id": "b44c963a",
   "metadata": {},
   "outputs": [],
   "source": [
    "conf_loss = loss.confidence_loss(actual_labels, tf.constant(pred_labels, tf.float32))"
   ]
  },
  {
   "cell_type": "code",
   "execution_count": 98,
   "id": "2b65f297",
   "metadata": {},
   "outputs": [
    {
     "data": {
      "text/plain": [
       "<tf.Tensor: shape=(1, 64), dtype=float32, numpy=\n",
       "array([[0.05678086, 0.        , 0.10893706, 0.        , 0.        ,\n",
       "        0.05694627, 0.        , 0.05813628, 0.        , 0.        ,\n",
       "        0.        , 0.        , 0.04238965, 0.        , 0.11848087,\n",
       "        0.        , 0.        , 0.04046213, 0.        , 0.        ,\n",
       "        0.04476507, 0.        , 0.06590168, 0.        , 0.18742831,\n",
       "        0.        , 0.04388927, 0.        , 0.04932463, 0.        ,\n",
       "        0.08632205, 0.        , 0.        , 0.06575602, 0.05685452,\n",
       "        0.05788063, 0.        , 0.08221085, 0.0431087 , 0.07201435,\n",
       "        0.        , 0.06463492, 0.        , 0.        , 0.0819379 ,\n",
       "        0.05215023, 0.06145324, 0.04759647, 0.        , 0.        ,\n",
       "        0.        , 0.04183794, 0.        , 0.        , 0.        ,\n",
       "        0.        , 0.11563746, 0.1272761 , 0.        , 0.04430421,\n",
       "        0.04657354, 0.        , 0.        , 0.05427352]], dtype=float32)>"
      ]
     },
     "execution_count": 98,
     "metadata": {},
     "output_type": "execute_result"
    }
   ],
   "source": [
    "conf_loss"
   ]
  },
  {
   "cell_type": "code",
   "execution_count": 65,
   "id": "9bc76bcf",
   "metadata": {},
   "outputs": [
    {
     "data": {
      "text/plain": [
       "0.0"
      ]
     },
     "execution_count": 65,
     "metadata": {},
     "output_type": "execute_result"
    }
   ],
   "source": [
    "np.sum(conf_loss)"
   ]
  },
  {
   "cell_type": "code",
   "execution_count": null,
   "id": "99983bb8",
   "metadata": {},
   "outputs": [],
   "source": []
  },
  {
   "cell_type": "code",
   "execution_count": 68,
   "id": "23f52b49",
   "metadata": {},
   "outputs": [
    {
     "data": {
      "text/plain": [
       "array([[[0.18205878, 0.46212909, 0.35581214],\n",
       "        [0.65738127, 0.17132261, 0.17129612],\n",
       "        [0.03807826, 0.56784481, 0.39407693],\n",
       "        [0.41686469, 0.01211874, 0.57101657],\n",
       "        [0.67865488, 0.173111  , 0.14823412],\n",
       "        [0.18115758, 0.3005149 , 0.51832752],\n",
       "        [0.32354776, 0.21814475, 0.45830749],\n",
       "        [0.17480426, 0.36609589, 0.45909985],\n",
       "        [0.31651311, 0.54491305, 0.13857384],\n",
       "        [0.44595846, 0.51375845, 0.04028309],\n",
       "        [0.72059071, 0.20225354, 0.07715574],\n",
       "        [0.34848152, 0.35463173, 0.29688675],\n",
       "        [0.28035754, 0.08989454, 0.62974792],\n",
       "        [0.41627195, 0.11541703, 0.46831101],\n",
       "        [0.02859779, 0.75619858, 0.21520363],\n",
       "        [0.4433659 , 0.20859987, 0.34803422],\n",
       "        [0.321377  , 0.10866445, 0.56995855],\n",
       "        [0.29704731, 0.36003589, 0.34291679],\n",
       "        [0.37176668, 0.5732098 , 0.05502352],\n",
       "        [0.34592914, 0.07983064, 0.57424022],\n",
       "        [0.26107384, 0.18226466, 0.5566615 ],\n",
       "        [0.30223499, 0.23800266, 0.45976235],\n",
       "        [0.13847708, 0.78826685, 0.07325607],\n",
       "        [0.50406735, 0.39443563, 0.10149702],\n",
       "        [0.00361433, 0.53373452, 0.46265115],\n",
       "        [0.46306098, 0.4899063 , 0.04703272],\n",
       "        [0.26802414, 0.08663507, 0.64534078],\n",
       "        [0.61242483, 0.32512558, 0.06244959],\n",
       "        [0.22769713, 0.23809491, 0.53420796],\n",
       "        [0.31926   , 0.44427609, 0.23646392],\n",
       "        [0.07504546, 0.4475615 , 0.47739304],\n",
       "        [0.30737399, 0.42220718, 0.27041883],\n",
       "        [0.53575545, 0.43819217, 0.02605238],\n",
       "        [0.13908355, 0.04051557, 0.82040088],\n",
       "        [0.18165688, 0.29388772, 0.5244554 ],\n",
       "        [0.17615008, 0.28997689, 0.53387302],\n",
       "        [0.38419281, 0.12926296, 0.48654423],\n",
       "        [0.08489623, 0.48956209, 0.42554168],\n",
       "        [0.2743746 , 0.37749484, 0.34813056],\n",
       "        [0.11527548, 0.55148275, 0.33324177],\n",
       "        [0.39941934, 0.44327273, 0.15730793],\n",
       "        [0.14384089, 0.29791751, 0.5582416 ],\n",
       "        [0.48526783, 0.51060798, 0.00412419],\n",
       "        [0.44402534, 0.36288212, 0.19309254],\n",
       "        [0.08559426, 0.24108649, 0.67331925],\n",
       "        [0.20919114, 0.33578409, 0.45502477],\n",
       "        [0.15824714, 0.42290762, 0.41884524],\n",
       "        [0.23981342, 0.473611  , 0.28657558],\n",
       "        [0.30585527, 0.03960837, 0.65453637],\n",
       "        [0.60359806, 0.06181375, 0.33458819],\n",
       "        [0.70259919, 0.18531577, 0.11208504],\n",
       "        [0.28503645, 0.57400086, 0.14096269],\n",
       "        [0.40214101, 0.45567963, 0.14217936],\n",
       "        [0.42134705, 0.21279986, 0.36585309],\n",
       "        [0.50296336, 0.42535501, 0.07168164],\n",
       "        [0.62215241, 0.23892433, 0.13892325],\n",
       "        [0.03114431, 0.45132776, 0.51752793],\n",
       "        [0.02196549, 0.67811028, 0.29992422],\n",
       "        [0.42713183, 0.11543799, 0.45743017],\n",
       "        [0.2647084 , 0.64116276, 0.09412884],\n",
       "        [0.24728688, 0.08227289, 0.67044023],\n",
       "        [0.48869629, 0.14367886, 0.36762486],\n",
       "        [0.42964805, 0.29189239, 0.27845956],\n",
       "        [0.19628146, 0.07555995, 0.72815858]]])"
      ]
     },
     "execution_count": 68,
     "metadata": {},
     "output_type": "execute_result"
    }
   ],
   "source": [
    "pred_labels"
   ]
  },
  {
   "cell_type": "code",
   "execution_count": 74,
   "id": "cececa41",
   "metadata": {},
   "outputs": [],
   "source": [
    "categorical_cross_entropy = tf.losses.CategoricalCrossentropy(\n",
    "    reduction=tf.losses.Reduction.NONE\n",
    ")\n",
    "\n",
    "confidence_loss_for_all = tf.cast(categorical_cross_entropy(actual_labels, pred_labels), tf.float32)\n",
    "\n",
    "pos_cond = tf.reduce_any( tf.equal(actual_labels[..., 1:], tf.constant(1.0)), axis = 2)\n",
    "pos_mask = tf.cast(pos_cond, dtype=tf.float32)\n",
    "total_pos_boxes = tf.reduce_sum(pos_mask, axis=1)\n",
    "\n",
    "pos_loss = pos_mask * confidence_loss_for_all\n",
    "\n",
    "# hard negative mining\n",
    "# set positive cases to -1\n",
    "neg_cond = tf.reduce_any( tf.equal(actual_labels[..., :1], tf.constant(1.0)), axis = 2)\n",
    "# confidence_loss_for_all = tf.where(neg_cond, confidence_loss_for_all, \n",
    "#                                 tf.negative(tf.ones(confidence_loss_for_all.shape))\n",
    "#                                 )\n",
    "confidence_loss_for_all = tf.where(neg_cond, confidence_loss_for_all, \n",
    "                                tf.constant(-1., tf.float32)\n",
    "                                )\n",
    "# confidence_loss_for_all = tf.where(neg_cond, confidence_loss_for_all, \n",
    "#                                 tf.negative(tf.ones((8, 8732)))\n",
    "#                                 )\n",
    "\n",
    "# If there are no positive positive boxes in the select top 30\n",
    "neg_boxes_for_empty_images = 30\n",
    "total_neg_boxes = tf.cast(total_pos_boxes * 3, tf.int32)\n",
    "no_neg_boxes_mask = tf.not_equal(total_neg_boxes, tf.constant(0))\n",
    "total_neg_boxes = tf.where(no_neg_boxes_mask, total_neg_boxes, tf.constant(neg_boxes_for_empty_images))\n",
    "\n",
    "# sort by positive example\n",
    "loss_sorted_indices = tf.argsort(confidence_loss_for_all, direction=\"DESCENDING\")\n",
    "loss_sorted_rank = tf.argsort(loss_sorted_indices)\n",
    "\n",
    "neg_mining_cond = tf.less(loss_sorted_rank, tf.expand_dims(total_neg_boxes, axis=1))\n",
    "neg_mining_mask = tf.cast(neg_mining_cond, dtype=tf.float32)\n"
   ]
  },
  {
   "cell_type": "code",
   "execution_count": 86,
   "id": "a539717b",
   "metadata": {},
   "outputs": [],
   "source": [
    "neg_loss = neg_mining_mask * confidence_loss_for_all"
   ]
  },
  {
   "cell_type": "code",
   "execution_count": 87,
   "id": "75789f25",
   "metadata": {},
   "outputs": [
    {
     "data": {
      "text/plain": [
       "<tf.Tensor: shape=(1, 64), dtype=float32, numpy=\n",
       "array([[1.7034256, 0.       , 3.268112 , 0.       , 0.       , 1.708388 ,\n",
       "        0.       , 1.7440884, 0.       , 0.       , 0.       , 0.       ,\n",
       "        1.2716895, 0.       , 3.554426 , 0.       , 0.       , 1.2138638,\n",
       "        0.       , 0.       , 1.342952 , 0.       , 1.9770504, 0.       ,\n",
       "        5.6228495, 0.       , 1.3166782, 0.       , 1.479739 , 0.       ,\n",
       "        2.5896614, 0.       , 0.       , 1.9726804, 1.7056357, 1.7364188,\n",
       "        0.       , 2.4663255, 1.2932609, 2.1604304, 0.       , 1.9390476,\n",
       "        0.       , 0.       , 2.458137 , 1.5645069, 1.8435973, 1.4278941,\n",
       "        0.       , 0.       , 0.       , 1.2551382, 0.       , 0.       ,\n",
       "        0.       , 0.       , 3.4691236, 3.8182824, 0.       , 1.3291265,\n",
       "        1.3972062, 0.       , 0.       , 1.6282057]], dtype=float32)>"
      ]
     },
     "execution_count": 87,
     "metadata": {},
     "output_type": "execute_result"
    }
   ],
   "source": [
    "neg_loss"
   ]
  },
  {
   "cell_type": "code",
   "execution_count": null,
   "id": "632ec157",
   "metadata": {},
   "outputs": [],
   "source": []
  }
 ],
 "metadata": {
  "kernelspec": {
   "display_name": "Python 3 (ipykernel)",
   "language": "python",
   "name": "python3"
  },
  "language_info": {
   "codemirror_mode": {
    "name": "ipython",
    "version": 3
   },
   "file_extension": ".py",
   "mimetype": "text/x-python",
   "name": "python",
   "nbconvert_exporter": "python",
   "pygments_lexer": "ipython3",
   "version": "3.9.10"
  }
 },
 "nbformat": 4,
 "nbformat_minor": 5
}
