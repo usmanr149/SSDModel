{
 "cells": [
  {
   "cell_type": "code",
   "execution_count": 1,
   "id": "fd0f9bee",
   "metadata": {},
   "outputs": [],
   "source": [
    "import tensorflow as tf\n",
    "import numpy as np"
   ]
  },
  {
   "cell_type": "code",
   "execution_count": 2,
   "id": "4bc502e9",
   "metadata": {},
   "outputs": [],
   "source": [
    "%load_ext autoreload\n",
    "%autoreload 2"
   ]
  },
  {
   "cell_type": "code",
   "execution_count": 3,
   "id": "766b0ecb",
   "metadata": {},
   "outputs": [],
   "source": [
    "import sys\n",
    " \n",
    "# setting path\n",
    "sys.path.append('../')"
   ]
  },
  {
   "cell_type": "code",
   "execution_count": 4,
   "id": "63e56244",
   "metadata": {},
   "outputs": [],
   "source": [
    "from bbox_utils import *\n",
    "from classification_loss import *"
   ]
  },
  {
   "cell_type": "code",
   "execution_count": 5,
   "id": "b13b4329",
   "metadata": {},
   "outputs": [],
   "source": [
    "h = tf.keras.losses.Huber(delta=float('inf'), reduction=tf.keras.losses.Reduction.NONE)"
   ]
  },
  {
   "cell_type": "code",
   "execution_count": 6,
   "id": "1fcd148c",
   "metadata": {},
   "outputs": [
    {
     "name": "stderr",
     "output_type": "stream",
     "text": [
      "2022-08-26 15:17:43.559649: I tensorflow/core/platform/cpu_feature_guard.cc:193] This TensorFlow binary is optimized with oneAPI Deep Neural Network Library (oneDNN) to use the following CPU instructions in performance-critical operations:  AVX2 FMA\n",
      "To enable them in other operations, rebuild TensorFlow with the appropriate compiler flags.\n"
     ]
    }
   ],
   "source": [
    "actual_deltas =  tf.constant(\n",
    "    [\n",
    "        [\n",
    "            [-0.1, -0.05, 0, 0.091, 0.],\n",
    "            [0.1, 0.0022, 0.25, 0.14, 1.]\n",
    "        ],\n",
    "        [\n",
    "            [0.1, -0.05, 0, 0.091, 0.],\n",
    "            [0.1, 0.0022, 0.25, 0.14, 1.]\n",
    "        ],\n",
    "        [\n",
    "            [0.1, -0.05, 0, 0.091, 1.],\n",
    "            [0.1, 0.0022, 0.25, 0.14, 1.]\n",
    "        ]\n",
    "    ]\n",
    ")\n",
    "\n",
    "pred_deltas = tf.constant(\n",
    "    [\n",
    "        [\n",
    "            [-0.05, 0.05, 0.1, 0.2],\n",
    "            [0.1, 0.2, -0.1, 0.02]\n",
    "        ],\n",
    "        [\n",
    "            [-0.05, 0.05, 0.1, 0.2],\n",
    "            [0.1, 0.2, -0.1, 0.02]\n",
    "        ],\n",
    "        [\n",
    "            [-0.05, 0.05, 0.1, 0.2],\n",
    "            [0.1, 0.2, -0.1, 0.02]\n",
    "        ]\n",
    "    ]\n",
    ")\n",
    "\n",
    "loss = h(actual_deltas[:, :, :4], pred_deltas)\n"
   ]
  },
  {
   "cell_type": "code",
   "execution_count": 7,
   "id": "0cbdf6af",
   "metadata": {},
   "outputs": [
    {
     "data": {
      "text/plain": [
       "TensorShape([3, 2, 5])"
      ]
     },
     "execution_count": 7,
     "metadata": {},
     "output_type": "execute_result"
    }
   ],
   "source": [
    "actual_deltas.shape"
   ]
  },
  {
   "cell_type": "code",
   "execution_count": 8,
   "id": "37c7b533",
   "metadata": {},
   "outputs": [
    {
     "data": {
      "text/plain": [
       "<tf.Tensor: shape=(3, 2), dtype=float32, numpy=\n",
       "array([[0.00429763, 0.0220031 ],\n",
       "       [0.00679763, 0.0220031 ],\n",
       "       [0.00679763, 0.0220031 ]], dtype=float32)>"
      ]
     },
     "execution_count": 8,
     "metadata": {},
     "output_type": "execute_result"
    }
   ],
   "source": [
    "loss"
   ]
  },
  {
   "cell_type": "code",
   "execution_count": 9,
   "id": "18043212",
   "metadata": {},
   "outputs": [],
   "source": [
    "loss = loss * actual_deltas[:, :, 4]"
   ]
  },
  {
   "cell_type": "code",
   "execution_count": 10,
   "id": "7a6269d1",
   "metadata": {},
   "outputs": [
    {
     "data": {
      "text/plain": [
       "<tf.Tensor: shape=(3, 2), dtype=float32, numpy=\n",
       "array([[0.        , 0.0220031 ],\n",
       "       [0.        , 0.0220031 ],\n",
       "       [0.00679763, 0.0220031 ]], dtype=float32)>"
      ]
     },
     "execution_count": 10,
     "metadata": {},
     "output_type": "execute_result"
    }
   ],
   "source": [
    "loss"
   ]
  },
  {
   "cell_type": "code",
   "execution_count": 11,
   "id": "9b523db5",
   "metadata": {},
   "outputs": [
    {
     "data": {
      "text/plain": [
       "<tf.Tensor: shape=(3,), dtype=float32, numpy=array([0.0220031 , 0.0220031 , 0.02880073], dtype=float32)>"
      ]
     },
     "execution_count": 11,
     "metadata": {},
     "output_type": "execute_result"
    }
   ],
   "source": [
    "tf.reduce_sum(loss, axis=-1)"
   ]
  },
  {
   "cell_type": "code",
   "execution_count": null,
   "id": "84d6b9e5",
   "metadata": {},
   "outputs": [],
   "source": []
  },
  {
   "cell_type": "code",
   "execution_count": null,
   "id": "bf04e5ec",
   "metadata": {},
   "outputs": [],
   "source": []
  },
  {
   "cell_type": "code",
   "execution_count": 12,
   "id": "72ca1c10",
   "metadata": {},
   "outputs": [
    {
     "ename": "NameError",
     "evalue": "name 'huber_loss' is not defined",
     "output_type": "error",
     "traceback": [
      "\u001b[0;31m---------------------------------------------------------------------------\u001b[0m",
      "\u001b[0;31mNameError\u001b[0m                                 Traceback (most recent call last)",
      "Input \u001b[0;32mIn [12]\u001b[0m, in \u001b[0;36m<cell line: 1>\u001b[0;34m()\u001b[0m\n\u001b[0;32m----> 1\u001b[0m \u001b[43mhuber_loss\u001b[49m(actual_deltas[:, :, :\u001b[38;5;241m4\u001b[39m], pred_deltas)\n",
      "\u001b[0;31mNameError\u001b[0m: name 'huber_loss' is not defined"
     ]
    }
   ],
   "source": [
    "huber_loss(actual_deltas[:, :, :4], pred_deltas)"
   ]
  },
  {
   "cell_type": "code",
   "execution_count": null,
   "id": "c66c84be",
   "metadata": {},
   "outputs": [],
   "source": [
    "h(y_true, y_pred)"
   ]
  },
  {
   "cell_type": "code",
   "execution_count": null,
   "id": "a70366bf",
   "metadata": {},
   "outputs": [],
   "source": [
    "pos = tf.constant([[0.,1.]])"
   ]
  },
  {
   "cell_type": "code",
   "execution_count": null,
   "id": "f12abf50",
   "metadata": {},
   "outputs": [],
   "source": [
    "tf.expand_dims(pos, -1)"
   ]
  },
  {
   "cell_type": "code",
   "execution_count": null,
   "id": "0c7a0df2",
   "metadata": {},
   "outputs": [],
   "source": [
    "x = tf.constant([\n",
    "    [\n",
    "        [-0.05, 0.05, 0.1, 0.2],\n",
    "        [0.1, 0.2, -0.1, 0.02]\n",
    "    ]\n",
    "])"
   ]
  },
  {
   "cell_type": "code",
   "execution_count": null,
   "id": "96d93092",
   "metadata": {},
   "outputs": [],
   "source": [
    "x"
   ]
  },
  {
   "cell_type": "code",
   "execution_count": null,
   "id": "569a8ec8",
   "metadata": {},
   "outputs": [],
   "source": [
    "y = tf.concat([ x, tf.expand_dims(pos, -1) ], axis = 2)"
   ]
  },
  {
   "cell_type": "code",
   "execution_count": null,
   "id": "31be50b2",
   "metadata": {},
   "outputs": [],
   "source": [
    "y"
   ]
  },
  {
   "cell_type": "code",
   "execution_count": null,
   "id": "affa6232",
   "metadata": {},
   "outputs": [],
   "source": [
    "y[:, :, :4]"
   ]
  },
  {
   "cell_type": "code",
   "execution_count": null,
   "id": "ce2bd14a",
   "metadata": {},
   "outputs": [],
   "source": [
    "i, j = 3, 0\n",
    "\n",
    "box_start_i = (i // 3) * 3\n",
    "box_end_i = (i // 3) * 3 + 3\n",
    "\n",
    "box_start_j = (j // 3) * 3\n",
    "box_end_j = (j // 3) * 3 + 3\n",
    "\n",
    "box_start_i, box_end_i, box_start_j, box_end_j"
   ]
  },
  {
   "cell_type": "code",
   "execution_count": null,
   "id": "5366c7c2",
   "metadata": {},
   "outputs": [],
   "source": []
  },
  {
   "cell_type": "code",
   "execution_count": 13,
   "id": "ca3ab359",
   "metadata": {},
   "outputs": [],
   "source": [
    "feature_map_shapes = [38, 19, 10, 5, 3, 1]\n",
    "aspect_ratios = [\n",
    "    [1, 2, 0.5],\n",
    "    [1, 2, 3, 0.5, 0.333],\n",
    "    [1, 2, 3, 0.5, 0.333],\n",
    "    [1, 2, 3, 0.5, 0.333],\n",
    "    [1, 2, 0.5],\n",
    "    [1, 2, 0.5]\n",
    "]\n",
    "number_of_feature_maps = 6"
   ]
  },
  {
   "cell_type": "code",
   "execution_count": 14,
   "id": "d669a1a5",
   "metadata": {},
   "outputs": [],
   "source": [
    "prior_boxes = generate_default_boxes(feature_map_shapes, number_of_feature_maps, aspect_ratios)\n",
    "boxes = convert_to_box_form(prior_boxes)"
   ]
  },
  {
   "cell_type": "code",
   "execution_count": 15,
   "id": "321d2b64",
   "metadata": {},
   "outputs": [],
   "source": [
    "gt_boxes = tf.constant([[\n",
    "    [0., 0., 0.2, 0.2],\n",
    "    [0.8, 0.8, 1.0, 0.9]\n",
    "]\n",
    "])\n",
    "\n",
    "gt_labels = tf.constant([\n",
    "            [1, 2]\n",
    "])\n",
    "\n",
    "threshold = 0.5"
   ]
  },
  {
   "cell_type": "code",
   "execution_count": 16,
   "id": "dbf9b23a",
   "metadata": {},
   "outputs": [],
   "source": [
    "gt_boxes_map_offset_suppressed_with_pos_cond, gt_labels_one_hot_encoded = match_priors_with_gt(prior_boxes, boxes, gt_boxes, gt_labels, number_of_labels = 21, threshold = 0.5)"
   ]
  },
  {
   "cell_type": "code",
   "execution_count": 17,
   "id": "acacd5f3",
   "metadata": {},
   "outputs": [
    {
     "data": {
      "text/plain": [
       "<tf.Tensor: shape=(1,), dtype=float32, numpy=array([52.], dtype=float32)>"
      ]
     },
     "execution_count": 17,
     "metadata": {},
     "output_type": "execute_result"
    }
   ],
   "source": [
    "\n",
    "tf.reduce_sum(gt_boxes_map_offset_suppressed_with_pos_cond[:, :, 4], axis=1)"
   ]
  },
  {
   "cell_type": "code",
   "execution_count": 18,
   "id": "395a6f20",
   "metadata": {},
   "outputs": [],
   "source": [
    "gt_labels_one_hot_encoded = tf.concat( [ gt_labels_one_hot_encoded, gt_labels_one_hot_encoded ], axis = 0)\n",
    "gt_boxes_map_offset_suppressed_with_pos_cond = tf.concat( [ gt_boxes_map_offset_suppressed_with_pos_cond, gt_boxes_map_offset_suppressed_with_pos_cond ], axis = 0)"
   ]
  },
  {
   "cell_type": "code",
   "execution_count": 19,
   "id": "ede06bc1",
   "metadata": {},
   "outputs": [
    {
     "data": {
      "text/plain": [
       "<tf.Tensor: shape=(2, 8732, 5), dtype=float32, numpy=\n",
       "array([[[-0.27508184,  0.02872645, -0.72557646, -0.25859258,\n",
       "          1.2054785 ],\n",
       "        [ 0.55546963,  1.1746279 , -0.3035527 ,  2.0280447 ,\n",
       "          0.28704867],\n",
       "        [ 0.42370242, -1.7518297 ,  0.87277067,  2.008859  ,\n",
       "         -1.3742366 ],\n",
       "        ...,\n",
       "        [-1.3645357 ,  0.09975508, -0.46381623,  0.47390595,\n",
       "          0.00559981],\n",
       "        [-0.35607934,  1.0143555 , -0.3305083 , -0.29026183,\n",
       "         -0.5582955 ],\n",
       "        [-0.35275117,  0.27585188, -1.8501881 , -0.97125804,\n",
       "          0.61734915]],\n",
       "\n",
       "       [[ 2.2412522 ,  1.2843703 , -0.09314153,  0.38468102,\n",
       "          1.2180057 ],\n",
       "        [-0.67206347, -1.9196736 ,  0.18871701, -0.09246585,\n",
       "          1.7443793 ],\n",
       "        [-1.5857825 , -1.5857729 ,  2.7819483 ,  1.0615819 ,\n",
       "          0.36899117],\n",
       "        ...,\n",
       "        [ 1.2275034 ,  0.8135524 , -0.288911  ,  0.2728582 ,\n",
       "          1.5594393 ],\n",
       "        [ 0.5987493 , -1.2183837 ,  0.01698157, -0.29446265,\n",
       "          0.45761755],\n",
       "        [ 0.6781637 , -0.38362414,  0.5122088 ,  1.5522856 ,\n",
       "          0.45060194]]], dtype=float32)>"
      ]
     },
     "execution_count": 19,
     "metadata": {},
     "output_type": "execute_result"
    }
   ],
   "source": [
    "gt_boxes_map_offset_suppressed_with_pos_cond + tf.random.normal(shape = gt_boxes_map_offset_suppressed_with_pos_cond.shape)"
   ]
  },
  {
   "cell_type": "code",
   "execution_count": 20,
   "id": "614733cb",
   "metadata": {},
   "outputs": [],
   "source": [
    "pred_labels = tf.random.uniform(shape = (1, 8732, 21))"
   ]
  },
  {
   "cell_type": "code",
   "execution_count": 27,
   "id": "31987fa9",
   "metadata": {},
   "outputs": [
    {
     "data": {
      "text/plain": [
       "TensorShape([2, 8732, 5])"
      ]
     },
     "execution_count": 27,
     "metadata": {},
     "output_type": "execute_result"
    }
   ],
   "source": [
    "gt_boxes_map_offset_suppressed_with_pos_cond.shape"
   ]
  },
  {
   "cell_type": "code",
   "execution_count": 22,
   "id": "1842f953",
   "metadata": {},
   "outputs": [],
   "source": [
    "pred_labels = pred_labels / tf.math.reduce_sum(\n",
    "    pred_labels, axis = 1\n",
    ")"
   ]
  },
  {
   "cell_type": "code",
   "execution_count": 23,
   "id": "e58a97ee",
   "metadata": {},
   "outputs": [],
   "source": [
    "pred_labels = tf.concat( [ pred_labels, pred_labels ], axis = 0)"
   ]
  },
  {
   "cell_type": "code",
   "execution_count": 29,
   "id": "39a07e71",
   "metadata": {},
   "outputs": [],
   "source": [
    "pred_delta = gt_boxes_map_offset_suppressed_with_pos_cond[:, :, :4] + tf.random.normal(shape = (2, 8732, 4) )"
   ]
  },
  {
   "cell_type": "code",
   "execution_count": 33,
   "id": "ad564266",
   "metadata": {},
   "outputs": [
    {
     "data": {
      "text/plain": [
       "<tf.Tensor: shape=(2, 1), dtype=float32, numpy=\n",
       "array([[52.],\n",
       "       [52.]], dtype=float32)>"
      ]
     },
     "execution_count": 33,
     "metadata": {},
     "output_type": "execute_result"
    }
   ],
   "source": [
    "total_pos_boxes = tf.reduce_sum(gt_boxes_map_offset_suppressed_with_pos_cond[:, :, 4:], axis=1)\n",
    "\n",
    "total_pos_boxes"
   ]
  },
  {
   "cell_type": "code",
   "execution_count": 40,
   "id": "5bcceb38",
   "metadata": {},
   "outputs": [],
   "source": [
    "loss = SSDLoss()"
   ]
  },
  {
   "cell_type": "code",
   "execution_count": 41,
   "id": "d1c0bc5d",
   "metadata": {},
   "outputs": [],
   "source": [
    "loc_loss = loss.localization_loss(gt_boxes_map_offset_suppressed_with_pos_cond, \n",
    "                       gt_boxes_map_offset_suppressed_with_pos_cond[:, :, :4] + \n",
    "                       tf.random.normal(shape = (2, 8732, 4) ))"
   ]
  },
  {
   "cell_type": "code",
   "execution_count": 42,
   "id": "1902cd25",
   "metadata": {},
   "outputs": [
    {
     "data": {
      "text/plain": [
       "<tf.Tensor: shape=(2,), dtype=float32, numpy=array([25.539293, 25.539293], dtype=float32)>"
      ]
     },
     "execution_count": 42,
     "metadata": {},
     "output_type": "execute_result"
    }
   ],
   "source": [
    "loss.confidence_loss(gt_labels_one_hot_encoded, pred_labels)"
   ]
  },
  {
   "cell_type": "code",
   "execution_count": null,
   "id": "b6ddff1d",
   "metadata": {},
   "outputs": [],
   "source": [
    "categorical_cross_entropy = tf.losses.CategoricalCrossentropy(\n",
    "            reduction=tf.losses.Reduction.NONE\n",
    "        )"
   ]
  },
  {
   "cell_type": "code",
   "execution_count": null,
   "id": "a82060c8",
   "metadata": {},
   "outputs": [],
   "source": [
    "confidence_loss_for_all = categorical_cross_entropy(gt_labels_one_hot_encoded, pred_labels)"
   ]
  },
  {
   "cell_type": "code",
   "execution_count": null,
   "id": "9b4618cf",
   "metadata": {},
   "outputs": [],
   "source": []
  },
  {
   "cell_type": "code",
   "execution_count": null,
   "id": "c2efd96e",
   "metadata": {},
   "outputs": [],
   "source": [
    "# gt_labels_one_hot_encoded\n",
    "pos_cond = tf.reduce_any( tf.equal(gt_labels_one_hot_encoded[..., 1:], tf.constant(1.0)), axis = 2)\n",
    "pos_mask = tf.cast(pos_cond, dtype=tf.float32)\n",
    "total_pos_boxes = tf.reduce_sum(pos_mask, axis=1)"
   ]
  },
  {
   "cell_type": "code",
   "execution_count": null,
   "id": "ff90796f",
   "metadata": {},
   "outputs": [],
   "source": [
    "pos_loss = tf.reduce_sum(pos_mask * confidence_loss_for_all, axis=1)"
   ]
  },
  {
   "cell_type": "code",
   "execution_count": null,
   "id": "9495424f",
   "metadata": {},
   "outputs": [],
   "source": [
    "pos_cond"
   ]
  },
  {
   "cell_type": "code",
   "execution_count": null,
   "id": "05da36ea",
   "metadata": {},
   "outputs": [],
   "source": [
    "tf.where(neg_cond, confidence_loss_for_all, tf.negative(tf.ones(confidence_loss_for_all.shape)))"
   ]
  },
  {
   "cell_type": "code",
   "execution_count": null,
   "id": "4747e543",
   "metadata": {},
   "outputs": [],
   "source": []
  },
  {
   "cell_type": "code",
   "execution_count": null,
   "id": "01b20a36",
   "metadata": {},
   "outputs": [],
   "source": [
    "neg_cond = tf.reduce_any( tf.equal(gt_labels_one_hot_encoded[..., :1], tf.constant(1.0)), axis = 2)\n",
    "neg_mask = tf.cast(neg_cond, dtype=tf.float32)"
   ]
  },
  {
   "cell_type": "code",
   "execution_count": null,
   "id": "82c732f1",
   "metadata": {},
   "outputs": [],
   "source": [
    "# set positive cases to -1\n",
    "confidence_loss_for_all = tf.where(neg_cond, confidence_loss_for_all, \n",
    "                                   tf.negative(tf.ones(confidence_loss_for_all.shape))\n",
    "                                  )"
   ]
  },
  {
   "cell_type": "code",
   "execution_count": null,
   "id": "f214d763",
   "metadata": {},
   "outputs": [],
   "source": [
    "tf.reduce_sum(neg_mask, axis=1)"
   ]
  },
  {
   "cell_type": "code",
   "execution_count": null,
   "id": "7ea7f11a",
   "metadata": {},
   "outputs": [],
   "source": [
    "total_neg_bboxes = tf.cast(total_pos_boxes * 3, tf.int32)"
   ]
  },
  {
   "cell_type": "code",
   "execution_count": null,
   "id": "42c08a70",
   "metadata": {},
   "outputs": [],
   "source": [
    "total_neg_bboxes"
   ]
  },
  {
   "cell_type": "code",
   "execution_count": null,
   "id": "631e280f",
   "metadata": {},
   "outputs": [],
   "source": [
    "loss_sorted_indices = tf.argsort(confidence_loss_for_all, direction=\"DESCENDING\")\n",
    "loss_sorted_rank = tf.argsort(loss_sorted_indices)"
   ]
  },
  {
   "cell_type": "code",
   "execution_count": null,
   "id": "801cac53",
   "metadata": {},
   "outputs": [],
   "source": [
    "loss_sorted_rank"
   ]
  },
  {
   "cell_type": "code",
   "execution_count": null,
   "id": "ea2d67f5",
   "metadata": {},
   "outputs": [],
   "source": [
    "neg_cond = tf.less(loss_sorted_rank, tf.expand_dims(total_neg_bboxes, axis=1))\n",
    "neg_mask = tf.cast(neg_cond, dtype=tf.float32)"
   ]
  },
  {
   "cell_type": "code",
   "execution_count": null,
   "id": "b44d671a",
   "metadata": {},
   "outputs": [],
   "source": [
    "neg_mask"
   ]
  },
  {
   "cell_type": "code",
   "execution_count": null,
   "id": "402d694a",
   "metadata": {},
   "outputs": [],
   "source": []
  },
  {
   "cell_type": "code",
   "execution_count": null,
   "id": "cfd40d81",
   "metadata": {},
   "outputs": [],
   "source": []
  },
  {
   "cell_type": "code",
   "execution_count": null,
   "id": "430a9f9e",
   "metadata": {},
   "outputs": [],
   "source": [
    "conf_loss = tf.reduce_sum(neg_mask * confidence_loss_for_all, axis=1) + pos_loss"
   ]
  },
  {
   "cell_type": "code",
   "execution_count": null,
   "id": "b0a491af",
   "metadata": {},
   "outputs": [],
   "source": [
    "conf_loss"
   ]
  },
  {
   "cell_type": "code",
   "execution_count": null,
   "id": "4ffbcb55",
   "metadata": {},
   "outputs": [],
   "source": [
    "pos_loss"
   ]
  },
  {
   "cell_type": "code",
   "execution_count": null,
   "id": "7a19f306",
   "metadata": {},
   "outputs": [],
   "source": [
    "tf.reduce_sum(neg_mask * confidence_loss_for_all, axis=1)"
   ]
  },
  {
   "cell_type": "code",
   "execution_count": null,
   "id": "2a7af8de",
   "metadata": {},
   "outputs": [],
   "source": [
    "total_pos_boxes"
   ]
  },
  {
   "cell_type": "code",
   "execution_count": null,
   "id": "a99f3d7a",
   "metadata": {},
   "outputs": [],
   "source": []
  }
 ],
 "metadata": {
  "kernelspec": {
   "display_name": "Python 3 (ipykernel)",
   "language": "python",
   "name": "python3"
  },
  "language_info": {
   "codemirror_mode": {
    "name": "ipython",
    "version": 3
   },
   "file_extension": ".py",
   "mimetype": "text/x-python",
   "name": "python",
   "nbconvert_exporter": "python",
   "pygments_lexer": "ipython3",
   "version": "3.9.10"
  }
 },
 "nbformat": 4,
 "nbformat_minor": 5
}
