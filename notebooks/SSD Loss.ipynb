{
 "cells": [
  {
   "cell_type": "code",
   "execution_count": 1,
   "id": "1b15ca59",
   "metadata": {},
   "outputs": [],
   "source": [
    "import tensorflow as tf\n",
    "import numpy as np"
   ]
  },
  {
   "cell_type": "code",
   "execution_count": 2,
   "id": "eb5ee3e6",
   "metadata": {},
   "outputs": [],
   "source": [
    "%load_ext autoreload\n",
    "%autoreload 2"
   ]
  },
  {
   "cell_type": "code",
   "execution_count": 3,
   "id": "8250bcaf",
   "metadata": {},
   "outputs": [],
   "source": [
    "import sys\n",
    " \n",
    "# setting path\n",
    "sys.path.append('../')"
   ]
  },
  {
   "cell_type": "code",
   "execution_count": 4,
   "id": "e28964a6",
   "metadata": {},
   "outputs": [],
   "source": [
    "from bbox_utils import *\n",
    "from classification_loss import *"
   ]
  },
  {
   "cell_type": "code",
   "execution_count": 5,
   "id": "13d9a453",
   "metadata": {},
   "outputs": [],
   "source": [
    "h = tf.keras.losses.Huber(delta=float('inf'), reduction=tf.keras.losses.Reduction.NONE)"
   ]
  },
  {
   "cell_type": "code",
   "execution_count": 6,
   "id": "8ef509de",
   "metadata": {},
   "outputs": [
    {
     "name": "stderr",
     "output_type": "stream",
     "text": [
      "2022-09-02 18:37:55.544231: I tensorflow/core/platform/cpu_feature_guard.cc:193] This TensorFlow binary is optimized with oneAPI Deep Neural Network Library (oneDNN) to use the following CPU instructions in performance-critical operations:  AVX2 FMA\n",
      "To enable them in other operations, rebuild TensorFlow with the appropriate compiler flags.\n"
     ]
    }
   ],
   "source": [
    "actual_deltas =  tf.constant(\n",
    "    [\n",
    "        [\n",
    "            [-0.1, -0.05, 0, 0.091, 0.],\n",
    "            [0.1, 0.0022, 0.25, 0.14, 1.]\n",
    "        ],\n",
    "        [\n",
    "            [0.1, -0.05, 0, 0.091, 0.],\n",
    "            [0.1, 0.0022, 0.25, 0.14, 1.]\n",
    "        ],\n",
    "        [\n",
    "            [0.1, -0.05, 0, 0.091, 1.],\n",
    "            [0.1, 0.0022, 0.25, 0.14, 1.]\n",
    "        ]\n",
    "    ]\n",
    ")\n",
    "\n",
    "pred_deltas = tf.constant(\n",
    "    [\n",
    "        [\n",
    "            [-0.05, 0.05, 0.1, 0.2],\n",
    "            [0.1, 0.2, -0.1, 0.02]\n",
    "        ],\n",
    "        [\n",
    "            [-0.05, 0.05, 0.1, 0.2],\n",
    "            [0.1, 0.2, -0.1, 0.02]\n",
    "        ],\n",
    "        [\n",
    "            [-0.05, 0.05, 0.1, 0.2],\n",
    "            [0.1, 0.2, -0.1, 0.02]\n",
    "        ]\n",
    "    ]\n",
    ")\n",
    "\n",
    "loss = h(actual_deltas[:, :, :4], pred_deltas)\n"
   ]
  },
  {
   "cell_type": "code",
   "execution_count": 7,
   "id": "88020e21",
   "metadata": {},
   "outputs": [
    {
     "data": {
      "text/plain": [
       "TensorShape([3, 2, 5])"
      ]
     },
     "execution_count": 7,
     "metadata": {},
     "output_type": "execute_result"
    }
   ],
   "source": [
    "actual_deltas.shape"
   ]
  },
  {
   "cell_type": "code",
   "execution_count": 8,
   "id": "0faf7f83",
   "metadata": {},
   "outputs": [
    {
     "data": {
      "text/plain": [
       "<tf.Tensor: shape=(3, 2), dtype=float32, numpy=\n",
       "array([[0.00429763, 0.0220031 ],\n",
       "       [0.00679763, 0.0220031 ],\n",
       "       [0.00679763, 0.0220031 ]], dtype=float32)>"
      ]
     },
     "execution_count": 8,
     "metadata": {},
     "output_type": "execute_result"
    }
   ],
   "source": [
    "loss"
   ]
  },
  {
   "cell_type": "code",
   "execution_count": 9,
   "id": "1de8aa29",
   "metadata": {},
   "outputs": [],
   "source": [
    "loss = loss * actual_deltas[:, :, 4]"
   ]
  },
  {
   "cell_type": "code",
   "execution_count": 10,
   "id": "dc22f242",
   "metadata": {},
   "outputs": [
    {
     "data": {
      "text/plain": [
       "<tf.Tensor: shape=(3, 2), dtype=float32, numpy=\n",
       "array([[0.        , 0.0220031 ],\n",
       "       [0.        , 0.0220031 ],\n",
       "       [0.00679763, 0.0220031 ]], dtype=float32)>"
      ]
     },
     "execution_count": 10,
     "metadata": {},
     "output_type": "execute_result"
    }
   ],
   "source": [
    "loss"
   ]
  },
  {
   "cell_type": "code",
   "execution_count": 11,
   "id": "cf415459",
   "metadata": {},
   "outputs": [
    {
     "data": {
      "text/plain": [
       "<tf.Tensor: shape=(3,), dtype=float32, numpy=array([0.0220031 , 0.0220031 , 0.02880073], dtype=float32)>"
      ]
     },
     "execution_count": 11,
     "metadata": {},
     "output_type": "execute_result"
    }
   ],
   "source": [
    "tf.reduce_sum(loss, axis=-1)"
   ]
  },
  {
   "cell_type": "code",
   "execution_count": null,
   "id": "8a51d173",
   "metadata": {},
   "outputs": [],
   "source": []
  },
  {
   "cell_type": "code",
   "execution_count": null,
   "id": "90be50e6",
   "metadata": {},
   "outputs": [],
   "source": []
  },
  {
   "cell_type": "code",
   "execution_count": 12,
   "id": "4024be3f",
   "metadata": {},
   "outputs": [],
   "source": [
    "pos = tf.constant([[0.,1.]])"
   ]
  },
  {
   "cell_type": "code",
   "execution_count": 13,
   "id": "002b6315",
   "metadata": {},
   "outputs": [
    {
     "data": {
      "text/plain": [
       "<tf.Tensor: shape=(1, 2, 1), dtype=float32, numpy=\n",
       "array([[[0.],\n",
       "        [1.]]], dtype=float32)>"
      ]
     },
     "execution_count": 13,
     "metadata": {},
     "output_type": "execute_result"
    }
   ],
   "source": [
    "tf.expand_dims(pos, -1)"
   ]
  },
  {
   "cell_type": "code",
   "execution_count": 14,
   "id": "9018239b",
   "metadata": {},
   "outputs": [],
   "source": [
    "x = tf.constant([\n",
    "    [\n",
    "        [-0.05, 0.05, 0.1, 0.2],\n",
    "        [0.1, 0.2, -0.1, 0.02]\n",
    "    ]\n",
    "])"
   ]
  },
  {
   "cell_type": "code",
   "execution_count": 15,
   "id": "6c243035",
   "metadata": {},
   "outputs": [
    {
     "data": {
      "text/plain": [
       "<tf.Tensor: shape=(1, 2, 4), dtype=float32, numpy=\n",
       "array([[[-0.05,  0.05,  0.1 ,  0.2 ],\n",
       "        [ 0.1 ,  0.2 , -0.1 ,  0.02]]], dtype=float32)>"
      ]
     },
     "execution_count": 15,
     "metadata": {},
     "output_type": "execute_result"
    }
   ],
   "source": [
    "x"
   ]
  },
  {
   "cell_type": "code",
   "execution_count": 16,
   "id": "5b655642",
   "metadata": {},
   "outputs": [],
   "source": [
    "y = tf.concat([ x, tf.expand_dims(pos, -1) ], axis = 2)"
   ]
  },
  {
   "cell_type": "code",
   "execution_count": 17,
   "id": "43ca5a53",
   "metadata": {},
   "outputs": [
    {
     "data": {
      "text/plain": [
       "<tf.Tensor: shape=(1, 2, 5), dtype=float32, numpy=\n",
       "array([[[-0.05,  0.05,  0.1 ,  0.2 ,  0.  ],\n",
       "        [ 0.1 ,  0.2 , -0.1 ,  0.02,  1.  ]]], dtype=float32)>"
      ]
     },
     "execution_count": 17,
     "metadata": {},
     "output_type": "execute_result"
    }
   ],
   "source": [
    "y"
   ]
  },
  {
   "cell_type": "code",
   "execution_count": 18,
   "id": "45ebfada",
   "metadata": {},
   "outputs": [
    {
     "data": {
      "text/plain": [
       "<tf.Tensor: shape=(1, 2, 4), dtype=float32, numpy=\n",
       "array([[[-0.05,  0.05,  0.1 ,  0.2 ],\n",
       "        [ 0.1 ,  0.2 , -0.1 ,  0.02]]], dtype=float32)>"
      ]
     },
     "execution_count": 18,
     "metadata": {},
     "output_type": "execute_result"
    }
   ],
   "source": [
    "y[:, :, :4]"
   ]
  },
  {
   "cell_type": "code",
   "execution_count": null,
   "id": "3162a184",
   "metadata": {},
   "outputs": [],
   "source": []
  },
  {
   "cell_type": "code",
   "execution_count": 19,
   "id": "e31749f3",
   "metadata": {},
   "outputs": [],
   "source": [
    "feature_map_shapes = [38, 19, 10, 5, 3, 1]\n",
    "aspect_ratios = [\n",
    "    [1, 2, 0.5],\n",
    "    [1, 2, 3, 0.5, 0.333],\n",
    "    [1, 2, 3, 0.5, 0.333],\n",
    "    [1, 2, 3, 0.5, 0.333],\n",
    "    [1, 2, 0.5],\n",
    "    [1, 2, 0.5]\n",
    "]\n",
    "number_of_feature_maps = 6"
   ]
  },
  {
   "cell_type": "code",
   "execution_count": 20,
   "id": "23eb6897",
   "metadata": {},
   "outputs": [],
   "source": [
    "prior_boxes = generate_default_boxes(feature_map_shapes, number_of_feature_maps, aspect_ratios)\n",
    "boxes = convert_to_box_form(prior_boxes)"
   ]
  },
  {
   "cell_type": "code",
   "execution_count": 21,
   "id": "cd166a70",
   "metadata": {},
   "outputs": [],
   "source": [
    "gt_boxes = tf.constant([[\n",
    "        [0., 0., 0., 0.],\n",
    "        [0., 0., 0., 0.]\n",
    "    ],\n",
    "    [\n",
    "        [0., 0., 0.2, 0.2],\n",
    "        [0.8, 0.8, 1.0, 0.9],\n",
    "    ]\n",
    "])\n",
    "\n",
    "gt_labels = tf.constant([\n",
    "            [0, 0],\n",
    "            [1, 2]\n",
    "])\n",
    "\n",
    "threshold = 0.5"
   ]
  },
  {
   "cell_type": "code",
   "execution_count": 22,
   "id": "eb26d1ed",
   "metadata": {},
   "outputs": [],
   "source": [
    "gt_boxes_map_offset_suppressed_with_pos_cond, gt_labels_one_hot_encoded = match_priors_with_gt(prior_boxes, boxes, gt_boxes, gt_labels, number_of_labels = 21, threshold = 0.5)"
   ]
  },
  {
   "cell_type": "code",
   "execution_count": 23,
   "id": "5f8b2f81",
   "metadata": {},
   "outputs": [
    {
     "data": {
      "text/plain": [
       "<tf.Tensor: shape=(2, 8732, 5), dtype=float32, numpy=\n",
       "array([[[0., 0., 0., 0., 0.],\n",
       "        [0., 0., 0., 0., 0.],\n",
       "        [0., 0., 0., 0., 0.],\n",
       "        ...,\n",
       "        [0., 0., 0., 0., 0.],\n",
       "        [0., 0., 0., 0., 0.],\n",
       "        [0., 0., 0., 0., 0.]],\n",
       "\n",
       "       [[0., 0., 0., 0., 0.],\n",
       "        [0., 0., 0., 0., 0.],\n",
       "        [0., 0., 0., 0., 0.],\n",
       "        ...,\n",
       "        [0., 0., 0., 0., 0.],\n",
       "        [0., 0., 0., 0., 0.],\n",
       "        [0., 0., 0., 0., 0.]]], dtype=float32)>"
      ]
     },
     "execution_count": 23,
     "metadata": {},
     "output_type": "execute_result"
    }
   ],
   "source": [
    "gt_boxes_map_offset_suppressed_with_pos_cond"
   ]
  },
  {
   "cell_type": "code",
   "execution_count": 24,
   "id": "1614fdd4",
   "metadata": {},
   "outputs": [],
   "source": [
    "# gt_labels_one_hot_encoded = tf.concat( [ gt_labels_one_hot_encoded, gt_labels_one_hot_encoded ], axis = 0)\n",
    "# gt_boxes_map_offset_suppressed_with_pos_cond = tf.concat( [ gt_boxes_map_offset_suppressed_with_pos_cond, gt_boxes_map_offset_suppressed_with_pos_cond ], axis = 0)"
   ]
  },
  {
   "cell_type": "code",
   "execution_count": 25,
   "id": "d1587db3",
   "metadata": {},
   "outputs": [],
   "source": [
    "pred_labels = tf.random.uniform(shape = (1, 8732, 21))"
   ]
  },
  {
   "cell_type": "code",
   "execution_count": 26,
   "id": "78308281",
   "metadata": {},
   "outputs": [
    {
     "data": {
      "text/plain": [
       "TensorShape([2, 8732, 5])"
      ]
     },
     "execution_count": 26,
     "metadata": {},
     "output_type": "execute_result"
    }
   ],
   "source": [
    "gt_boxes_map_offset_suppressed_with_pos_cond.shape"
   ]
  },
  {
   "cell_type": "code",
   "execution_count": 27,
   "id": "4fbedead",
   "metadata": {},
   "outputs": [],
   "source": [
    "pred_labels = pred_labels / tf.math.reduce_sum(\n",
    "    pred_labels, axis = 1\n",
    ")"
   ]
  },
  {
   "cell_type": "code",
   "execution_count": 28,
   "id": "697e5d7d",
   "metadata": {},
   "outputs": [],
   "source": [
    "pred_labels = tf.concat( [ pred_labels, pred_labels ], axis = 0)"
   ]
  },
  {
   "cell_type": "code",
   "execution_count": 29,
   "id": "784d0932",
   "metadata": {},
   "outputs": [],
   "source": [
    "pred_delta = gt_boxes_map_offset_suppressed_with_pos_cond[:, :, :4] + tf.random.normal(shape = (2, 8732, 4) )"
   ]
  },
  {
   "cell_type": "code",
   "execution_count": 30,
   "id": "a69706cc",
   "metadata": {},
   "outputs": [
    {
     "data": {
      "text/plain": [
       "TensorShape([2, 8732, 4])"
      ]
     },
     "execution_count": 30,
     "metadata": {},
     "output_type": "execute_result"
    }
   ],
   "source": [
    "pred_delta.shape"
   ]
  },
  {
   "cell_type": "code",
   "execution_count": 31,
   "id": "3c68a09d",
   "metadata": {},
   "outputs": [
    {
     "data": {
      "text/plain": [
       "<tf.Tensor: shape=(2, 8732), dtype=float32, numpy=\n",
       "array([[0.85173035, 0.46946216, 0.6843491 , ..., 0.7290499 , 0.17973682,\n",
       "        0.10442332],\n",
       "       [0.6552733 , 0.04071367, 0.22372013, ..., 0.14258406, 0.28669974,\n",
       "        0.0519913 ]], dtype=float32)>"
      ]
     },
     "execution_count": 31,
     "metadata": {},
     "output_type": "execute_result"
    }
   ],
   "source": [
    "huber_loss = tf.keras.losses.Huber(\n",
    "    reduction=tf.keras.losses.Reduction.NONE\n",
    ")\n",
    "\n",
    "huber_loss(gt_boxes_map_offset_suppressed_with_pos_cond[:, :, :4], pred_delta)"
   ]
  },
  {
   "cell_type": "code",
   "execution_count": 32,
   "id": "800e6450",
   "metadata": {},
   "outputs": [
    {
     "data": {
      "text/plain": [
       "<tf.Tensor: shape=(2, 8732), dtype=float32, numpy=\n",
       "array([[0.85173035, 0.46946216, 0.6843491 , ..., 0.7290499 , 0.17973682,\n",
       "        0.10442332],\n",
       "       [0.6552733 , 0.04071367, 0.22372013, ..., 0.14258406, 0.28669974,\n",
       "        0.0519913 ]], dtype=float32)>"
      ]
     },
     "execution_count": 32,
     "metadata": {},
     "output_type": "execute_result"
    }
   ],
   "source": [
    "huber_loss(gt_boxes_map_offset_suppressed_with_pos_cond[:, :, :4], pred_delta)"
   ]
  },
  {
   "cell_type": "code",
   "execution_count": 33,
   "id": "9d13d4db",
   "metadata": {},
   "outputs": [
    {
     "data": {
      "text/plain": [
       "<tf.Tensor: shape=(2, 8732, 5), dtype=float32, numpy=\n",
       "array([[[0., 0., 0., 0., 0.],\n",
       "        [0., 0., 0., 0., 0.],\n",
       "        [0., 0., 0., 0., 0.],\n",
       "        ...,\n",
       "        [0., 0., 0., 0., 0.],\n",
       "        [0., 0., 0., 0., 0.],\n",
       "        [0., 0., 0., 0., 0.]],\n",
       "\n",
       "       [[0., 0., 0., 0., 0.],\n",
       "        [0., 0., 0., 0., 0.],\n",
       "        [0., 0., 0., 0., 0.],\n",
       "        ...,\n",
       "        [0., 0., 0., 0., 0.],\n",
       "        [0., 0., 0., 0., 0.],\n",
       "        [0., 0., 0., 0., 0.]]], dtype=float32)>"
      ]
     },
     "execution_count": 33,
     "metadata": {},
     "output_type": "execute_result"
    }
   ],
   "source": [
    "gt_boxes_map_offset_suppressed_with_pos_cond"
   ]
  },
  {
   "cell_type": "code",
   "execution_count": 34,
   "id": "4d54a015",
   "metadata": {},
   "outputs": [],
   "source": [
    "# huber loss over all preds\n",
    "huber_loss = tf.keras.losses.Huber(\n",
    "    reduction=tf.keras.losses.Reduction.NONE\n",
    ")\n",
    "localization_loss_for_all_priors = huber_loss(gt_boxes_map_offset_suppressed_with_pos_cond[:, :, :4], pred_delta)\n",
    "\n",
    "# localization loss is only for default prior boxes with IOU > 0.5 over ground truth boxes\n",
    "localization_loss_for_all_priors = localization_loss_for_all_priors * gt_boxes_map_offset_suppressed_with_pos_cond[:, :, 4]\n",
    "\n",
    "total_pos_boxes = tf.reduce_sum(gt_boxes_map_offset_suppressed_with_pos_cond[:, :, 4:], axis=1)"
   ]
  },
  {
   "cell_type": "code",
   "execution_count": 35,
   "id": "4bbb9567",
   "metadata": {},
   "outputs": [
    {
     "data": {
      "text/plain": [
       "<tf.Tensor: shape=(2, 8732), dtype=float32, numpy=\n",
       "array([[0., 0., 0., ..., 0., 0., 0.],\n",
       "       [0., 0., 0., ..., 0., 0., 0.]], dtype=float32)>"
      ]
     },
     "execution_count": 35,
     "metadata": {},
     "output_type": "execute_result"
    }
   ],
   "source": [
    "localization_loss_for_all_priors"
   ]
  },
  {
   "cell_type": "code",
   "execution_count": 36,
   "id": "aa3dabca",
   "metadata": {},
   "outputs": [
    {
     "data": {
      "text/plain": [
       "<tf.Tensor: shape=(2, 8732), dtype=float32, numpy=\n",
       "array([[nan, nan, nan, ..., nan, nan, nan],\n",
       "       [ 0.,  0.,  0., ...,  0.,  0.,  0.]], dtype=float32)>"
      ]
     },
     "execution_count": 36,
     "metadata": {},
     "output_type": "execute_result"
    }
   ],
   "source": [
    "localization_loss_for_all_priors / total_pos_boxes"
   ]
  },
  {
   "cell_type": "code",
   "execution_count": 37,
   "id": "28bfa8cc",
   "metadata": {},
   "outputs": [
    {
     "data": {
      "text/plain": [
       "<tf.Tensor: shape=(2, 1), dtype=float32, numpy=\n",
       "array([[ 0.],\n",
       "       [52.]], dtype=float32)>"
      ]
     },
     "execution_count": 37,
     "metadata": {},
     "output_type": "execute_result"
    }
   ],
   "source": [
    "total_pos_boxes"
   ]
  },
  {
   "cell_type": "code",
   "execution_count": 38,
   "id": "0a9231bd",
   "metadata": {},
   "outputs": [],
   "source": [
    "no_label_mask = tf.reduce_any( tf.not_equal(total_pos_boxes, tf.constant(0.)), axis = 1 )"
   ]
  },
  {
   "cell_type": "code",
   "execution_count": 39,
   "id": "0eadc548",
   "metadata": {},
   "outputs": [
    {
     "data": {
      "text/plain": [
       "<tf.Tensor: shape=(2, 1), dtype=bool, numpy=\n",
       "array([[False],\n",
       "       [ True]])>"
      ]
     },
     "execution_count": 39,
     "metadata": {},
     "output_type": "execute_result"
    }
   ],
   "source": [
    "tf.transpose([no_label_mask])"
   ]
  },
  {
   "cell_type": "code",
   "execution_count": 40,
   "id": "614e9408",
   "metadata": {},
   "outputs": [
    {
     "data": {
      "text/plain": [
       "<tf.Tensor: shape=(2, 8732), dtype=float32, numpy=\n",
       "array([[0., 0., 0., ..., 0., 0., 0.],\n",
       "       [0., 0., 0., ..., 0., 0., 0.]], dtype=float32)>"
      ]
     },
     "execution_count": 40,
     "metadata": {},
     "output_type": "execute_result"
    }
   ],
   "source": [
    "tf.where(tf.transpose([no_label_mask]), localization_loss_for_all_priors / total_pos_boxes, \n",
    "         tf.constant(0.))"
   ]
  },
  {
   "cell_type": "code",
   "execution_count": 41,
   "id": "a4fbe568",
   "metadata": {},
   "outputs": [],
   "source": [
    "loss = SSDLoss()"
   ]
  },
  {
   "cell_type": "code",
   "execution_count": 42,
   "id": "c4e0780f",
   "metadata": {},
   "outputs": [],
   "source": [
    "actual_deltas = gt_boxes_map_offset_suppressed_with_pos_cond\n",
    "\n",
    "huber_loss = tf.keras.losses.Huber(\n",
    "    reduction=tf.keras.losses.Reduction.SUM\n",
    ")\n",
    "localization_loss_for_all_priors = huber_loss(actual_deltas[:, :, :4], pred_delta)"
   ]
  },
  {
   "cell_type": "code",
   "execution_count": 43,
   "id": "18decdfd",
   "metadata": {},
   "outputs": [
    {
     "data": {
      "text/plain": [
       "<tf.Tensor: shape=(), dtype=float32, numpy=7444.3813>"
      ]
     },
     "execution_count": 43,
     "metadata": {},
     "output_type": "execute_result"
    }
   ],
   "source": [
    "localization_loss_for_all_priors"
   ]
  },
  {
   "cell_type": "code",
   "execution_count": null,
   "id": "9726cfd5",
   "metadata": {},
   "outputs": [],
   "source": []
  },
  {
   "cell_type": "code",
   "execution_count": null,
   "id": "204eb543",
   "metadata": {},
   "outputs": [],
   "source": []
  },
  {
   "cell_type": "code",
   "execution_count": 44,
   "id": "8a158940",
   "metadata": {},
   "outputs": [],
   "source": [
    "loc_loss = loss.localization_loss(gt_boxes_map_offset_suppressed_with_pos_cond, \n",
    "                        pred_delta)"
   ]
  },
  {
   "cell_type": "code",
   "execution_count": 45,
   "id": "905eb537",
   "metadata": {},
   "outputs": [
    {
     "data": {
      "text/plain": [
       "<tf.Tensor: shape=(2, 8732), dtype=float32, numpy=\n",
       "array([[0., 0., 0., ..., 0., 0., 0.],\n",
       "       [0., 0., 0., ..., 0., 0., 0.]], dtype=float32)>"
      ]
     },
     "execution_count": 45,
     "metadata": {},
     "output_type": "execute_result"
    }
   ],
   "source": [
    "loc_loss"
   ]
  },
  {
   "cell_type": "code",
   "execution_count": 48,
   "id": "b6ba5702",
   "metadata": {},
   "outputs": [],
   "source": [
    "# tf.where(no_label_mask, loc_loss / total_pos_boxes, tf.zeros(loc_loss.shape))"
   ]
  },
  {
   "cell_type": "code",
   "execution_count": 49,
   "id": "0614d9c0",
   "metadata": {},
   "outputs": [
    {
     "data": {
      "text/plain": [
       "<tf.Tensor: shape=(2, 8732), dtype=float32, numpy=\n",
       "array([[0., 0., 0., ..., 0., 0., 0.],\n",
       "       [0., 0., 0., ..., 0., 0., 0.]], dtype=float32)>"
      ]
     },
     "execution_count": 49,
     "metadata": {},
     "output_type": "execute_result"
    }
   ],
   "source": [
    "loss.confidence_loss(gt_labels_one_hot_encoded, pred_labels)"
   ]
  },
  {
   "cell_type": "code",
   "execution_count": 50,
   "id": "b0deb20c",
   "metadata": {},
   "outputs": [],
   "source": [
    "categorical_cross_entropy = tf.losses.CategoricalCrossentropy(\n",
    "            reduction=tf.losses.Reduction.NONE\n",
    "        )"
   ]
  },
  {
   "cell_type": "code",
   "execution_count": 51,
   "id": "e2fa6f48",
   "metadata": {},
   "outputs": [],
   "source": [
    "confidence_loss_for_all = categorical_cross_entropy(gt_labels_one_hot_encoded, pred_labels)"
   ]
  },
  {
   "cell_type": "code",
   "execution_count": null,
   "id": "9ffc9466",
   "metadata": {},
   "outputs": [],
   "source": []
  },
  {
   "cell_type": "code",
   "execution_count": 52,
   "id": "3b17b259",
   "metadata": {},
   "outputs": [],
   "source": [
    "# gt_labels_one_hot_encoded\n",
    "pos_cond = tf.reduce_any( tf.equal(gt_labels_one_hot_encoded[..., 1:], tf.constant(1.0)), axis = 2)\n",
    "pos_mask = tf.cast(pos_cond, dtype=tf.float32)\n",
    "total_pos_boxes = tf.reduce_sum(pos_mask, axis=1)"
   ]
  },
  {
   "cell_type": "code",
   "execution_count": 53,
   "id": "928cac4c",
   "metadata": {},
   "outputs": [],
   "source": [
    "pos_loss = tf.reduce_sum(pos_mask * confidence_loss_for_all, axis=1)"
   ]
  },
  {
   "cell_type": "code",
   "execution_count": 54,
   "id": "ffcae455",
   "metadata": {},
   "outputs": [
    {
     "data": {
      "text/plain": [
       "<tf.Tensor: shape=(2, 8732), dtype=bool, numpy=\n",
       "array([[False, False, False, ..., False, False, False],\n",
       "       [False, False, False, ..., False, False, False]])>"
      ]
     },
     "execution_count": 54,
     "metadata": {},
     "output_type": "execute_result"
    }
   ],
   "source": [
    "pos_cond"
   ]
  },
  {
   "cell_type": "code",
   "execution_count": null,
   "id": "af0983c1",
   "metadata": {},
   "outputs": [],
   "source": []
  },
  {
   "cell_type": "code",
   "execution_count": 55,
   "id": "10e1c113",
   "metadata": {},
   "outputs": [],
   "source": [
    "neg_cond = tf.reduce_any( tf.equal(gt_labels_one_hot_encoded[..., :1], tf.constant(1.0)), axis = 2)\n",
    "neg_mask = tf.cast(neg_cond, dtype=tf.float32)"
   ]
  },
  {
   "cell_type": "code",
   "execution_count": 71,
   "id": "0b6b3c04",
   "metadata": {},
   "outputs": [
    {
     "data": {
      "text/plain": [
       "<tf.Tensor: shape=(2, 8732), dtype=float32, numpy=\n",
       "array([[2.9352515, 3.598501 , 3.8623304, ..., 5.561779 , 4.5376306,\n",
       "        2.5427332],\n",
       "       [2.9352515, 3.598501 , 3.8623304, ..., 5.561779 , 4.5376306,\n",
       "        2.5427332]], dtype=float32)>"
      ]
     },
     "execution_count": 71,
     "metadata": {},
     "output_type": "execute_result"
    }
   ],
   "source": [
    "confidence_loss_for_all"
   ]
  },
  {
   "cell_type": "code",
   "execution_count": 56,
   "id": "13e558d6",
   "metadata": {},
   "outputs": [],
   "source": [
    "# set positive cases to -1\n",
    "confidence_loss_for_all = tf.where(neg_cond, confidence_loss_for_all, \n",
    "                                   tf.negative(tf.ones(confidence_loss_for_all.shape))\n",
    "                                  )"
   ]
  },
  {
   "cell_type": "code",
   "execution_count": 57,
   "id": "e9f2ec81",
   "metadata": {},
   "outputs": [
    {
     "data": {
      "text/plain": [
       "<tf.Tensor: shape=(2,), dtype=float32, numpy=array([8732., 8680.], dtype=float32)>"
      ]
     },
     "execution_count": 57,
     "metadata": {},
     "output_type": "execute_result"
    }
   ],
   "source": [
    "tf.reduce_sum(neg_mask, axis=1)"
   ]
  },
  {
   "cell_type": "code",
   "execution_count": 58,
   "id": "5fd747be",
   "metadata": {},
   "outputs": [],
   "source": [
    "total_neg_bboxes = tf.cast(total_pos_boxes * 3, tf.int32)"
   ]
  },
  {
   "cell_type": "code",
   "execution_count": 59,
   "id": "3dbd7cca",
   "metadata": {},
   "outputs": [
    {
     "data": {
      "text/plain": [
       "<tf.Tensor: shape=(2,), dtype=int32, numpy=array([  0, 156], dtype=int32)>"
      ]
     },
     "execution_count": 59,
     "metadata": {},
     "output_type": "execute_result"
    }
   ],
   "source": [
    "total_neg_bboxes"
   ]
  },
  {
   "cell_type": "code",
   "execution_count": 60,
   "id": "74ed9967",
   "metadata": {},
   "outputs": [],
   "source": [
    "loss_sorted_indices = tf.argsort(confidence_loss_for_all, direction=\"DESCENDING\")\n",
    "loss_sorted_rank = tf.argsort(loss_sorted_indices)"
   ]
  },
  {
   "cell_type": "code",
   "execution_count": 61,
   "id": "881397ae",
   "metadata": {},
   "outputs": [
    {
     "data": {
      "text/plain": [
       "<tf.Tensor: shape=(2, 8732), dtype=int32, numpy=\n",
       "array([[4906, 2427, 1873, ...,  346,  909, 7448],\n",
       "       [4881, 2413, 1862, ...,  344,  905, 7405]], dtype=int32)>"
      ]
     },
     "execution_count": 61,
     "metadata": {},
     "output_type": "execute_result"
    }
   ],
   "source": [
    "loss_sorted_rank"
   ]
  },
  {
   "cell_type": "code",
   "execution_count": 62,
   "id": "558be252",
   "metadata": {},
   "outputs": [],
   "source": [
    "neg_cond = tf.less(loss_sorted_rank, tf.expand_dims(total_neg_bboxes, axis=1))\n",
    "neg_mask = tf.cast(neg_cond, dtype=tf.float32)"
   ]
  },
  {
   "cell_type": "code",
   "execution_count": 63,
   "id": "5d5cb835",
   "metadata": {},
   "outputs": [
    {
     "data": {
      "text/plain": [
       "<tf.Tensor: shape=(2, 8732), dtype=float32, numpy=\n",
       "array([[0., 0., 0., ..., 0., 0., 0.],\n",
       "       [0., 0., 0., ..., 0., 0., 0.]], dtype=float32)>"
      ]
     },
     "execution_count": 63,
     "metadata": {},
     "output_type": "execute_result"
    }
   ],
   "source": [
    "neg_mask"
   ]
  },
  {
   "cell_type": "code",
   "execution_count": 64,
   "id": "f2349973",
   "metadata": {},
   "outputs": [
    {
     "data": {
      "text/plain": [
       "<tf.Tensor: shape=(2,), dtype=float32, numpy=array([  0.     , 174.57834], dtype=float32)>"
      ]
     },
     "execution_count": 64,
     "metadata": {},
     "output_type": "execute_result"
    }
   ],
   "source": [
    "pos_loss"
   ]
  },
  {
   "cell_type": "code",
   "execution_count": 65,
   "id": "d1ea71b6",
   "metadata": {},
   "outputs": [
    {
     "data": {
      "text/plain": [
       "<tf.Tensor: shape=(2,), dtype=float32, numpy=array([   0.    , 1144.7549], dtype=float32)>"
      ]
     },
     "execution_count": 65,
     "metadata": {},
     "output_type": "execute_result"
    }
   ],
   "source": [
    "tf.reduce_sum(neg_mask * confidence_loss_for_all, axis=1)"
   ]
  },
  {
   "cell_type": "code",
   "execution_count": 66,
   "id": "399d5e7b",
   "metadata": {},
   "outputs": [],
   "source": [
    "conf_loss = tf.reduce_sum(neg_mask * confidence_loss_for_all, axis=1) + pos_loss"
   ]
  },
  {
   "cell_type": "code",
   "execution_count": 67,
   "id": "128ffa9e",
   "metadata": {},
   "outputs": [
    {
     "data": {
      "text/plain": [
       "<tf.Tensor: shape=(2,), dtype=float32, numpy=array([   0.    , 1319.3333], dtype=float32)>"
      ]
     },
     "execution_count": 67,
     "metadata": {},
     "output_type": "execute_result"
    }
   ],
   "source": [
    "conf_loss"
   ]
  },
  {
   "cell_type": "code",
   "execution_count": 68,
   "id": "d4a501bc",
   "metadata": {},
   "outputs": [
    {
     "data": {
      "text/plain": [
       "<tf.Tensor: shape=(2,), dtype=float32, numpy=array([  0.     , 174.57834], dtype=float32)>"
      ]
     },
     "execution_count": 68,
     "metadata": {},
     "output_type": "execute_result"
    }
   ],
   "source": [
    "pos_loss"
   ]
  },
  {
   "cell_type": "code",
   "execution_count": 69,
   "id": "4a3188e2",
   "metadata": {},
   "outputs": [
    {
     "data": {
      "text/plain": [
       "<tf.Tensor: shape=(2,), dtype=float32, numpy=array([   0.    , 1144.7549], dtype=float32)>"
      ]
     },
     "execution_count": 69,
     "metadata": {},
     "output_type": "execute_result"
    }
   ],
   "source": [
    "tf.reduce_sum(neg_mask * confidence_loss_for_all, axis=1)"
   ]
  },
  {
   "cell_type": "code",
   "execution_count": 70,
   "id": "00883e06",
   "metadata": {},
   "outputs": [
    {
     "data": {
      "text/plain": [
       "<tf.Tensor: shape=(2,), dtype=float32, numpy=array([ 0., 52.], dtype=float32)>"
      ]
     },
     "execution_count": 70,
     "metadata": {},
     "output_type": "execute_result"
    }
   ],
   "source": [
    "total_pos_boxes"
   ]
  },
  {
   "cell_type": "code",
   "execution_count": null,
   "id": "aa854081",
   "metadata": {},
   "outputs": [],
   "source": []
  }
 ],
 "metadata": {
  "kernelspec": {
   "display_name": "Python 3 (ipykernel)",
   "language": "python",
   "name": "python3"
  },
  "language_info": {
   "codemirror_mode": {
    "name": "ipython",
    "version": 3
   },
   "file_extension": ".py",
   "mimetype": "text/x-python",
   "name": "python",
   "nbconvert_exporter": "python",
   "pygments_lexer": "ipython3",
   "version": "3.9.10"
  }
 },
 "nbformat": 4,
 "nbformat_minor": 5
}
