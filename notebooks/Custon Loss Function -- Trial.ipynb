{
 "cells": [
  {
   "cell_type": "code",
   "execution_count": 1,
   "id": "8f549f98",
   "metadata": {},
   "outputs": [],
   "source": [
    "import tensorflow as tf\n",
    "from tensorflow.keras.utils import plot_model\n",
    "from tensorflow.keras import backend as K\n",
    "\n",
    "import matplotlib.pyplot as plt\n",
    "import numpy as np\n",
    "import pandas as pd"
   ]
  },
  {
   "cell_type": "code",
   "execution_count": 2,
   "id": "68691685",
   "metadata": {},
   "outputs": [],
   "source": [
    "def my_huber_loss_1(y_true, y_pred):\n",
    "    threshold = 1.\n",
    "    error = y_true - y_pred\n",
    "    is_small_error = tf.abs(error) <= threshold\n",
    "    small_error_loss = tf.square(error) / 2\n",
    "    big_error_loss = threshold * (tf.abs(error) - threshold / 2)\n",
    "    \n",
    "    loss = tf.where(is_small_error, small_error_loss, big_error_loss)\n",
    "    \n",
    "    col1 = tf.transpose(tf.expand_dims(loss[:, 1] * 0, axis = 0))\n",
    "    \n",
    "    return tf.concat([loss[:, :1], col1], axis = 1)\n",
    "\n",
    "def my_huber_loss(y_true, y_pred):\n",
    "    threshold = 1.\n",
    "    error = y_true - y_pred\n",
    "    is_small_error = tf.abs(error) <= threshold\n",
    "    small_error_loss = tf.square(error) / 2\n",
    "    big_error_loss = threshold * (tf.abs(error) - threshold / 2)\n",
    "    \n",
    "    loss = tf.where(is_small_error, small_error_loss, big_error_loss)\n",
    "    \n",
    "    return loss"
   ]
  },
  {
   "cell_type": "code",
   "execution_count": 3,
   "id": "4041a821",
   "metadata": {},
   "outputs": [
    {
     "name": "stderr",
     "output_type": "stream",
     "text": [
      "2022-09-04 02:25:29.111786: I tensorflow/core/platform/cpu_feature_guard.cc:193] This TensorFlow binary is optimized with oneAPI Deep Neural Network Library (oneDNN) to use the following CPU instructions in performance-critical operations:  AVX2 FMA\n",
      "To enable them in other operations, rebuild TensorFlow with the appropriate compiler flags.\n"
     ]
    }
   ],
   "source": [
    "y_true = np.array([[0.1, 0.2], \n",
    "                   [0.3, 0.4]], np.float32)\n",
    "y_pred = np.array([[0.2, 0.25], \n",
    "                   [0.29, 0.33]], np.float32)\n",
    "\n",
    "test = my_huber_loss(y_true, y_pred)"
   ]
  },
  {
   "cell_type": "code",
   "execution_count": 4,
   "id": "f4cb0729",
   "metadata": {},
   "outputs": [
    {
     "data": {
      "text/plain": [
       "<tf.Tensor: shape=(2, 2), dtype=float32, numpy=\n",
       "array([[5.0000004e-03, 1.2499999e-03],\n",
       "       [5.0000202e-05, 2.4499996e-03]], dtype=float32)>"
      ]
     },
     "execution_count": 4,
     "metadata": {},
     "output_type": "execute_result"
    }
   ],
   "source": [
    "test"
   ]
  },
  {
   "cell_type": "code",
   "execution_count": 5,
   "id": "126fbc73",
   "metadata": {},
   "outputs": [
    {
     "data": {
      "text/plain": [
       "<tf.Tensor: shape=(2, 2), dtype=float32, numpy=\n",
       "array([[5.0000004e-03, 2.4999997e-03],\n",
       "       [5.0000202e-05, 4.8999991e-03]], dtype=float32)>"
      ]
     },
     "execution_count": 5,
     "metadata": {},
     "output_type": "execute_result"
    }
   ],
   "source": [
    "col1 = tf.transpose(tf.expand_dims(test[:, 1] * 2, axis = 0))\n",
    "\n",
    "tf.concat([test[:, :1], col1], axis = 1)"
   ]
  },
  {
   "cell_type": "code",
   "execution_count": 6,
   "id": "0008868a",
   "metadata": {},
   "outputs": [],
   "source": [
    "xs = np.array([[-1.0, 0.0], [1.0, 2.0], [3.0, 4.0]], dtype=float)\n",
    "# labels\n",
    "ys = np.array([[-3.0, -1.0], [1.0, 3.0], [5.0, 7.0]], dtype=float)"
   ]
  },
  {
   "cell_type": "code",
   "execution_count": 7,
   "id": "41f3bc3d",
   "metadata": {},
   "outputs": [
    {
     "data": {
      "text/plain": [
       "<tf.Tensor: shape=(2, 2), dtype=float32, numpy=\n",
       "array([[5.0000004e-03, 1.2499999e-03],\n",
       "       [5.0000202e-05, 2.4499996e-03]], dtype=float32)>"
      ]
     },
     "execution_count": 7,
     "metadata": {},
     "output_type": "execute_result"
    }
   ],
   "source": [
    "my_huber_loss(y_true, y_pred)"
   ]
  },
  {
   "cell_type": "code",
   "execution_count": 8,
   "id": "ee50b4c3",
   "metadata": {},
   "outputs": [
    {
     "name": "stdout",
     "output_type": "stream",
     "text": [
      "Model: \"sequential\"\n",
      "_________________________________________________________________\n",
      " Layer (type)                Output Shape              Param #   \n",
      "=================================================================\n",
      " dense (Dense)               (None, 6)                 18        \n",
      "                                                                 \n",
      " dense_1 (Dense)             (None, 2)                 14        \n",
      "                                                                 \n",
      "=================================================================\n",
      "Total params: 32\n",
      "Trainable params: 32\n",
      "Non-trainable params: 0\n",
      "_________________________________________________________________\n"
     ]
    }
   ],
   "source": [
    "model = tf.keras.Sequential([\n",
    "    tf.keras.layers.Dense(units=6, input_shape=[2,]),\n",
    "    tf.keras.layers.Dense(units=2, input_shape=[6,]),\n",
    "])\n",
    "\n",
    "model.summary()"
   ]
  },
  {
   "cell_type": "code",
   "execution_count": 9,
   "id": "aa387a70",
   "metadata": {},
   "outputs": [],
   "source": [
    "# model = tf.keras.Sequential([\n",
    "#     tf.keras.layers.Dense(units=6, input_shape=[2,]),\n",
    "#     tf.keras.layers.Dense(units=2, input_shape=[6,]),\n",
    "# ])\n",
    "\n",
    "input = tf.keras.layers.Input(shape=(2), name=\"input\")\n",
    "\n",
    "input_layer = tf.keras.layers.Dense(units=6)(input)\n",
    "fc2 = tf.keras.layers.Dense(units=2,  name='final_layer_1')(input_layer)\n",
    "fc3 = tf.keras.layers.Dense(units=2,  name='final_layer_2')(input_layer)\n",
    "\n",
    "# model.compile(optimizer='sgd', loss=[my_huber_loss])"
   ]
  },
  {
   "cell_type": "code",
   "execution_count": 10,
   "id": "0d3b3fae",
   "metadata": {},
   "outputs": [],
   "source": [
    "model = tf.keras.models.Model(inputs=input,  outputs=[fc2, fc3])"
   ]
  },
  {
   "cell_type": "code",
   "execution_count": 11,
   "id": "07b4cba2",
   "metadata": {},
   "outputs": [
    {
     "name": "stdout",
     "output_type": "stream",
     "text": [
      "Model: \"model\"\n",
      "__________________________________________________________________________________________________\n",
      " Layer (type)                   Output Shape         Param #     Connected to                     \n",
      "==================================================================================================\n",
      " input (InputLayer)             [(None, 2)]          0           []                               \n",
      "                                                                                                  \n",
      " dense_2 (Dense)                (None, 6)            18          ['input[0][0]']                  \n",
      "                                                                                                  \n",
      " final_layer_1 (Dense)          (None, 2)            14          ['dense_2[0][0]']                \n",
      "                                                                                                  \n",
      " final_layer_2 (Dense)          (None, 2)            14          ['dense_2[0][0]']                \n",
      "                                                                                                  \n",
      "==================================================================================================\n",
      "Total params: 46\n",
      "Trainable params: 46\n",
      "Non-trainable params: 0\n",
      "__________________________________________________________________________________________________\n"
     ]
    }
   ],
   "source": [
    "model.summary()"
   ]
  },
  {
   "cell_type": "code",
   "execution_count": 12,
   "id": "0544f85e",
   "metadata": {},
   "outputs": [
    {
     "name": "stdout",
     "output_type": "stream",
     "text": [
      "1/1 [==============================] - 0s 112ms/step\n"
     ]
    }
   ],
   "source": [
    "pred = model.predict(xs) "
   ]
  },
  {
   "cell_type": "code",
   "execution_count": 13,
   "id": "78a6db38",
   "metadata": {},
   "outputs": [
    {
     "data": {
      "text/plain": [
       "1.954270839691162"
      ]
     },
     "execution_count": 13,
     "metadata": {},
     "output_type": "execute_result"
    }
   ],
   "source": [
    "np.sum(my_huber_loss_1( ys , pred[0])) / 6"
   ]
  },
  {
   "cell_type": "code",
   "execution_count": 14,
   "id": "e0ab6576",
   "metadata": {},
   "outputs": [
    {
     "data": {
      "text/plain": [
       "<tf.Tensor: shape=(3, 2), dtype=float64, numpy=\n",
       "array([[3.5916357 , 0.        ],\n",
       "       [1.37892771, 0.        ],\n",
       "       [0.0557048 , 0.        ]])>"
      ]
     },
     "execution_count": 14,
     "metadata": {},
     "output_type": "execute_result"
    }
   ],
   "source": [
    "my_huber_loss_1( ys , pred[1])"
   ]
  },
  {
   "cell_type": "code",
   "execution_count": 15,
   "id": "b2e229ef",
   "metadata": {},
   "outputs": [
    {
     "data": {
      "text/plain": [
       "2.868728295940175"
      ]
     },
     "execution_count": 15,
     "metadata": {},
     "output_type": "execute_result"
    }
   ],
   "source": [
    "np.sum(my_huber_loss( ys , pred[1])) / 6"
   ]
  },
  {
   "cell_type": "code",
   "execution_count": 16,
   "id": "c92bda95",
   "metadata": {},
   "outputs": [],
   "source": [
    "model.compile(optimizer='sgd', loss=[my_huber_loss_1, my_huber_loss])"
   ]
  },
  {
   "cell_type": "code",
   "execution_count": 17,
   "id": "24bbae0c",
   "metadata": {},
   "outputs": [
    {
     "name": "stdout",
     "output_type": "stream",
     "text": [
      "Epoch 1/50\n",
      "1/1 [==============================] - 1s 832ms/step - loss: 4.8230 - final_layer_1_loss: 1.9543 - final_layer_2_loss: 2.8687\n",
      "Epoch 2/50\n",
      "1/1 [==============================] - 0s 5ms/step - loss: 4.7115 - final_layer_1_loss: 1.9087 - final_layer_2_loss: 2.8027\n",
      "Epoch 3/50\n",
      "1/1 [==============================] - 0s 5ms/step - loss: 4.6059 - final_layer_1_loss: 1.8651 - final_layer_2_loss: 2.7408\n",
      "Epoch 4/50\n",
      "1/1 [==============================] - 0s 4ms/step - loss: 4.5049 - final_layer_1_loss: 1.8230 - final_layer_2_loss: 2.6818\n",
      "Epoch 5/50\n",
      "1/1 [==============================] - 0s 4ms/step - loss: 4.4073 - final_layer_1_loss: 1.7823 - final_layer_2_loss: 2.6249\n",
      "Epoch 6/50\n",
      "1/1 [==============================] - 0s 4ms/step - loss: 4.3123 - final_layer_1_loss: 1.7428 - final_layer_2_loss: 2.5695\n",
      "Epoch 7/50\n",
      "1/1 [==============================] - 0s 4ms/step - loss: 4.2192 - final_layer_1_loss: 1.7042 - final_layer_2_loss: 2.5150\n",
      "Epoch 8/50\n",
      "1/1 [==============================] - 0s 6ms/step - loss: 4.1275 - final_layer_1_loss: 1.6664 - final_layer_2_loss: 2.4611\n",
      "Epoch 9/50\n",
      "1/1 [==============================] - 0s 4ms/step - loss: 4.0367 - final_layer_1_loss: 1.6293 - final_layer_2_loss: 2.4075\n",
      "Epoch 10/50\n",
      "1/1 [==============================] - 0s 6ms/step - loss: 3.9466 - final_layer_1_loss: 1.5926 - final_layer_2_loss: 2.3539\n",
      "Epoch 11/50\n",
      "1/1 [==============================] - 0s 4ms/step - loss: 3.8566 - final_layer_1_loss: 1.5563 - final_layer_2_loss: 2.3003\n",
      "Epoch 12/50\n",
      "1/1 [==============================] - 0s 6ms/step - loss: 3.7666 - final_layer_1_loss: 1.5202 - final_layer_2_loss: 2.2464\n",
      "Epoch 13/50\n",
      "1/1 [==============================] - 0s 3ms/step - loss: 3.6762 - final_layer_1_loss: 1.4840 - final_layer_2_loss: 2.1921\n",
      "Epoch 14/50\n",
      "1/1 [==============================] - 0s 4ms/step - loss: 3.5853 - final_layer_1_loss: 1.4478 - final_layer_2_loss: 2.1375\n",
      "Epoch 15/50\n",
      "1/1 [==============================] - 0s 5ms/step - loss: 3.4938 - final_layer_1_loss: 1.4114 - final_layer_2_loss: 2.0824\n",
      "Epoch 16/50\n",
      "1/1 [==============================] - 0s 3ms/step - loss: 3.4016 - final_layer_1_loss: 1.3748 - final_layer_2_loss: 2.0268\n",
      "Epoch 17/50\n",
      "1/1 [==============================] - 0s 5ms/step - loss: 3.3086 - final_layer_1_loss: 1.3379 - final_layer_2_loss: 1.9707\n",
      "Epoch 18/50\n",
      "1/1 [==============================] - 0s 7ms/step - loss: 3.2146 - final_layer_1_loss: 1.3008 - final_layer_2_loss: 1.9138\n",
      "Epoch 19/50\n",
      "1/1 [==============================] - 0s 5ms/step - loss: 3.1195 - final_layer_1_loss: 1.2632 - final_layer_2_loss: 1.8563\n",
      "Epoch 20/50\n",
      "1/1 [==============================] - 0s 4ms/step - loss: 3.0232 - final_layer_1_loss: 1.2252 - final_layer_2_loss: 1.7980\n",
      "Epoch 21/50\n",
      "1/1 [==============================] - 0s 5ms/step - loss: 2.9256 - final_layer_1_loss: 1.1868 - final_layer_2_loss: 1.7388\n",
      "Epoch 22/50\n",
      "1/1 [==============================] - 0s 4ms/step - loss: 2.8265 - final_layer_1_loss: 1.1478 - final_layer_2_loss: 1.6787\n",
      "Epoch 23/50\n",
      "1/1 [==============================] - 0s 4ms/step - loss: 2.7257 - final_layer_1_loss: 1.1081 - final_layer_2_loss: 1.6176\n",
      "Epoch 24/50\n",
      "1/1 [==============================] - 0s 12ms/step - loss: 2.6233 - final_layer_1_loss: 1.0678 - final_layer_2_loss: 1.5554\n",
      "Epoch 25/50\n",
      "1/1 [==============================] - 0s 4ms/step - loss: 2.5190 - final_layer_1_loss: 1.0268 - final_layer_2_loss: 1.4922\n",
      "Epoch 26/50\n",
      "1/1 [==============================] - 0s 4ms/step - loss: 2.4136 - final_layer_1_loss: 0.9859 - final_layer_2_loss: 1.4277\n",
      "Epoch 27/50\n",
      "1/1 [==============================] - 0s 6ms/step - loss: 2.3082 - final_layer_1_loss: 0.9460 - final_layer_2_loss: 1.3622\n",
      "Epoch 28/50\n",
      "1/1 [==============================] - 0s 5ms/step - loss: 2.2026 - final_layer_1_loss: 0.9070 - final_layer_2_loss: 1.2956\n",
      "Epoch 29/50\n",
      "1/1 [==============================] - 0s 5ms/step - loss: 2.0967 - final_layer_1_loss: 0.8689 - final_layer_2_loss: 1.2278\n",
      "Epoch 30/50\n",
      "1/1 [==============================] - 0s 3ms/step - loss: 1.9905 - final_layer_1_loss: 0.8316 - final_layer_2_loss: 1.1589\n",
      "Epoch 31/50\n",
      "1/1 [==============================] - 0s 4ms/step - loss: 1.8866 - final_layer_1_loss: 0.7954 - final_layer_2_loss: 1.0912\n",
      "Epoch 32/50\n",
      "1/1 [==============================] - 0s 7ms/step - loss: 1.7873 - final_layer_1_loss: 0.7604 - final_layer_2_loss: 1.0269\n",
      "Epoch 33/50\n",
      "1/1 [==============================] - 0s 4ms/step - loss: 1.6923 - final_layer_1_loss: 0.7266 - final_layer_2_loss: 0.9657\n",
      "Epoch 34/50\n",
      "1/1 [==============================] - 0s 4ms/step - loss: 1.6016 - final_layer_1_loss: 0.6939 - final_layer_2_loss: 0.9076\n",
      "Epoch 35/50\n",
      "1/1 [==============================] - 0s 4ms/step - loss: 1.5156 - final_layer_1_loss: 0.6624 - final_layer_2_loss: 0.8532\n",
      "Epoch 36/50\n",
      "1/1 [==============================] - 0s 4ms/step - loss: 1.4442 - final_layer_1_loss: 0.6327 - final_layer_2_loss: 0.8115\n",
      "Epoch 37/50\n",
      "1/1 [==============================] - 0s 4ms/step - loss: 1.3891 - final_layer_1_loss: 0.6055 - final_layer_2_loss: 0.7837\n",
      "Epoch 38/50\n",
      "1/1 [==============================] - 0s 4ms/step - loss: 1.3451 - final_layer_1_loss: 0.5802 - final_layer_2_loss: 0.7649\n",
      "Epoch 39/50\n",
      "1/1 [==============================] - 0s 4ms/step - loss: 1.3086 - final_layer_1_loss: 0.5566 - final_layer_2_loss: 0.7520\n",
      "Epoch 40/50\n",
      "1/1 [==============================] - 0s 4ms/step - loss: 1.2772 - final_layer_1_loss: 0.5345 - final_layer_2_loss: 0.7427\n",
      "Epoch 41/50\n",
      "1/1 [==============================] - 0s 4ms/step - loss: 1.2493 - final_layer_1_loss: 0.5136 - final_layer_2_loss: 0.7357\n",
      "Epoch 42/50\n",
      "1/1 [==============================] - 0s 5ms/step - loss: 1.2240 - final_layer_1_loss: 0.4938 - final_layer_2_loss: 0.7302\n",
      "Epoch 43/50\n",
      "1/1 [==============================] - 0s 4ms/step - loss: 1.2004 - final_layer_1_loss: 0.4749 - final_layer_2_loss: 0.7255\n",
      "Epoch 44/50\n",
      "1/1 [==============================] - 0s 4ms/step - loss: 1.1782 - final_layer_1_loss: 0.4568 - final_layer_2_loss: 0.7214\n",
      "Epoch 45/50\n",
      "1/1 [==============================] - 0s 4ms/step - loss: 1.1571 - final_layer_1_loss: 0.4395 - final_layer_2_loss: 0.7177\n",
      "Epoch 46/50\n",
      "1/1 [==============================] - 0s 3ms/step - loss: 1.1369 - final_layer_1_loss: 0.4228 - final_layer_2_loss: 0.7141\n",
      "Epoch 47/50\n",
      "1/1 [==============================] - 0s 5ms/step - loss: 1.1174 - final_layer_1_loss: 0.4067 - final_layer_2_loss: 0.7107\n",
      "Epoch 48/50\n",
      "1/1 [==============================] - 0s 4ms/step - loss: 1.0985 - final_layer_1_loss: 0.3912 - final_layer_2_loss: 0.7073\n",
      "Epoch 49/50\n",
      "1/1 [==============================] - 0s 4ms/step - loss: 1.0802 - final_layer_1_loss: 0.3761 - final_layer_2_loss: 0.7040\n",
      "Epoch 50/50\n",
      "1/1 [==============================] - 0s 4ms/step - loss: 1.0625 - final_layer_1_loss: 0.3618 - final_layer_2_loss: 0.7008\n"
     ]
    },
    {
     "data": {
      "text/plain": [
       "<keras.callbacks.History at 0x15ff0e160>"
      ]
     },
     "execution_count": 17,
     "metadata": {},
     "output_type": "execute_result"
    }
   ],
   "source": [
    "model.fit(xs, [ys, ys], epochs=50, verbose=1)"
   ]
  },
  {
   "cell_type": "code",
   "execution_count": 18,
   "id": "95c51d64",
   "metadata": {},
   "outputs": [
    {
     "name": "stdout",
     "output_type": "stream",
     "text": [
      "1/1 [==============================] - 0s 51ms/step\n"
     ]
    },
    {
     "data": {
      "text/plain": [
       "[array([[-0.9489418 , -0.16446897],\n",
       "        [ 1.5946609 , -0.4316575 ],\n",
       "        [ 4.1382637 , -0.6988462 ]], dtype=float32),\n",
       " array([[ 0.5313915, -0.9613741],\n",
       "        [ 2.505542 ,  3.0836008],\n",
       "        [ 4.479692 ,  7.128576 ]], dtype=float32)]"
      ]
     },
     "execution_count": 18,
     "metadata": {},
     "output_type": "execute_result"
    }
   ],
   "source": [
    "model.predict(xs)"
   ]
  },
  {
   "cell_type": "code",
   "execution_count": null,
   "id": "250e490b",
   "metadata": {},
   "outputs": [],
   "source": []
  }
 ],
 "metadata": {
  "kernelspec": {
   "display_name": "Python 3 (ipykernel)",
   "language": "python",
   "name": "python3"
  },
  "language_info": {
   "codemirror_mode": {
    "name": "ipython",
    "version": 3
   },
   "file_extension": ".py",
   "mimetype": "text/x-python",
   "name": "python",
   "nbconvert_exporter": "python",
   "pygments_lexer": "ipython3",
   "version": "3.9.10"
  }
 },
 "nbformat": 4,
 "nbformat_minor": 5
}
