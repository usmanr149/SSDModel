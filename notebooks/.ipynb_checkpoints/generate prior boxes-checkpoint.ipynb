{
 "cells": [
  {
   "cell_type": "code",
   "execution_count": 1,
   "id": "ff231338",
   "metadata": {},
   "outputs": [],
   "source": [
    "import tensorflow as tf\n",
    "import numpy as np\n",
    "import matplotlib.pyplot as plt\n",
    "\n",
    "import cv2\n",
    "\n",
    "%load_ext autoreload\n",
    "%autoreload 2"
   ]
  },
  {
   "cell_type": "code",
   "execution_count": 2,
   "id": "fd56be09",
   "metadata": {},
   "outputs": [],
   "source": [
    "feature_map_shapes = [38, 19, 10, 5, 3, 1]\n",
    "number_of_feature_maps = 6\n",
    "aspect_ratios = [1, 2, 3, 0.5, 0.333]"
   ]
  },
  {
   "cell_type": "code",
   "execution_count": 3,
   "id": "224d793a",
   "metadata": {},
   "outputs": [],
   "source": [
    "image_height = 300\n",
    "image_width = 300\n",
    "\n",
    "image = np.zeros((image_height, image_width))"
   ]
  },
  {
   "cell_type": "code",
   "execution_count": 4,
   "id": "d096b092",
   "metadata": {},
   "outputs": [
    {
     "data": {
      "text/plain": [
       "(300, 300)"
      ]
     },
     "execution_count": 4,
     "metadata": {},
     "output_type": "execute_result"
    }
   ],
   "source": [
    "image.shape"
   ]
  },
  {
   "cell_type": "code",
   "execution_count": 5,
   "id": "9585d751",
   "metadata": {},
   "outputs": [
    {
     "data": {
      "text/plain": [
       "<matplotlib.image.AxesImage at 0x15d129610>"
      ]
     },
     "execution_count": 5,
     "metadata": {},
     "output_type": "execute_result"
    },
    {
     "data": {
      "image/png": "[encoded data removed]",
      "text/plain": [
       "<Figure size 432x288 with 1 Axes>"
      ]
     },
     "metadata": {
      "needs_background": "light"
     },
     "output_type": "display_data"
    }
   ],
   "source": [
    "plt.imshow(image)"
   ]
  },
  {
   "cell_type": "code",
   "execution_count": null,
   "id": "da4288ef",
   "metadata": {},
   "outputs": [],
   "source": [
    "s_min = 30\n",
    "s_max = 315\n",
    "\n",
    "for k in range(1, 7):\n",
    "    s_k = s_min + (s_max - s_min) * (k - 1) / 5\n",
    "    print(s_k)"
   ]
  },
  {
   "cell_type": "code",
   "execution_count": null,
   "id": "929ffe08",
   "metadata": {},
   "outputs": [],
   "source": [
    "def calculate_scale_of_default_boxes(k, m = 6, s_max = 0.9, s_min = 0.2):\n",
    "    \"\"\"\n",
    "    m = number_of_feature_maps\n",
    "    s_k = s_min + (s_max - s_min) * (k - 1)/(m - 1)\n",
    "    width_k = s_k * sqrt(aspect_ratio)\n",
    "    height_k = s_k / sqrt(aspect_ratio)\n",
    "    \"\"\"\n",
    "    return s_min + (s_max - s_min) * (k - 1) / (m - 1)\n",
    "\n",
    "curent_height = feature_map_shapes[2]\n",
    "current_aspect_ratios = aspect_ratios[4]\n",
    "\n",
    "feature_map_index = 1\n",
    "\n",
    "current_scale = calculate_scale_of_default_boxes(feature_map_index, m=number_of_feature_maps)\n",
    "next_scale = calculate_scale_of_default_boxes(feature_map_index + 1, m=number_of_feature_maps)\n",
    "base_prior_boxes = []\n",
    "for aspect_ratio in aspect_ratios:\n",
    "    height = current_scale / np.sqrt(aspect_ratio)\n",
    "    width = current_scale * np.sqrt(aspect_ratio)\n",
    "    base_prior_boxes.append([-height/2, -width/2, height/2, width/2])\n",
    "# 1 extra pair for ratio 1\n",
    "height = width = np.sqrt(current_scale * next_scale)\n",
    "base_prior_boxes.append([-height/2, -width/2, height/2, width/2])"
   ]
  },
  {
   "cell_type": "code",
   "execution_count": null,
   "id": "ca23fa6b",
   "metadata": {},
   "outputs": [],
   "source": [
    "w_k = []\n",
    "\n",
    "for i in range(1, 7):\n",
    "    current_scale = calculate_scale_of_default_boxes(k = i)\n",
    "    w_k.append(current_scale)\n",
    "    \n",
    "w_k"
   ]
  },
  {
   "cell_type": "code",
   "execution_count": null,
   "id": "7b4004ec",
   "metadata": {},
   "outputs": [],
   "source": [
    "start_x = int(0.2 * image_width)\n",
    "start_y = int(0.2 * image_height)\n",
    "\n",
    "image = np.zeros((image_width, image_height))\n",
    "\n",
    "color = (255, 0, 0)\n",
    "\n",
    "for w in w_k:\n",
    "    end_x, end_y = int(start_x + w * image_width), int(start_y + w * image_height)\n",
    "    \n",
    "    image = cv2.rectangle(image, [start_x, start_y], [end_x, end_y], color, thickness = 1)\n",
    "\n",
    "plt.figure(figsize = (20,20))\n",
    "plt.imshow(image)"
   ]
  },
  {
   "cell_type": "code",
   "execution_count": null,
   "id": "67226ac8",
   "metadata": {},
   "outputs": [],
   "source": [
    "300 // 38"
   ]
  },
  {
   "cell_type": "code",
   "execution_count": null,
   "id": "79bac423",
   "metadata": {},
   "outputs": [],
   "source": [
    "image = np.zeros((image_width, image_height))\n",
    "\n",
    "color = (255, 0, 0)\n",
    "\n",
    "prior_boxes = 30\n",
    "\n",
    "count = 0\n",
    "for i in range(1):\n",
    "    for j in range(29, 30):\n",
    "        stride = 10\n",
    "        start_x = j * stride\n",
    "        start_y = i * stride\n",
    "        end_x = prior_boxes + j * stride\n",
    "        end_y = prior_boxes + i * stride\n",
    "        \n",
    "#         print(start_x, start_y, end_x, end_y)\n",
    "        \n",
    "        count+=1\n",
    "\n",
    "        image = cv2.rectangle(image, [start_x, start_y], [end_x, end_y], color, thickness = 1)\n",
    "\n",
    "\n",
    "plt.figure(figsize = (20,20))\n",
    "plt.imshow(image)"
   ]
  },
  {
   "cell_type": "code",
   "execution_count": 6,
   "id": "6d01cacb",
   "metadata": {},
   "outputs": [],
   "source": [
    "from itertools import product as product"
   ]
  },
  {
   "cell_type": "code",
   "execution_count": null,
   "id": "c54ec819",
   "metadata": {},
   "outputs": [],
   "source": [
    "steps = [8, 16, 30, 60, 100, 300]\n",
    "steps = [8, 16, 32, 64, 100, 300]\n",
    "min_sizes = [30, 60, 111, 162, 213, 264]\n",
    "max_sizes = [60, 111, 162, 213, 264, 315]\n",
    "aspect_ratios = [[2], [2, 3], [2, 3], [2, 3], [2], [2]]"
   ]
  },
  {
   "cell_type": "code",
   "execution_count": null,
   "id": "296ccaaf",
   "metadata": {},
   "outputs": [],
   "source": [
    "mean = []\n",
    "\n",
    "\n",
    "for k, f in enumerate(feature_map_shapes):\n",
    "    if k == 0:\n",
    "        for i, j in product(range(f), repeat=2):\n",
    "#             f_k = image_height / steps[k]\n",
    "            f_k = f\n",
    "\n",
    "            cx = (j + 0.5) / f_k\n",
    "            cy = (i + 0.5) / f_k\n",
    "    #         s_k = min_sizes[k]/image_height\n",
    "            s_k = calculate_scale_of_default_boxes(k, m = 6)\n",
    "            mean += [cx, cy, s_k, s_k]\n",
    "\n",
    "            # aspect_ratio: 1\n",
    "            # rel size: sqrt(s_k * s_(k+1))\n",
    "            s_k_prime = np.sqrt(s_k * calculate_scale_of_default_boxes(k + 1, m = 6))\n",
    "    #         s_k_prime = np.sqrt(s_k * (max_sizes[k]/image_height))\n",
    "    #         mean += [cx, cy, s_k_prime, s_k_prime]\n",
    "\n",
    "            # rest of aspect ratios\n",
    "    #         for ar in aspect_ratios[k]:\n",
    "    #             mean += [cx, cy, s_k*np.sqrt(ar), s_k/np.sqrt(ar)]\n",
    "    #             mean += [cx, cy, s_k/np.sqrt(ar), s_k*np.sqrt(ar)]\n"
   ]
  },
  {
   "cell_type": "code",
   "execution_count": null,
   "id": "718eb4b5",
   "metadata": {},
   "outputs": [],
   "source": [
    "prior_boxes = np.array(mean).reshape(-1, 4)"
   ]
  },
  {
   "cell_type": "code",
   "execution_count": null,
   "id": "5633e406",
   "metadata": {},
   "outputs": [],
   "source": [
    "prior_boxes.shape"
   ]
  },
  {
   "cell_type": "code",
   "execution_count": 62,
   "id": "0df50006",
   "metadata": {},
   "outputs": [],
   "source": [
    "def yoloFormattocv(x1, y1, x2, y2, H, W):\n",
    "    bbox_width = x2 * W\n",
    "    bbox_height = y2 * H\n",
    "    center_x = x1 * W\n",
    "    center_y = y1 * H\n",
    "\n",
    "    voc = []\n",
    "\n",
    "    voc.append(center_x - (bbox_width / 2))\n",
    "    voc.append(center_y - (bbox_height / 2))\n",
    "    voc.append(center_x + (bbox_width / 2))\n",
    "    voc.append(center_y + (bbox_height / 2))\n",
    "\n",
    "    return [int(v) for v in voc]"
   ]
  },
  {
   "cell_type": "code",
   "execution_count": null,
   "id": "5e57f436",
   "metadata": {},
   "outputs": [],
   "source": [
    "prior_boxes\n",
    "\n",
    "yoloFormattocv(start_x, start_y, end_x, end_y, 300, 300)"
   ]
  },
  {
   "cell_type": "code",
   "execution_count": null,
   "id": "8b8c54c5",
   "metadata": {},
   "outputs": [],
   "source": [
    "start_x, start_y, end_x, end_y "
   ]
  },
  {
   "cell_type": "code",
   "execution_count": null,
   "id": "04b826e9",
   "metadata": {},
   "outputs": [],
   "source": [
    "yoloFormattocv(0.5       , 0.5       , 0.82704293, 0.82704293, 300, 300)"
   ]
  },
  {
   "cell_type": "code",
   "execution_count": null,
   "id": "1110a3fd",
   "metadata": {},
   "outputs": [],
   "source": [
    "0.01315789 * 300"
   ]
  },
  {
   "cell_type": "code",
   "execution_count": null,
   "id": "8e2fb04e",
   "metadata": {},
   "outputs": [],
   "source": [
    "prior_boxes * 300"
   ]
  },
  {
   "cell_type": "code",
   "execution_count": null,
   "id": "b5db1316",
   "metadata": {},
   "outputs": [],
   "source": [
    "color = (255, 0, 255)\n",
    "image = np.zeros((image_width, image_height))\n",
    "i = 0\n",
    "for pr in prior_boxes:\n",
    "    if i % 50 == 0:\n",
    "\n",
    "        start_x, start_y, end_x, end_y = pr\n",
    "\n",
    "        start_x, start_y, end_x, end_y = yoloFormattocv(start_x, start_y, end_x, end_y, 300, 300)\n",
    "\n",
    "    #     start_x, start_y, end_x, end_y = int(start_x * image_width), int(start_y * image_height), int(end_x * image_width), int(end_y * image_height)\n",
    "    #     print(start_x, start_y, end_x, end_y )\n",
    "        image = cv2.rectangle(image, [start_x, start_y], [end_x, end_y], color, thickness = 1)\n",
    "    i += 1\n",
    "\n",
    "plt.figure(figsize = (20,20))\n",
    "plt.imshow(image)"
   ]
  },
  {
   "cell_type": "code",
   "execution_count": null,
   "id": "ea9f762f",
   "metadata": {},
   "outputs": [],
   "source": [
    "for k, f in enumerate(feature_map_shapes):\n",
    "    f_k = feature_map_shapes[k]\n",
    "    s_k = calculate_scale_of_default_boxes(k, m = 6)\n",
    "    print('f_k: ', f_k)\n",
    "    for i, j in product(range(f), repeat=2):\n",
    "        \n",
    "        cx = (i + 0.5) / f_k\n",
    "        cy = (j + 0.5) / f_k\n",
    "        print(cx, cy, cx * 300, cy * 300, s_k * 300)"
   ]
  },
  {
   "cell_type": "code",
   "execution_count": null,
   "id": "bfe42554",
   "metadata": {},
   "outputs": [],
   "source": [
    "228 / 2"
   ]
  },
  {
   "cell_type": "code",
   "execution_count": null,
   "id": "0f2ad981",
   "metadata": {},
   "outputs": [],
   "source": [
    "prior_boxes = prior_boxes.tolist()"
   ]
  },
  {
   "cell_type": "code",
   "execution_count": null,
   "id": "a01f225c",
   "metadata": {},
   "outputs": [],
   "source": [
    "tf.convert_to_tensor(prior_boxes, dtype=tf.float32)"
   ]
  },
  {
   "cell_type": "code",
   "execution_count": 7,
   "id": "1b13ea97",
   "metadata": {},
   "outputs": [],
   "source": [
    "import sys\n",
    " \n",
    "# setting path\n",
    "sys.path.append('../')"
   ]
  },
  {
   "cell_type": "code",
   "execution_count": 8,
   "id": "8f3307f3",
   "metadata": {},
   "outputs": [],
   "source": [
    "from bbox_utils import *"
   ]
  },
  {
   "cell_type": "code",
   "execution_count": 9,
   "id": "781c8650",
   "metadata": {},
   "outputs": [],
   "source": [
    "feature_map_shapes = [38, 19, 10, 5, 3, 1]\n",
    "aspect_ratios = [\n",
    "    [1, 2, 0.5],\n",
    "    [1, 2, 3, 0.5, 0.333],\n",
    "    [1, 2, 3, 0.5, 0.333],\n",
    "    [1, 2, 3, 0.5, 0.333],\n",
    "    [1, 2, 0.5],\n",
    "    [1, 2, 0.5]\n",
    "]\n",
    "number_of_feature_maps = 6"
   ]
  },
  {
   "cell_type": "code",
   "execution_count": 10,
   "id": "bb7ea691",
   "metadata": {},
   "outputs": [
    {
     "name": "stderr",
     "output_type": "stream",
     "text": [
      "2022-08-25 06:03:36.980561: I tensorflow/core/platform/cpu_feature_guard.cc:193] This TensorFlow binary is optimized with oneAPI Deep Neural Network Library (oneDNN) to use the following CPU instructions in performance-critical operations:  AVX2 FMA\n",
      "To enable them in other operations, rebuild TensorFlow with the appropriate compiler flags.\n"
     ]
    }
   ],
   "source": [
    "prior_boxes = generate_default_boxes(feature_map_shapes, number_of_feature_maps, aspect_ratios)"
   ]
  },
  {
   "cell_type": "code",
   "execution_count": 11,
   "id": "b610853a",
   "metadata": {},
   "outputs": [],
   "source": [
    "prior_box_cx, prior_box_cy, prior_box_width, prior_box_height = tf.split(prior_boxes, num_or_size_splits = 4, axis = 1)"
   ]
  },
  {
   "cell_type": "code",
   "execution_count": 12,
   "id": "1b16f628",
   "metadata": {},
   "outputs": [
    {
     "data": {
      "text/plain": [
       "<tf.Tensor: shape=(8732, 4), dtype=float32, numpy=\n",
       "array([[  3.9473684,   3.9473684,  32.863354 ,  32.863354 ],\n",
       "       [  3.9473684,   3.9473684,  18.       ,  18.       ],\n",
       "       [  3.9473684,   3.9473684,  25.455845 ,  12.727922 ],\n",
       "       ...,\n",
       "       [150.       , 150.       , 228.       , 228.       ],\n",
       "       [150.       , 150.       , 300.       , 161.22034  ],\n",
       "       [150.       , 150.       , 161.22034  , 300.       ]],\n",
       "      dtype=float32)>"
      ]
     },
     "execution_count": 12,
     "metadata": {},
     "output_type": "execute_result"
    }
   ],
   "source": [
    "prior_boxes * 300"
   ]
  },
  {
   "cell_type": "code",
   "execution_count": 45,
   "id": "27757f9e",
   "metadata": {},
   "outputs": [],
   "source": [
    "gt_boxes = tf.constant([\n",
    "    [0., 0., 0.2, 0.2],\n",
    "    [0.8, 0.8, 1.0, 0.9]\n",
    "])"
   ]
  },
  {
   "cell_type": "code",
   "execution_count": 46,
   "id": "7957450d",
   "metadata": {},
   "outputs": [
    {
     "data": {
      "text/plain": [
       "<tf.Tensor: shape=(2, 4), dtype=float32, numpy=\n",
       "array([[0. , 0. , 0.2, 0.2],\n",
       "       [0.8, 0.8, 1. , 0.9]], dtype=float32)>"
      ]
     },
     "execution_count": 46,
     "metadata": {},
     "output_type": "execute_result"
    }
   ],
   "source": [
    "gt_boxes"
   ]
  },
  {
   "cell_type": "code",
   "execution_count": 47,
   "id": "88db125c",
   "metadata": {},
   "outputs": [],
   "source": [
    "boxes = convert_to_box_form(prior_boxes)"
   ]
  },
  {
   "cell_type": "code",
   "execution_count": 48,
   "id": "1645b1cf",
   "metadata": {},
   "outputs": [],
   "source": [
    "box_x_min, box_y_min, box_x_max, box_x_max = tf.split(boxes, 4, axis = 1)\n",
    "gt_boxes_x_min, gt_boxes_y_min, gt_boxes_x_max, gt_boxes_x_max = tf.split(gt_boxes, 4, axis = 1)"
   ]
  },
  {
   "cell_type": "code",
   "execution_count": 177,
   "id": "f5fec143",
   "metadata": {},
   "outputs": [],
   "source": [
    "boxes = tf.constant([\n",
    "    [60, 80, 120, 140],\n",
    "    [100, 110, 200, 180]\n",
    "])\n",
    "\n",
    "gt_boxes = tf.constant([\n",
    "    [0, 0, 20, 20],\n",
    "    [50, 90, 110, 150]\n",
    "])"
   ]
  },
  {
   "cell_type": "code",
   "execution_count": 183,
   "id": "8a57dcb9",
   "metadata": {},
   "outputs": [],
   "source": [
    "box_x_min, box_y_min, box_x_max, box_y_max = tf.split(boxes, 4, axis = 1)\n",
    "gt_boxes_x_min, gt_boxes_y_min, gt_boxes_x_max, gt_boxes_y_max = tf.split(gt_boxes, 4, axis = 1)\n",
    "\n",
    "intersection_x_min = tf.maximum(box_x_min, tf.transpose(gt_boxes_x_min))\n",
    "intersection_y_min = tf.maximum(box_y_min, tf.transpose(gt_boxes_y_min))\n",
    "\n",
    "intersection_x_max = tf.minimum(box_x_max, tf.transpose(gt_boxes_x_max))\n",
    "intersection_y_max = tf.minimum(box_y_max, tf.transpose(gt_boxes_y_max))\n",
    "\n",
    "intersection_area = tf.maximum(intersection_x_max - intersection_x_min, 0) * tf.maximum(intersection_y_max - intersection_y_min, 0)\n",
    "\n",
    "boxes_areas = (box_x_max - box_x_min) * (box_y_max - box_y_min)\n",
    "gt_box_areas = (gt_boxes_x_max - gt_boxes_x_min) * (gt_boxes_y_max - gt_boxes_y_min)\n",
    "\n",
    "union = (boxes_areas + tf.transpose(gt_box_areas)) - intersection_area\n",
    "union = intersection_area / union\n",
    "\n",
    "\n",
    "# union = tf.maximum(intersection_area / union, 0)"
   ]
  },
  {
   "cell_type": "code",
   "execution_count": 184,
   "id": "47ad85c6",
   "metadata": {},
   "outputs": [
    {
     "data": {
      "text/plain": [
       "<tf.Tensor: shape=(2, 2), dtype=float64, numpy=\n",
       "array([[0.        , 0.53191489],\n",
       "       [0.        , 0.03921569]])>"
      ]
     },
     "execution_count": 184,
     "metadata": {},
     "output_type": "execute_result"
    }
   ],
   "source": [
    "union"
   ]
  },
  {
   "cell_type": "code",
   "execution_count": 185,
   "id": "e25c80d8",
   "metadata": {},
   "outputs": [
    {
     "data": {
      "text/plain": [
       "array([0.        , 0.03921569])"
      ]
     },
     "execution_count": 185,
     "metadata": {},
     "output_type": "execute_result"
    }
   ],
   "source": [
    "union[1, :].numpy()"
   ]
  },
  {
   "cell_type": "code",
   "execution_count": 186,
   "id": "f66e90a0",
   "metadata": {},
   "outputs": [
    {
     "data": {
      "text/plain": [
       "<tf.Tensor: shape=(2,), dtype=int64, numpy=array([0, 0])>"
      ]
     },
     "execution_count": 186,
     "metadata": {},
     "output_type": "execute_result"
    }
   ],
   "source": [
    "tf.math.argmax(union, axis = 0)"
   ]
  },
  {
   "cell_type": "code",
   "execution_count": 163,
   "id": "092cb014",
   "metadata": {},
   "outputs": [
    {
     "data": {
      "text/plain": [
       "<matplotlib.image.AxesImage at 0x165870070>"
      ]
     },
     "execution_count": 163,
     "metadata": {},
     "output_type": "execute_result"
    },
    {
     "data": {
      "image/png": "[encoded data removed]",
      "text/plain": [
       "<Figure size 1440x1440 with 1 Axes>"
      ]
     },
     "metadata": {
      "needs_background": "light"
     },
     "output_type": "display_data"
    }
   ],
   "source": [
    "image = np.ones((image_width, image_height))\n",
    "\n",
    "image = cv2.rectangle(image, [60, 80], [120, 140], color, thickness = 1)\n",
    "\n",
    "image = cv2.rectangle(image, [50, 90], [110, 150], (100, 100, 1), thickness = 1)\n",
    "\n",
    "image = cv2.rectangle(image, [100, 110], [200, 180], color, thickness = 1)\n",
    "\n",
    "plt.figure(figsize = (20,20))\n",
    "plt.imshow(image)"
   ]
  },
  {
   "cell_type": "code",
   "execution_count": 173,
   "id": "b73bcecf",
   "metadata": {},
   "outputs": [
    {
     "data": {
      "text/plain": [
       "<matplotlib.image.AxesImage at 0x168353370>"
      ]
     },
     "execution_count": 173,
     "metadata": {},
     "output_type": "execute_result"
    },
    {
     "data": {
      "image/png": "[encoded data removed]",
      "text/plain": [
       "<Figure size 1440x1440 with 1 Axes>"
      ]
     },
     "metadata": {
      "needs_background": "light"
     },
     "output_type": "display_data"
    }
   ],
   "source": [
    "gt_color = (100, 100, 0)\n",
    "color = (255, 0, 0)\n",
    "\n",
    "image = np.ones((image_width, image_height))\n",
    "\n",
    "# draw gt_boxes\n",
    "for gt in gt_boxes:\n",
    "    start_x, start_y, end_x, end_y = gt.numpy()\n",
    "\n",
    "#     start_x, start_y, end_x, end_y = int(start_x * image_width), int(start_y * image_height), int(end_x * image_width), int(end_y * image_height)\n",
    "#     print(start_x, start_y, end_x, end_y )\n",
    "    image = cv2.rectangle(image, [start_x, start_y], [end_x, end_y], gt_color, thickness = 1)\n",
    "    \n",
    "for m in tf.math.argmax(union, axis = 0):\n",
    "    start_x, start_y, end_x, end_y = boxes[m, :].numpy()\n",
    "    \n",
    "#     start_x, start_y, end_x, end_y = yoloFormattocv(start_x, start_y, end_x, end_y, image_width, image_height)\n",
    "    \n",
    "    image = cv2.rectangle(image, [start_x, start_y], [end_x, end_y], color, thickness = 1)\n",
    "    \n",
    "plt.figure(figsize = (20,20))\n",
    "plt.imshow(image)"
   ]
  },
  {
   "cell_type": "code",
   "execution_count": 167,
   "id": "2333715e",
   "metadata": {},
   "outputs": [
    {
     "data": {
      "text/plain": [
       "(0.013157895, 0.013157895, 0.10954451, 0.10954451)"
      ]
     },
     "execution_count": 167,
     "metadata": {},
     "output_type": "execute_result"
    }
   ],
   "source": [
    "start_x, start_y, end_x, end_y"
   ]
  },
  {
   "cell_type": "code",
   "execution_count": null,
   "id": "8943966c",
   "metadata": {},
   "outputs": [],
   "source": []
  }
 ],
 "metadata": {
  "kernelspec": {
   "display_name": "Python 3 (ipykernel)",
   "language": "python",
   "name": "python3"
  },
  "language_info": {
   "codemirror_mode": {
    "name": "ipython",
    "version": 3
   },
   "file_extension": ".py",
   "mimetype": "text/x-python",
   "name": "python",
   "nbconvert_exporter": "python",
   "pygments_lexer": "ipython3",
   "version": "3.9.10"
  }
 },
 "nbformat": 4,
 "nbformat_minor": 5
}
