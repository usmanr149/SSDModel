{
 "cells": [
  {
   "cell_type": "code",
   "execution_count": 1,
   "id": "20226762",
   "metadata": {},
   "outputs": [],
   "source": [
    "import tensorflow as tf\n",
    "import numpy as np\n",
    "import matplotlib.pyplot as plt\n",
    "\n",
    "import cv2\n",
    "\n",
    "%load_ext autoreload\n",
    "%autoreload 2\n",
    "\n",
    "def yoloFormattocv(x1, y1, x2, y2, H, W):\n",
    "    bbox_width = x2 * W\n",
    "    bbox_height = y2 * H\n",
    "    center_x = x1 * W\n",
    "    center_y = y1 * H\n",
    "\n",
    "    voc = []\n",
    "\n",
    "    voc.append(center_x - (bbox_width / 2))\n",
    "    voc.append(center_y - (bbox_height / 2))\n",
    "    voc.append(center_x + (bbox_width / 2))\n",
    "    voc.append(center_y + (bbox_height / 2))\n",
    "\n",
    "    return [int(v) for v in voc]"
   ]
  },
  {
   "cell_type": "code",
   "execution_count": 2,
   "id": "d8625968",
   "metadata": {},
   "outputs": [],
   "source": [
    "import sys\n",
    " \n",
    "# setting path\n",
    "sys.path.append('../')"
   ]
  },
  {
   "cell_type": "code",
   "execution_count": 3,
   "id": "4cdbd227",
   "metadata": {},
   "outputs": [],
   "source": [
    "from bbox_utils import *"
   ]
  },
  {
   "cell_type": "code",
   "execution_count": 4,
   "id": "dba250d3",
   "metadata": {},
   "outputs": [],
   "source": [
    "feature_map_shapes = [38, 19, 10, 5, 3, 1]\n",
    "aspect_ratios = [\n",
    "    [1, 2, 0.5],\n",
    "    [1, 2, 3, 0.5, 0.333],\n",
    "    [1, 2, 3, 0.5, 0.333],\n",
    "    [1, 2, 3, 0.5, 0.333],\n",
    "    [1, 2, 0.5],\n",
    "    [1, 2, 0.5]\n",
    "]\n",
    "number_of_feature_maps = 6"
   ]
  },
  {
   "cell_type": "code",
   "execution_count": 5,
   "id": "0d7cd36a",
   "metadata": {},
   "outputs": [
    {
     "name": "stderr",
     "output_type": "stream",
     "text": [
      "2022-08-25 17:35:03.820975: I tensorflow/core/platform/cpu_feature_guard.cc:193] This TensorFlow binary is optimized with oneAPI Deep Neural Network Library (oneDNN) to use the following CPU instructions in performance-critical operations:  AVX2 FMA\n",
      "To enable them in other operations, rebuild TensorFlow with the appropriate compiler flags.\n"
     ]
    }
   ],
   "source": [
    "prior_boxes = generate_default_boxes(feature_map_shapes, number_of_feature_maps, aspect_ratios)"
   ]
  },
  {
   "cell_type": "code",
   "execution_count": 6,
   "id": "462566ec",
   "metadata": {},
   "outputs": [],
   "source": [
    "boxes = convert_to_box_form(prior_boxes)"
   ]
  },
  {
   "cell_type": "code",
   "execution_count": 7,
   "id": "4cbedff8",
   "metadata": {},
   "outputs": [],
   "source": [
    "gt_boxes = tf.constant([[\n",
    "    [0.5, 0.5, 0.8, 0.9],\n",
    "    [0.1, 0.8, 0.2, 0.9]\n",
    "]\n",
    "])\n",
    "\n",
    "gt_labels = tf.constant([\n",
    "            [1, 2]\n",
    "])\n",
    "\n",
    "threshold = 0.5\n",
    "number_of_labels = 20"
   ]
  },
  {
   "cell_type": "code",
   "execution_count": 8,
   "id": "f7051c34",
   "metadata": {},
   "outputs": [
    {
     "data": {
      "text/plain": [
       "<tf.Tensor: shape=(1, 2), dtype=float32, numpy=array([[0.5, 0.1]], dtype=float32)>"
      ]
     },
     "execution_count": 8,
     "metadata": {},
     "output_type": "execute_result"
    }
   ],
   "source": [
    "gt_boxes[:, :, 0]"
   ]
  },
  {
   "cell_type": "code",
   "execution_count": 9,
   "id": "0cf65a0c",
   "metadata": {},
   "outputs": [],
   "source": [
    "gt_boxes_offset_to_prior, gt_labels_map_to_prior = match_priors_with_gt(prior_boxes, boxes, gt_boxes, \n",
    "                                                                        gt_labels, number_of_labels, threshold)"
   ]
  },
  {
   "cell_type": "code",
   "execution_count": 10,
   "id": "c2ea3fce",
   "metadata": {},
   "outputs": [
    {
     "data": {
      "text/plain": [
       "<tf.Tensor: shape=(1, 8732, 5), dtype=float32, numpy=\n",
       "array([[[0., 0., 0., 0., 0.],\n",
       "        [0., 0., 0., 0., 0.],\n",
       "        [0., 0., 0., 0., 0.],\n",
       "        ...,\n",
       "        [0., 0., 0., 0., 0.],\n",
       "        [0., 0., 0., 0., 0.],\n",
       "        [0., 0., 0., 0., 0.]]], dtype=float32)>"
      ]
     },
     "execution_count": 10,
     "metadata": {},
     "output_type": "execute_result"
    }
   ],
   "source": [
    "gt_boxes_offset_to_prior"
   ]
  },
  {
   "cell_type": "code",
   "execution_count": 11,
   "id": "1bb56444",
   "metadata": {},
   "outputs": [
    {
     "data": {
      "text/plain": [
       "<tf.Tensor: shape=(1, 8732), dtype=float32, numpy=array([[0., 0., 0., ..., 0., 0., 0.]], dtype=float32)>"
      ]
     },
     "execution_count": 11,
     "metadata": {},
     "output_type": "execute_result"
    }
   ],
   "source": [
    "gt_boxes_offset_to_prior[:, :, 4]"
   ]
  },
  {
   "cell_type": "code",
   "execution_count": null,
   "id": "0cd599e3",
   "metadata": {},
   "outputs": [],
   "source": [
    "i = 0\n",
    "for gt in gt_boxes_offset_to_prior[0,:,:]:\n",
    "    c_x, c_y, width, height = gt.numpy()\n",
    "    \n",
    "    if c_x != 0 and c_y != 0:\n",
    "        \n",
    "        start_x, start_y, end_x, end_y = boxes[i, :].numpy()\n",
    "    \n",
    "        start_x, start_y, end_x, end_y = int(start_x * image_width), int(start_y * image_height), int(end_x * image_width), int(end_y * image_height)\n",
    "        \n",
    "        print(start_x, start_y, end_x, end_y)\n",
    "    i+=1"
   ]
  },
  {
   "cell_type": "code",
   "execution_count": null,
   "id": "47284dfb",
   "metadata": {},
   "outputs": [],
   "source": [
    "boxes[1040,:]"
   ]
  },
  {
   "cell_type": "code",
   "execution_count": null,
   "id": "c581ba74",
   "metadata": {},
   "outputs": [],
   "source": [
    "image_width = 300\n",
    "image_height = 300\n",
    "gt_color = (100, 100, 0)\n",
    "color = (255, 0, 0)\n",
    "\n",
    "image = np.ones((image_width, image_height))\n",
    "\n",
    "i = 0\n",
    "for gt in gt_boxes_offset_to_prior[0,:,:]:\n",
    "    c_x, c_y, width, height = gt.numpy()\n",
    "    \n",
    "    if c_x != 0 and c_y != 0:\n",
    "        \n",
    "        start_x, start_y, end_x, end_y = boxes[i, :].numpy()\n",
    "    \n",
    "        start_x, start_y, end_x, end_y = int(start_x * image_width), int(start_y * image_height), int(end_x * image_width), int(end_y * image_height)\n",
    "\n",
    "        image = cv2.rectangle(image, [start_x, start_y], [end_x, end_y], color, thickness = 1)\n",
    "    i+=1\n",
    "    \n",
    "# draw gt_boxes\n",
    "for gt in gt_boxes[0,:,:]:\n",
    "    start_x, start_y, end_x, end_y = gt.numpy()\n",
    "\n",
    "    start_x, start_y, end_x, end_y = int(start_x * image_width), int(start_y * image_height), int(end_x * image_width), int(end_y * image_height)\n",
    "#     print(start_x, start_y, end_x, end_y )\n",
    "    image = cv2.rectangle(image, [start_x, start_y], [end_x, end_y], gt_color, thickness = 2)\n",
    "\n",
    "plt.figure(figsize = (20,20))\n",
    "plt.imshow(image)"
   ]
  },
  {
   "cell_type": "code",
   "execution_count": null,
   "id": "ac67ead0",
   "metadata": {},
   "outputs": [],
   "source": []
  },
  {
   "cell_type": "code",
   "execution_count": 13,
   "id": "95d5111a",
   "metadata": {},
   "outputs": [
    {
     "data": {
      "text/plain": [
       "<tf.Tensor: shape=(1, 8732, 19), dtype=float32, numpy=\n",
       "array([[[0., 0., 0., ..., 0., 0., 0.],\n",
       "        [0., 0., 0., ..., 0., 0., 0.],\n",
       "        [0., 0., 0., ..., 0., 0., 0.],\n",
       "        ...,\n",
       "        [0., 0., 0., ..., 0., 0., 0.],\n",
       "        [0., 0., 0., ..., 0., 0., 0.],\n",
       "        [0., 0., 0., ..., 0., 0., 0.]]], dtype=float32)>"
      ]
     },
     "execution_count": 13,
     "metadata": {},
     "output_type": "execute_result"
    }
   ],
   "source": [
    "gt_labels_map_to_prior[..., 1:]"
   ]
  },
  {
   "cell_type": "code",
   "execution_count": 17,
   "id": "3e223812",
   "metadata": {},
   "outputs": [
    {
     "data": {
      "text/plain": [
       "<tf.Tensor: shape=(1, 8732, 19), dtype=bool, numpy=\n",
       "array([[[False, False, False, ..., False, False, False],\n",
       "        [False, False, False, ..., False, False, False],\n",
       "        [False, False, False, ..., False, False, False],\n",
       "        ...,\n",
       "        [False, False, False, ..., False, False, False],\n",
       "        [False, False, False, ..., False, False, False],\n",
       "        [False, False, False, ..., False, False, False]]])>"
      ]
     },
     "execution_count": 17,
     "metadata": {},
     "output_type": "execute_result"
    }
   ],
   "source": [
    "tf.equal(gt_labels_map_to_prior[..., 1:], tf.constant(1.0))"
   ]
  },
  {
   "cell_type": "code",
   "execution_count": 18,
   "id": "6d5b6c23",
   "metadata": {},
   "outputs": [],
   "source": [
    "pos_cond = tf.reduce_any( tf.equal(gt_labels_map_to_prior[..., 1:], tf.constant(1.0)), axis = 2)"
   ]
  },
  {
   "cell_type": "code",
   "execution_count": 19,
   "id": "7d44a321",
   "metadata": {},
   "outputs": [],
   "source": [
    "pos_mask = tf.cast(pos_cond, dtype=tf.float32)"
   ]
  },
  {
   "cell_type": "code",
   "execution_count": 20,
   "id": "3c76b574",
   "metadata": {},
   "outputs": [
    {
     "data": {
      "text/plain": [
       "<tf.Tensor: shape=(1, 8732), dtype=float32, numpy=array([[0., 0., 0., ..., 0., 0., 0.]], dtype=float32)>"
      ]
     },
     "execution_count": 20,
     "metadata": {},
     "output_type": "execute_result"
    }
   ],
   "source": [
    "pos_mask"
   ]
  },
  {
   "cell_type": "code",
   "execution_count": 23,
   "id": "54d3ce66",
   "metadata": {},
   "outputs": [
    {
     "data": {
      "text/plain": [
       "<tf.Tensor: shape=(1,), dtype=float32, numpy=array([16.], dtype=float32)>"
      ]
     },
     "execution_count": 23,
     "metadata": {},
     "output_type": "execute_result"
    }
   ],
   "source": [
    "tf.reduce_sum(pos_mask, axis=1)"
   ]
  },
  {
   "cell_type": "code",
   "execution_count": 27,
   "id": "922cdb4a",
   "metadata": {},
   "outputs": [
    {
     "data": {
      "text/plain": [
       "<tf.Tensor: shape=(3, 1), dtype=int32, numpy=\n",
       "array([[16],\n",
       "       [16],\n",
       "       [16]], dtype=int32)>"
      ]
     },
     "execution_count": 27,
     "metadata": {},
     "output_type": "execute_result"
    }
   ],
   "source": [
    "total_neg_bboxes = tf.cast([16.] * 3, tf.int32)\n",
    "tf.expand_dims(total_neg_bboxes, axis=1)"
   ]
  },
  {
   "cell_type": "code",
   "execution_count": 25,
   "id": "1f3831d4",
   "metadata": {},
   "outputs": [
    {
     "data": {
      "text/plain": [
       "<tf.Tensor: shape=(), dtype=int32, numpy=48>"
      ]
     },
     "execution_count": 25,
     "metadata": {},
     "output_type": "execute_result"
    }
   ],
   "source": [
    "total_neg_bboxes"
   ]
  },
  {
   "cell_type": "code",
   "execution_count": null,
   "id": "cd44708d",
   "metadata": {},
   "outputs": [],
   "source": []
  }
 ],
 "metadata": {
  "kernelspec": {
   "display_name": "Python 3 (ipykernel)",
   "language": "python",
   "name": "python3"
  },
  "language_info": {
   "codemirror_mode": {
    "name": "ipython",
    "version": 3
   },
   "file_extension": ".py",
   "mimetype": "text/x-python",
   "name": "python",
   "nbconvert_exporter": "python",
   "pygments_lexer": "ipython3",
   "version": "3.9.10"
  }
 },
 "nbformat": 4,
 "nbformat_minor": 5
}
