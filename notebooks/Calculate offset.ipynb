{
 "cells": [
  {
   "cell_type": "code",
   "execution_count": 1,
   "id": "971a004a",
   "metadata": {},
   "outputs": [],
   "source": [
    "import tensorflow as tf\n",
    "import numpy as np\n",
    "import matplotlib.pyplot as plt\n",
    "\n",
    "import cv2\n",
    "\n",
    "%load_ext autoreload\n",
    "%autoreload 2\n",
    "\n",
    "def yoloFormattocv(x1, y1, x2, y2, H, W):\n",
    "    bbox_width = x2 * W\n",
    "    bbox_height = y2 * H\n",
    "    center_x = x1 * W\n",
    "    center_y = y1 * H\n",
    "\n",
    "    voc = []\n",
    "\n",
    "    voc.append(center_x - (bbox_width / 2))\n",
    "    voc.append(center_y - (bbox_height / 2))\n",
    "    voc.append(center_x + (bbox_width / 2))\n",
    "    voc.append(center_y + (bbox_height / 2))\n",
    "\n",
    "    return [int(v) for v in voc]"
   ]
  },
  {
   "cell_type": "code",
   "execution_count": 2,
   "id": "605bfe43",
   "metadata": {},
   "outputs": [],
   "source": [
    "import sys\n",
    " \n",
    "# setting path\n",
    "sys.path.append('../')"
   ]
  },
  {
   "cell_type": "code",
   "execution_count": 3,
   "id": "2c9c228e",
   "metadata": {},
   "outputs": [],
   "source": [
    "from bbox_utils import *"
   ]
  },
  {
   "cell_type": "code",
   "execution_count": 4,
   "id": "72a6689d",
   "metadata": {},
   "outputs": [],
   "source": [
    "feature_map_shapes = [38, 19, 10, 5, 3, 1]\n",
    "aspect_ratios = [\n",
    "    [1, 2, 0.5],\n",
    "    [1, 2, 3, 0.5, 0.333],\n",
    "    [1, 2, 3, 0.5, 0.333],\n",
    "    [1, 2, 3, 0.5, 0.333],\n",
    "    [1, 2, 0.5],\n",
    "    [1, 2, 0.5]\n",
    "]\n",
    "number_of_feature_maps = 6"
   ]
  },
  {
   "cell_type": "code",
   "execution_count": 5,
   "id": "1cb5adbe",
   "metadata": {},
   "outputs": [
    {
     "name": "stderr",
     "output_type": "stream",
     "text": [
      "2022-08-25 12:51:04.613264: I tensorflow/core/platform/cpu_feature_guard.cc:193] This TensorFlow binary is optimized with oneAPI Deep Neural Network Library (oneDNN) to use the following CPU instructions in performance-critical operations:  AVX2 FMA\n",
      "To enable them in other operations, rebuild TensorFlow with the appropriate compiler flags.\n"
     ]
    }
   ],
   "source": [
    "prior_boxes = generate_default_boxes(feature_map_shapes, number_of_feature_maps, aspect_ratios)"
   ]
  },
  {
   "cell_type": "code",
   "execution_count": 6,
   "id": "1e432b99",
   "metadata": {},
   "outputs": [],
   "source": [
    "boxes = convert_to_box_form(prior_boxes)"
   ]
  },
  {
   "cell_type": "code",
   "execution_count": 26,
   "id": "75f1c470",
   "metadata": {},
   "outputs": [],
   "source": [
    "gt_boxes = tf.constant([[\n",
    "    [0.5, 0.5, 0.8, 0.9],\n",
    "    [0.1, 0.8, 0.2, 0.9]\n",
    "]\n",
    "])\n",
    "\n",
    "gt_labels = tf.constant([\n",
    "            [1, 2]\n",
    "])\n",
    "\n",
    "threshold = 0.5\n",
    "number_of_labels = 20"
   ]
  },
  {
   "cell_type": "code",
   "execution_count": 27,
   "id": "21f0202f",
   "metadata": {},
   "outputs": [
    {
     "data": {
      "text/plain": [
       "<tf.Tensor: shape=(1, 2), dtype=float32, numpy=array([[0.5, 0.1]], dtype=float32)>"
      ]
     },
     "execution_count": 27,
     "metadata": {},
     "output_type": "execute_result"
    }
   ],
   "source": [
    "gt_boxes[:, :, 0]"
   ]
  },
  {
   "cell_type": "code",
   "execution_count": 28,
   "id": "2056edad",
   "metadata": {},
   "outputs": [],
   "source": [
    "gt_boxes_offset_to_prior, gt_labels_map_to_prior = match_priors_with_gt(prior_boxes, boxes, gt_boxes, \n",
    "                                                                        gt_labels, number_of_labels, threshold)"
   ]
  },
  {
   "cell_type": "code",
   "execution_count": 35,
   "id": "7317b2a2",
   "metadata": {},
   "outputs": [
    {
     "name": "stdout",
     "output_type": "stream",
     "text": [
      "26 232 59 265\n",
      "26 240 59 273\n",
      "34 240 67 273\n",
      "158 158 236 236\n",
      "158 174 236 252\n",
      "158 189 236 268\n",
      "159 168 260 300\n",
      "168 145 251 300\n"
     ]
    }
   ],
   "source": [
    "i = 0\n",
    "for gt in gt_boxes_offset_to_prior[0,:,:]:\n",
    "    c_x, c_y, width, height = gt.numpy()\n",
    "    \n",
    "    if c_x != 0 and c_y != 0:\n",
    "        \n",
    "        start_x, start_y, end_x, end_y = boxes[i, :].numpy()\n",
    "    \n",
    "        start_x, start_y, end_x, end_y = int(start_x * image_width), int(start_y * image_height), int(end_x * image_width), int(end_y * image_height)\n",
    "        \n",
    "        print(start_x, start_y, end_x, end_y)\n",
    "    i+=1"
   ]
  },
  {
   "cell_type": "code",
   "execution_count": 34,
   "id": "4532e27a",
   "metadata": {},
   "outputs": [
    {
     "data": {
      "text/plain": [
       "<tf.Tensor: shape=(4,), dtype=float32, numpy=array([0.11628038, 0.8004909 , 0.22582489, 0.91003543], dtype=float32)>"
      ]
     },
     "execution_count": 34,
     "metadata": {},
     "output_type": "execute_result"
    }
   ],
   "source": [
    "boxes[1040,:]"
   ]
  },
  {
   "cell_type": "code",
   "execution_count": 30,
   "id": "1975e218",
   "metadata": {},
   "outputs": [
    {
     "data": {
      "text/plain": [
       "<matplotlib.image.AxesImage at 0x164df7820>"
      ]
     },
     "execution_count": 30,
     "metadata": {},
     "output_type": "execute_result"
    },
    {
     "data": {
      "image/png": "[encoded data removed]",
      "text/plain": [
       "<Figure size 1440x1440 with 1 Axes>"
      ]
     },
     "metadata": {
      "needs_background": "light"
     },
     "output_type": "display_data"
    }
   ],
   "source": [
    "image_width = 300\n",
    "image_height = 300\n",
    "gt_color = (100, 100, 0)\n",
    "color = (255, 0, 0)\n",
    "\n",
    "image = np.ones((image_width, image_height))\n",
    "\n",
    "i = 0\n",
    "for gt in gt_boxes_offset_to_prior[0,:,:]:\n",
    "    c_x, c_y, width, height = gt.numpy()\n",
    "    \n",
    "    if c_x != 0 and c_y != 0:\n",
    "        \n",
    "        start_x, start_y, end_x, end_y = boxes[i, :].numpy()\n",
    "    \n",
    "        start_x, start_y, end_x, end_y = int(start_x * image_width), int(start_y * image_height), int(end_x * image_width), int(end_y * image_height)\n",
    "\n",
    "        image = cv2.rectangle(image, [start_x, start_y], [end_x, end_y], color, thickness = 1)\n",
    "    i+=1\n",
    "    \n",
    "# draw gt_boxes\n",
    "for gt in gt_boxes[0,:,:]:\n",
    "    start_x, start_y, end_x, end_y = gt.numpy()\n",
    "\n",
    "    start_x, start_y, end_x, end_y = int(start_x * image_width), int(start_y * image_height), int(end_x * image_width), int(end_y * image_height)\n",
    "#     print(start_x, start_y, end_x, end_y )\n",
    "    image = cv2.rectangle(image, [start_x, start_y], [end_x, end_y], gt_color, thickness = 2)\n",
    "\n",
    "plt.figure(figsize = (20,20))\n",
    "plt.imshow(image)"
   ]
  },
  {
   "cell_type": "code",
   "execution_count": null,
   "id": "b6ab5758",
   "metadata": {},
   "outputs": [],
   "source": []
  },
  {
   "cell_type": "code",
   "execution_count": null,
   "id": "ef1a816c",
   "metadata": {},
   "outputs": [],
   "source": [
    "boxes"
   ]
  },
  {
   "cell_type": "code",
   "execution_count": null,
   "id": "43ffe0f3",
   "metadata": {},
   "outputs": [],
   "source": [
    "tf.transpose(boxes, perm=[0, 2, 1])"
   ]
  },
  {
   "cell_type": "code",
   "execution_count": null,
   "id": "4b021f53",
   "metadata": {},
   "outputs": [],
   "source": []
  }
 ],
 "metadata": {
  "kernelspec": {
   "display_name": "Python 3 (ipykernel)",
   "language": "python",
   "name": "python3"
  },
  "language_info": {
   "codemirror_mode": {
    "name": "ipython",
    "version": 3
   },
   "file_extension": ".py",
   "mimetype": "text/x-python",
   "name": "python",
   "nbconvert_exporter": "python",
   "pygments_lexer": "ipython3",
   "version": "3.9.10"
  }
 },
 "nbformat": 4,
 "nbformat_minor": 5
}
