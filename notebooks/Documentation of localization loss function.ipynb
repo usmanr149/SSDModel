{
 "cells": [
  {
   "cell_type": "code",
   "execution_count": 2,
   "id": "c9f10aba",
   "metadata": {},
   "outputs": [],
   "source": [
    "import tensorflow as tf\n",
    "\n",
    "%load_ext autoreload\n",
    "%autoreload 2\n",
    "\n",
    "import sys\n",
    " \n",
    "# setting path\n",
    "sys.path.append('../read_data/')\n",
    "sys.path.append('../')\n",
    "\n",
    "import numpy as np\n",
    "import matplotlib.pyplot as plt\n",
    "\n",
    "import cv2"
   ]
  },
  {
   "cell_type": "code",
   "execution_count": 3,
   "id": "4cd1075f",
   "metadata": {},
   "outputs": [],
   "source": [
    "from bbox_utils import match_priors_with_gt, box_overlap_iou, convert_to_centre_dimensions_form"
   ]
  },
  {
   "cell_type": "markdown",
   "id": "318b3113",
   "metadata": {},
   "source": [
    "Create a 32 x 32 grid and initialize some ground truth boxes.\n",
    "\n",
    "The localization loss should only be calculated over ground truth box that where IOU > 0.5 over the default box.\n",
    "\n",
    "The tensorflow huberloss function averages the loss by the length of the column."
   ]
  },
  {
   "cell_type": "code",
   "execution_count": 6,
   "id": "b59de9b3",
   "metadata": {},
   "outputs": [],
   "source": [
    "# Assuse we have a 8 x 8 box divided into 2 x 2 prior boxes\n",
    "\n",
    "image_size = 32\n",
    "boxes = []\n",
    "prior_boxes = []\n",
    "default_box_size  = 4\n",
    "\n",
    "for i in range(0, image_size // default_box_size,):\n",
    "    for j in range(0, image_size // default_box_size):\n",
    "        boxes.append([ j * default_box_size, i * default_box_size, \n",
    "                            (j + 1) * default_box_size, (i + 1) * default_box_size ])\n",
    "        prior_boxes.append( [ j * default_box_size + default_box_size // 2, i * default_box_size + default_box_size // 2, default_box_size, default_box_size ] )\n",
    "        \n",
    "gt_boxes = [[6, 10, 12, 20]]\n",
    "# gt_boxes = [[4, 4, 9, 9], [9, 9, 14 , 14], [24, 24, 29, 29]]\n",
    "\n"
   ]
  },
  {
   "cell_type": "code",
   "execution_count": 7,
   "id": "8f92618e",
   "metadata": {},
   "outputs": [
    {
     "name": "stderr",
     "output_type": "stream",
     "text": [
      "Clipping input data to the valid range for imshow with RGB data ([0..1] for floats or [0..255] for integers).\n"
     ]
    },
    {
     "data": {
      "text/plain": [
       "<matplotlib.image.AxesImage at 0x161f11550>"
      ]
     },
     "execution_count": 7,
     "metadata": {},
     "output_type": "execute_result"
    },
    {
     "data": {
      "image/png": "[encoded data removed]",
      "text/plain": [
       "<Figure size 432x288 with 1 Axes>"
      ]
     },
     "metadata": {
      "needs_background": "light"
     },
     "output_type": "display_data"
    }
   ],
   "source": [
    "image = np.ones((image_size + 1, image_size + 1, 3))\n",
    "\n",
    "for box in boxes:\n",
    "    \n",
    "    start_x, start_y, end_x, end_y = box\n",
    "    \n",
    "    image = cv2.rectangle(image, [start_x, start_y], [end_x, end_y], (255, 0 , 0), thickness = 1)\n",
    "\n",
    "for box in gt_boxes:\n",
    "    \n",
    "    start_x, start_y, end_x, end_y = box  \n",
    "    image = cv2.rectangle(image, [start_x, start_y], [end_x, end_y], (255, 0, 255), thickness = 1)\n",
    "\n",
    "plt.imshow(image)"
   ]
  },
  {
   "cell_type": "code",
   "execution_count": 9,
   "id": "9ae61ee0",
   "metadata": {},
   "outputs": [],
   "source": [
    "boxes = np.array(boxes, np.float32) / image_size\n",
    "prior_boxes = np.array(prior_boxes, np.float32) / image_size\n",
    "\n",
    "\n",
    "# gt_boxes = [[4, 4, 9, 9], [9, 9, 14 , 14], [24, 24, 29, 29]]\n",
    "gt_boxes = [[6, 10, 12, 20]]\n",
    "# gt_labels = [1, 2, 1]\n",
    "gt_labels = [1]\n",
    "\n",
    "gt_boxes_normalized = tf.constant([gt_boxes], tf.float32) / image_size\n",
    "\n",
    "gt_labels = tf.constant([gt_labels])\n",
    "\n",
    "actual_deltas, actual_labels = match_priors_with_gt(prior_boxes, boxes, gt_boxes_normalized, gt_labels, 3)"
   ]
  },
  {
   "cell_type": "code",
   "execution_count": 10,
   "id": "8edf3ff2",
   "metadata": {},
   "outputs": [
    {
     "data": {
      "text/plain": [
       "-0.08333333333333333"
      ]
     },
     "execution_count": 10,
     "metadata": {},
     "output_type": "execute_result"
    }
   ],
   "source": [
    "-0.015625 / 0.1875"
   ]
  },
  {
   "cell_type": "code",
   "execution_count": 11,
   "id": "ef4c49f7",
   "metadata": {},
   "outputs": [
    {
     "data": {
      "text/plain": [
       "<tf.Tensor: shape=(1, 64, 5), dtype=float32, numpy=\n",
       "array([[[0., 0., 0., 0., 0.],\n",
       "        [0., 0., 0., 0., 0.],\n",
       "        [0., 0., 0., 0., 0.],\n",
       "        [0., 0., 0., 0., 0.],\n",
       "        [0., 0., 0., 0., 0.],\n",
       "        [0., 0., 0., 0., 0.],\n",
       "        [0., 0., 0., 0., 0.],\n",
       "        [0., 0., 0., 0., 0.],\n",
       "        [0., 0., 0., 0., 0.],\n",
       "        [0., 0., 0., 0., 0.],\n",
       "        [0., 0., 0., 0., 0.],\n",
       "        [0., 0., 0., 0., 0.],\n",
       "        [0., 0., 0., 0., 0.],\n",
       "        [0., 0., 0., 0., 0.],\n",
       "        [0., 0., 0., 0., 0.],\n",
       "        [0., 0., 0., 0., 0.],\n",
       "        [0., 0., 0., 0., 0.],\n",
       "        [0., 0., 0., 0., 0.],\n",
       "        [0., 0., 0., 0., 0.],\n",
       "        [0., 0., 0., 0., 0.],\n",
       "        [0., 0., 0., 0., 0.],\n",
       "        [0., 0., 0., 0., 0.],\n",
       "        [0., 0., 0., 0., 0.],\n",
       "        [0., 0., 0., 0., 0.],\n",
       "        [0., 0., 0., 0., 0.],\n",
       "        [0., 0., 0., 0., 0.],\n",
       "        [0., 0., 0., 0., 0.],\n",
       "        [0., 0., 0., 0., 0.],\n",
       "        [0., 0., 0., 0., 0.],\n",
       "        [0., 0., 0., 0., 0.],\n",
       "        [0., 0., 0., 0., 0.],\n",
       "        [0., 0., 0., 0., 0.],\n",
       "        [0., 0., 0., 0., 0.],\n",
       "        [0., 0., 0., 0., 0.],\n",
       "        [0., 0., 0., 0., 0.],\n",
       "        [0., 0., 0., 0., 0.],\n",
       "        [0., 0., 0., 0., 0.],\n",
       "        [0., 0., 0., 0., 0.],\n",
       "        [0., 0., 0., 0., 0.],\n",
       "        [0., 0., 0., 0., 0.],\n",
       "        [0., 0., 0., 0., 0.],\n",
       "        [0., 0., 0., 0., 0.],\n",
       "        [0., 0., 0., 0., 0.],\n",
       "        [0., 0., 0., 0., 0.],\n",
       "        [0., 0., 0., 0., 0.],\n",
       "        [0., 0., 0., 0., 0.],\n",
       "        [0., 0., 0., 0., 0.],\n",
       "        [0., 0., 0., 0., 0.],\n",
       "        [0., 0., 0., 0., 0.],\n",
       "        [0., 0., 0., 0., 0.],\n",
       "        [0., 0., 0., 0., 0.],\n",
       "        [0., 0., 0., 0., 0.],\n",
       "        [0., 0., 0., 0., 0.],\n",
       "        [0., 0., 0., 0., 0.],\n",
       "        [0., 0., 0., 0., 0.],\n",
       "        [0., 0., 0., 0., 0.],\n",
       "        [0., 0., 0., 0., 0.],\n",
       "        [0., 0., 0., 0., 0.],\n",
       "        [0., 0., 0., 0., 0.],\n",
       "        [0., 0., 0., 0., 0.],\n",
       "        [0., 0., 0., 0., 0.],\n",
       "        [0., 0., 0., 0., 0.],\n",
       "        [0., 0., 0., 0., 0.],\n",
       "        [0., 0., 0., 0., 0.]]], dtype=float32)>"
      ]
     },
     "execution_count": 11,
     "metadata": {},
     "output_type": "execute_result"
    }
   ],
   "source": [
    "actual_deltas"
   ]
  },
  {
   "cell_type": "code",
   "execution_count": 12,
   "id": "58920732",
   "metadata": {},
   "outputs": [
    {
     "data": {
      "text/plain": [
       "<tf.Tensor: shape=(2,), dtype=float32, numpy=array([0.00021752, 0.00578268], dtype=float32)>"
      ]
     },
     "execution_count": 12,
     "metadata": {},
     "output_type": "execute_result"
    }
   ],
   "source": [
    "np.random.seed(42)\n",
    "pred_deltas = np.random.rand(1, 64, 4) * np.random.randint(-1, 2, size = (1, 64, 4))\n",
    "\n",
    "pred_deltas[0, 9] = [-0.015, 0.012, 0 , -0.031]\n",
    "pred_deltas[0, 54] = [0.15, 0.12, -0.0123 , -0.04]\n",
    "\n",
    "huber_loss = tf.keras.losses.Huber(\n",
    "    reduction=tf.keras.losses.Reduction.NONE\n",
    ")\n",
    "\n",
    "huber_loss([ [-0.015625, -0.015625, -0.03125 , -0.03125], [0.15, 0.12, -0.0123 , -0.04] ], \n",
    "           [ [-0.015, 0.012, 0 , -0.031], [-0.015625, -0.015625, -0.03125 , -0.03125]])"
   ]
  },
  {
   "cell_type": "code",
   "execution_count": 13,
   "id": "712bae82",
   "metadata": {},
   "outputs": [],
   "source": [
    "from classification_loss import SSDLoss"
   ]
  },
  {
   "cell_type": "code",
   "execution_count": 14,
   "id": "56cc91be",
   "metadata": {},
   "outputs": [
    {
     "data": {
      "text/plain": [
       "<tf.Tensor: shape=(1, 64), dtype=float32, numpy=\n",
       "array([[0., 0., 0., 0., 0., 0., 0., 0., 0., 0., 0., 0., 0., 0., 0., 0.,\n",
       "        0., 0., 0., 0., 0., 0., 0., 0., 0., 0., 0., 0., 0., 0., 0., 0.,\n",
       "        0., 0., 0., 0., 0., 0., 0., 0., 0., 0., 0., 0., 0., 0., 0., 0.,\n",
       "        0., 0., 0., 0., 0., 0., 0., 0., 0., 0., 0., 0., 0., 0., 0., 0.]],\n",
       "      dtype=float32)>"
      ]
     },
     "execution_count": 14,
     "metadata": {},
     "output_type": "execute_result"
    }
   ],
   "source": [
    "loss = SSDLoss()\n",
    "\n",
    "loss.localization_loss(actual_deltas, pred_deltas)"
   ]
  },
  {
   "cell_type": "code",
   "execution_count": null,
   "id": "bcf330d8",
   "metadata": {},
   "outputs": [],
   "source": []
  },
  {
   "cell_type": "code",
   "execution_count": null,
   "id": "3b6e4cbd",
   "metadata": {},
   "outputs": [],
   "source": []
  }
 ],
 "metadata": {
  "kernelspec": {
   "display_name": "Python 3 (ipykernel)",
   "language": "python",
   "name": "python3"
  },
  "language_info": {
   "codemirror_mode": {
    "name": "ipython",
    "version": 3
   },
   "file_extension": ".py",
   "mimetype": "text/x-python",
   "name": "python",
   "nbconvert_exporter": "python",
   "pygments_lexer": "ipython3",
   "version": "3.9.10"
  }
 },
 "nbformat": 4,
 "nbformat_minor": 5
}
